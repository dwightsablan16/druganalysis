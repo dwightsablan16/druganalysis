{
 "cells": [
  {
   "cell_type": "code",
   "execution_count": 26,
   "metadata": {
    "collapsed": false
   },
   "outputs": [
   ],
   "source": [
    "import numpy as np\n",
    "import pandas as pd\n",
    "import matplotlib.pyplot as plt\n",
    "from itertools import compress\n",
    "\n",
    "from datetime import datetime\n",
    "from dateutil.parser import parse\n",
    "\n",
    "import math\n",
    "import os\n",
    "import copy\n",
    "import pickle\n",
    "\n",
    "import drugLookup"
   ]
  },
  {
   "cell_type": "code",
   "execution_count": 27,
   "metadata": {
    "collapsed": false
   },
   "outputs": [
   ],
   "source": [
    "# Read in data (from pickle file)\n",
    "file = open('train_set_filtered','rb')\n",
    "train_set = pickle.load(file)\n",
    "\n",
    "file = open('test_set_filtered','rb')\n",
    "test_set = pickle.load(file)"
   ]
  },
  {
   "cell_type": "code",
   "execution_count": 97,
   "metadata": {
    "collapsed": false
   },
   "outputs": [
   ],
   "source": [
    "d_train = list(train_set['drug_prediction'])\n",
    "v_train = list(train_set['vendor_name'])\n",
    "\n",
    "d_test = list(test_set['drug_prediction'])\n",
    "v_test = list(test_set['vendor_name'])"
   ]
  },
  {
   "cell_type": "markdown",
   "metadata": {
    "collapsed": false
   },
   "source": [
    "## Compute 'inverse' emission probability\n",
    "I.e. compute $P(v|d)$, the probability of each vendor given a specific drug.\n",
    "Use $P(v~|~d) = \\frac{P(d~|~v){P(v)}}{P(d)}$."
   ]
  },
  {
   "cell_type": "code",
   "execution_count": 29,
   "metadata": {
    "collapsed": false
   },
   "outputs": [
   ],
   "source": [
    "# Function gets tally of drugs sold for given vendor\n",
    "def getVendorsForDrug(drug):\n",
    "#     Args: Name of a drug (string)\n",
    "#     Returns: series, representing proportion of total for each vendor\n",
    "    drug_subset = train_set[train_set['drug_prediction'] == drug]\n",
    "    drug_vendor_tally = drug_subset['vendor_name'].groupby(drug_subset['vendor_name']).count()\n",
    "    return(drug_vendor_tally/np.sum(drug_vendor_tally))\n",
    "\n",
    "# Function gets tally of drugs sold for given vendor\n",
    "def getDrugsForVendor(vendor_name):\n",
    "#     Args: Name of a vendor (string)\n",
    "#     Returns: series, representing proportion of total for each drug\n",
    "    vendor_subset = train_set[train_set['vendor_name'] == vendor_name]\n",
    "    vendor_drug_tally = vendor_subset['drug_prediction'].groupby(vendor_subset['drug_prediction']).count()\n",
    "    return(vendor_drug_tally/np.sum(vendor_drug_tally))"
   ]
  },
  {
   "cell_type": "code",
   "execution_count": 30,
   "metadata": {
    "collapsed": false
   },
   "outputs": [
   ],
   "source": [
    "# Get list of vendors in the data frame\n",
    "_ , vendor_list = pd.factorize(v_train, sort = True)\n",
    "\n",
    "# Factorize drug_predictions\n",
    "_ , drug_list = pd.factorize(d_train, sort = True)"
   ]
  },
  {
   "cell_type": "code",
   "execution_count": 31,
   "metadata": {
    "collapsed": false
   },
   "outputs": [
   ],
   "source": [
    "#Create inverse emission probability dataframe\n",
    "inv_emission_prob_table = pd.DataFrame(columns = vendor_list)\n",
    "#Insert vendor name column\n",
    "inv_emission_prob_table.insert(0, \"drug\", drug_list)\n",
    "# Apply function to dataframe\n",
    "inv_emission_prob_table.iloc[:,1:] = inv_emission_prob_table['drug'].apply(getVendorsForDrug)\n",
    "# Sort by Vendor name and fill NA values with 0\n",
    "inv_emission_prob_table = inv_emission_prob_table.fillna(0)"
   ]
  },
  {
   "cell_type": "markdown",
   "metadata": {
    "collapsed": false
   },
   "source": [
    "## Alternate method, using regular emission probabilities\n",
    "Compute using $P(v~|~d) = \\frac{P(d~|~v){P(v)}}{P(d)}$."
   ]
  },
  {
   "cell_type": "code",
   "execution_count": 32,
   "metadata": {
    "collapsed": false
   },
   "outputs": [
   ],
   "source": [
    "#Create emission probability dataframe\n",
    "emission_prob_table = pd.DataFrame(columns = drug_list)\n",
    "#Insert vendor name column\n",
    "emission_prob_table.insert(0, \"Vendor Name\", vendor_list)\n",
    "# Apply function to dataframe\n",
    "emission_prob_table.iloc[:,1:] = emission_prob_table['Vendor Name'].apply(getDrugsForVendor)\n",
    "# Sort by Vendor name and fill NA values with 0\n",
    "emission_prob_table = emission_prob_table.fillna(0)"
   ]
  },
  {
   "cell_type": "code",
   "execution_count": 33,
   "metadata": {
    "collapsed": false
   },
   "outputs": [
   ],
   "source": [
    "# Get probability for each vendor\n",
    "vendor_probs = train_set['vendor_name'].value_counts()/np.sum(train_set['vendor_name'].value_counts())\n",
    "vendor_probs = vendor_probs.sort_index()\n",
    "\n",
    "# Get probability for each drug\n",
    "drug_probs = train_set['drug_prediction'].value_counts()/np.sum(train_set['drug_prediction'].value_counts())\n",
    "drug_probs = drug_probs.sort_index()"
   ]
  },
  {
   "cell_type": "code",
   "execution_count": 34,
   "metadata": {
    "collapsed": false
   },
   "outputs": [
   ],
   "source": [
    "# Compute conditional probability table, using emission probabilities\n",
    "vendor_probs_vec = np.array(vendor_probs).reshape(-1,1)\n",
    "drug_probs_vec = np.array(drug_probs).reshape(1,-1)\n",
    "factor_mat = np.matmul(vendor_probs_vec, 1/drug_probs_vec)\n",
    "emission_prob_table.iloc[:,1:] = emission_prob_table.iloc[:,1:] * factor_mat"
   ]
  },
  {
   "cell_type": "markdown",
   "metadata": {
    "collapsed": false
   },
   "source": [
    "## Use Bayes' rule to predict vendor for each drug in sequence"
   ]
  },
  {
   "cell_type": "code",
   "execution_count": 74,
   "metadata": {
    "collapsed": false
   },
   "outputs": [
   ],
   "source": [
    "# Conditional probability table\n",
    "pvd = inv_emission_prob_table \n",
    "pvd = pvd.set_index('drug')\n",
    "\n",
    "# Create dictionary with best prediction for each drug\n",
    "pvd_dict = {drug : pvd.loc[drug].sort_values(ascending = False)[:10] for drug in pvd.index}"
   ]
  },
  {
   "cell_type": "code",
   "execution_count": 144,
   "metadata": {
    "collapsed": false
   },
   "outputs": [
   ],
   "source": [
    "# Function to predict class for each drug in test set\n",
    "def bayesPredict(obs_seq):\n",
    "    preds = [pvd_dict[obs].index[0] for obs in obs_seq]\n",
    "    top5_preds = [pvd_dict[obs].index[:5] for obs in obs_seq]\n",
    "    top10_preds = [pvd_dict[obs].index[:10] for obs in obs_seq]\n",
    "    return(preds, top5_preds, top10_preds)\n",
    "\n",
    "preds, top5_preds, top10_preds = bayesPredict(d_test)"
   ]
  },
  {
   "cell_type": "code",
   "execution_count": 163,
   "metadata": {
    "collapsed": false
   },
   "outputs": [
   ],
   "source": [
    "def bayesEval(obs_seq, hid_seq):   \n",
    "    # Check if each prediction is in top5 and/or top10\n",
    "    pairs = zip(obs_seq, hid_seq)\n",
    "    inTop1 = [pair[1] == pvd_dict[pair[0]].index[0] for pair in pairs]\n",
    "    pairs = zip(obs_seq, hid_seq)\n",
    "    inTop5 = [pair[1] in pvd_dict[pair[0]].index[:5] for pair in pairs]\n",
    "    pairs = zip(obs_seq, hid_seq)\n",
    "    inTop10 = [pair[1] in pvd_dict[pair[0]].index[:10] for pair in pairs]\n",
    "    return(inTop1, inTop5, inTop10)\n",
    "\n",
    "inTop1, inTop5, inTop10 = bayesEval(d_test, v_test)"
   ]
  },
  {
   "cell_type": "code",
   "execution_count": 164,
   "metadata": {
    "collapsed": false
   },
   "outputs": [
   ],
   "source": [
    "# Compile results in a dataframe\n",
    "results = pd.DataFrame({'drug' : d_test, 'actual_vendor' : v_test, 'predicted_vendor' : preds,\\\n",
    "                        'inTop1':inTop1, 'inTop5':inTop5, 'inTop10': inTop10})"
   ]
  },
  {
   "cell_type": "code",
   "execution_count": 169,
   "metadata": {
    "collapsed": false
   },
   "outputs": [
    {
     "name": "stdout",
     "output_type": "stream",
     "text": [
      "Top 1 accuracy : 0.103\n",
      "Top 5 accuracy : 0.338\n",
      "Top 10 accuracy: 0.56\n"
     ]
    }
   ],
   "source": [
    "top1_acc = np.sum(results['inTop1'])/results.shape[0]\n",
    "top5_acc = np.sum(results['inTop5'])/results.shape[0]\n",
    "top10_acc = np.sum(results['inTop10'])/results.shape[0]\n",
    "print('Top 1 accuracy :',round(top1_acc,3))\n",
    "print('Top 5 accuracy :',round(top5_acc,3))\n",
    "print('Top 10 accuracy:',round(top10_acc,3))"
   ]
  },
  {
   "cell_type": "code",
   "execution_count": 170,
   "metadata": {
    "collapsed": false
   },
   "outputs": [
    {
     "data": {
      "text/html": [
       "<div>\n",
       "<style scoped>\n",
       "    .dataframe tbody tr th:only-of-type {\n",
       "        vertical-align: middle;\n",
       "    }\n",
       "\n",
       "    .dataframe tbody tr th {\n",
       "        vertical-align: top;\n",
       "    }\n",
       "\n",
       "    .dataframe thead th {\n",
       "        text-align: right;\n",
       "    }\n",
       "</style>\n",
       "<table border=\"1\" class=\"dataframe\">\n",
       "  <thead>\n",
       "    <tr style=\"text-align: right;\">\n",
       "      <th></th>\n",
       "      <th>drug</th>\n",
       "      <th>actual_vendor</th>\n",
       "      <th>predicted_vendor</th>\n",
       "      <th>inTop1</th>\n",
       "      <th>inTop5</th>\n",
       "      <th>inTop10</th>\n",
       "    </tr>\n",
       "  </thead>\n",
       "  <tbody>\n",
       "    <tr>\n",
       "      <th>0</th>\n",
       "      <td>cocaine</td>\n",
       "      <td>DerSandmann</td>\n",
       "      <td>pastrydam</td>\n",
       "      <td>False</td>\n",
       "      <td>False</td>\n",
       "      <td>False</td>\n",
       "    </tr>\n",
       "    <tr>\n",
       "      <th>1</th>\n",
       "      <td>hashish</td>\n",
       "      <td>pillonpourvousservir</td>\n",
       "      <td>GreenFingers</td>\n",
       "      <td>False</td>\n",
       "      <td>False</td>\n",
       "      <td>True</td>\n",
       "    </tr>\n",
       "    <tr>\n",
       "      <th>2</th>\n",
       "      <td>hashish</td>\n",
       "      <td>pillonpourvousservir</td>\n",
       "      <td>GreenFingers</td>\n",
       "      <td>False</td>\n",
       "      <td>False</td>\n",
       "      <td>True</td>\n",
       "    </tr>\n",
       "    <tr>\n",
       "      <th>3</th>\n",
       "      <td>others</td>\n",
       "      <td>PHARMALABS</td>\n",
       "      <td>cashcow72</td>\n",
       "      <td>False</td>\n",
       "      <td>True</td>\n",
       "      <td>True</td>\n",
       "    </tr>\n",
       "    <tr>\n",
       "      <th>4</th>\n",
       "      <td>others</td>\n",
       "      <td>Gladyman</td>\n",
       "      <td>cashcow72</td>\n",
       "      <td>False</td>\n",
       "      <td>True</td>\n",
       "      <td>True</td>\n",
       "    </tr>\n",
       "  </tbody>\n",
       "</table>\n",
       "</div>"
      ],
      "text/plain": [
       "      drug         actual_vendor predicted_vendor  inTop1  inTop5  inTop10\n",
       "0  cocaine           DerSandmann        pastrydam   False   False    False\n",
       "1  hashish  pillonpourvousservir     GreenFingers   False   False     True\n",
       "2  hashish  pillonpourvousservir     GreenFingers   False   False     True\n",
       "3   others            PHARMALABS        cashcow72   False    True     True\n",
       "4   others              Gladyman        cashcow72   False    True     True"
      ]
     },
     "execution_count": 170,
     "metadata": {
     },
     "output_type": "execute_result"
    }
   ],
   "source": [
    "results.head()"
   ]
  },
  {
   "cell_type": "code",
   "execution_count": 173,
   "metadata": {
    "collapsed": false
   },
   "outputs": [
    {
     "data": {
      "text/plain": [
       "pastrydam           0.082090\n",
       "PopeyeUK            0.060276\n",
       "Cocaineandbrandy    0.051091\n",
       "drugkingz           0.046498\n",
       "DrRubiks            0.040184\n",
       "Boliko              0.039610\n",
       "Mastery             0.039323\n",
       "hiddenshadows       0.038462\n",
       "therealLBZ          0.035017\n",
       "DOPE_CHEF           0.033295\n",
       "Name: cocaine, dtype: float64"
      ]
     },
     "execution_count": 173,
     "metadata": {
     },
     "output_type": "execute_result"
    }
   ],
   "source": [
    "pvd_dict['cocaine'][:10]"
   ]
  },
  {
   "cell_type": "code",
   "execution_count": 0,
   "metadata": {
    "collapsed": false
   },
   "outputs": [
   ],
   "source": [
   ]
  }
 ],
 "metadata": {
  "kernelspec": {
   "display_name": "Python 3 (system-wide)",
   "language": "python",
   "metadata": {
    "cocalc": {
     "description": "Python 3 programming language",
     "priority": 100,
     "url": "https://www.python.org/"
    }
   },
   "name": "python3"
  },
  "language_info": {
   "codemirror_mode": {
    "name": "ipython",
    "version": 3
   },
   "file_extension": ".py",
   "mimetype": "text/x-python",
   "name": "python",
   "nbconvert_exporter": "python",
   "pygments_lexer": "ipython3",
   "version": "3.6.8"
  }
 },
 "nbformat": 4,
 "nbformat_minor": 0
}