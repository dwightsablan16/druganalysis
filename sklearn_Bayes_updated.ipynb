{
 "cells": [
  {
   "cell_type": "code",
   "execution_count": 61,
   "metadata": {
    "collapsed": false
   },
   "outputs": [
   ],
   "source": [
    "import numpy as np\n",
    "import pandas as pd\n",
    "import matplotlib.pyplot as plt\n",
    "from itertools import compress\n",
    "\n",
    "import datetime\n",
    "from dateutil.parser import parse\n",
    "\n",
    "import math\n",
    "import os\n",
    "import copy\n",
    "import pickle\n",
    "\n",
    "import drugLookup"
   ]
  },
  {
   "cell_type": "code",
   "execution_count": 62,
   "metadata": {
    "collapsed": false
   },
   "outputs": [
   ],
   "source": [
    "# Read in data (from pickle file)\n",
    "file = open('train_set_filtered','rb')\n",
    "train_set = pickle.load(file)\n",
    "\n",
    "file = open('test_set_filtered','rb')\n",
    "test_set = pickle.load(file)"
   ]
  },
  {
   "cell_type": "code",
   "execution_count": 63,
   "metadata": {
    "collapsed": false
   },
   "outputs": [
   ],
   "source": [
    "d_train = list(train_set['drug_prediction'])\n",
    "v_train = list(train_set['vendor_name'])\n",
    "\n",
    "d_test = list(test_set['drug_prediction'])\n",
    "v_test = list(test_set['vendor_name'])"
   ]
  },
  {
   "cell_type": "code",
   "execution_count": 64,
   "metadata": {
    "collapsed": false
   },
   "outputs": [
   ],
   "source": [
    "# Do time binning: i.e. classify each transaction into given time interval\n",
    "from datetime import datetime, date, time, timedelta\n",
    "\n",
    "start = time(0,0,0,0) # first interval start date\n",
    "interval = 15 # length of interval (minutes)\n",
    "\n",
    "def addTimes(start_time, duration):\n",
    "    # Function to add minutes to datetime.time() object\n",
    "    dt = datetime.combine(date.today(), start_time) # create arbitrary date\n",
    "    return((dt + timedelta(minutes = duration)).time())\n",
    "\n",
    "#  Function to check if time is in a time interval\n",
    "def timeInInterval(start_time, duration, check_time):\n",
    "    end_time = addTimes(start_time, duration)\n",
    "    cond1 = start_time <= check_time\n",
    "    cond2 = check_time < end_time\n",
    "    return(cond1 and cond2)\n",
    "\n",
    "# Function to classify given time into one of given bins\n",
    "def binTime(time1, start_times, duration = interval):\n",
    "    time_bin = [start_time for start_time in start_times if timeInInterval(start_time, duration, time1.time())]\n",
    "    if len(time_bin) == 0:\n",
    "        return(start_times[-1])\n",
    "    else:\n",
    "        return(time_bin[0])\n",
    "    \n",
    "# Create list of time intervals\n",
    "# Get list of interval start dates\n",
    "n_intervals = int(24*60/interval) # compute number of intervals in 24 hour period\n",
    "slide_amount = interval # amount to slide window (if no overlap desired, set equal to interval)\n",
    "\n",
    "# Get all intervals in 24 hour period\n",
    "interval_starts = [addTimes(start_time = start, duration = slide_amount * n) for n in range(n_intervals)]"
   ]
  },
  {
   "cell_type": "code",
   "execution_count": 65,
   "metadata": {
    "collapsed": false
   },
   "outputs": [
   ],
   "source": [
    "# For given vendor, count the number of transactions in each time_bin\n",
    "train_set['time_bin'] = train_set['date'].apply(binTime, start_times = interval_starts)"
   ]
  },
  {
   "cell_type": "markdown",
   "metadata": {
    "collapsed": false
   },
   "source": [
    "## Encoding data to numerical values"
   ]
  },
  {
   "cell_type": "code",
   "execution_count": 66,
   "metadata": {
    "collapsed": false
   },
   "outputs": [
   ],
   "source": [
    "# Bin time values in the test set\n",
    "train_set['time_bin'] = train_set['date'].apply(binTime, start_times = interval_starts)\n",
    "\n",
    "# Get data for testing\n",
    "X_train = train_set[['drug_prediction','time_bin']]\n",
    "\n",
    "vendor_le = LabelEncoder()\n",
    "vendor_le.fit(train_set['vendor_name'])\n",
    "y_train = vendor_le.transform(train_set['vendor_name'])\n",
    "\n",
    "# One-hot encoding\n",
    "enc = OneHotEncoder(categories = 'auto')\n",
    "enc.fit(X_train)\n",
    "X_train = enc.transform(X_train)"
   ]
  },
  {
   "cell_type": "markdown",
   "metadata": {
    "collapsed": false
   },
   "source": [
    "## Model training"
   ]
  },
  {
   "cell_type": "code",
   "execution_count": 67,
   "metadata": {
    "collapsed": false
   },
   "outputs": [
    {
     "data": {
      "text/plain": [
       "MultinomialNB(alpha=1.0, class_prior=None, fit_prior=True)"
      ]
     },
     "execution_count": 67,
     "metadata": {
     },
     "output_type": "execute_result"
    }
   ],
   "source": [
    "from sklearn.naive_bayes import MultinomialNB\n",
    "\n",
    "# Train Naïve-Bayes model\n",
    "nb_model = MultinomialNB()\n",
    "nb_model.fit(X_train, y_train)"
   ]
  },
  {
   "cell_type": "markdown",
   "metadata": {
    "collapsed": false
   },
   "source": [
    "## Evaluating the model"
   ]
  },
  {
   "cell_type": "code",
   "execution_count": 68,
   "metadata": {
    "collapsed": false
   },
   "outputs": [
   ],
   "source": [
    "# Bin time values in the test set\n",
    "test_set['time_bin'] = test_set['date'].apply(binTime, start_times = interval_starts)\n",
    "\n",
    "# Get data for testing\n",
    "X_test = test_set[['drug_prediction','time_bin']]\n",
    "y_test = vendor_le.transform(test_set['vendor_name'])\n",
    "\n",
    "# One-hot encoding\n",
    "X_test = enc.transform(X_test)"
   ]
  },
  {
   "cell_type": "code",
   "execution_count": 69,
   "metadata": {
    "collapsed": false
   },
   "outputs": [
   ],
   "source": [
    "# Function to get list of indices with max value\n",
    "def multi_argmax(v, n):\n",
    "#     v is vector \n",
    "#     n is number of maximum indices to return\n",
    "    max_indices = []\n",
    "    temp = copy.deepcopy(v)\n",
    "    while len(max_indices) < n:\n",
    "        max_idx = np.argmax(temp)\n",
    "        max_indices.append(max_idx)\n",
    "        temp[max_idx] = -1\n",
    "    return(max_indices)"
   ]
  },
  {
   "cell_type": "code",
   "execution_count": 70,
   "metadata": {
    "collapsed": false
   },
   "outputs": [
   ],
   "source": [
    "# Function to get the top class predictions using model.predict_proba\n",
    "def get_top_n(prob_vector, n, encoder = vendor_le):\n",
    "    max_indices = multi_argmax(prob_vector, n)\n",
    "    max_vendors = encoder.inverse_transform(max_indices)\n",
    "    return(max_vendors)"
   ]
  },
  {
   "cell_type": "code",
   "execution_count": 71,
   "metadata": {
    "collapsed": false
   },
   "outputs": [
   ],
   "source": [
    "# Get probability predictions for each transaction in the dataset\n",
    "prob_ar = nb_model.predict_proba(X_test)\n",
    "vendor_preds = np.apply_along_axis(get_top_n, 1, prob_ar, n = 15)"
   ]
  },
  {
   "cell_type": "code",
   "execution_count": 72,
   "metadata": {
    "collapsed": false
   },
   "outputs": [
   ],
   "source": [
    "# Get accuracy\n",
    "# Compute 'top n' accuracy\n",
    "def get_top_n_acc(actuals, preds, n):\n",
    "    q = zip(actuals, preds)\n",
    "    if n == 1:\n",
    "        ar = [samp[0] == samp[1][0] for samp in q]\n",
    "    else:\n",
    "        ar = [samp[0] in samp[1][:n] for samp in q]\n",
    "    acc = np.sum(ar)/len(ar)\n",
    "    return(round(acc,4))"
   ]
  },
  {
   "cell_type": "code",
   "execution_count": 74,
   "metadata": {
    "collapsed": false
   },
   "outputs": [
    {
     "name": "stdout",
     "output_type": "stream",
     "text": [
      "sklearn Naïve-Bayes, 15 minute bins:\n",
      "Top 1 accuracy : 0.5913\n",
      "Top 5 accuracy : 0.9575\n",
      "Top 10 accuracy: 0.973\n"
     ]
    }
   ],
   "source": [
    "# Naïve-Bayes, sklearn implementation\n",
    "print('sklearn Naïve-Bayes,',interval,'minute bins:')\n",
    "print('Top 1 accuracy :',get_top_n_acc(vendor_le.inverse_transform(y_test), vendor_preds, 1))\n",
    "print('Top 5 accuracy :',get_top_n_acc(vendor_le.inverse_transform(y_test), vendor_preds, 5))\n",
    "print('Top 10 accuracy:',get_top_n_acc(vendor_le.inverse_transform(y_test), vendor_preds, 10))"
   ]
  },
  {
   "cell_type": "code",
   "execution_count": 58,
   "metadata": {
    "collapsed": false,
    "scrolled": true
   },
   "outputs": [
   ],
   "source": [
    "vendor_preds2 = nb_model.predict(X_test)\n",
    "df = pd.DataFrame({'actuals': vendor_le.inverse_transform(y_test),\\\n",
    "                   'preds': vendor_le.inverse_transform(vendor_preds2)})"
   ]
  }
 ],
 "metadata": {
  "kernelspec": {
   "display_name": "Python 3 (Ubuntu Linux)",
   "language": "python",
   "metadata": {
    "cocalc": {
     "description": "Python 3 programming language",
     "priority": 100,
     "url": "https://www.python.org/"
    }
   },
   "name": "python3"
  },
  "language_info": {
   "codemirror_mode": {
    "name": "ipython",
    "version": 3
   },
   "file_extension": ".py",
   "mimetype": "text/x-python",
   "name": "python",
   "nbconvert_exporter": "python",
   "pygments_lexer": "ipython3",
   "version": "3.6.8"
  }
 },
 "nbformat": 4,
 "nbformat_minor": 0
}