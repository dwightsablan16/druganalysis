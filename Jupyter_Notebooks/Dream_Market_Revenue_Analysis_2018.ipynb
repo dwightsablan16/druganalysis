{
 "cells": [
  {
   "cell_type": "code",
   "execution_count": 1,
   "metadata": {
    "collapsed": false
   },
   "outputs": [
   ],
   "source": [
    "import numpy as np\n",
    "import pandas as pd\n",
    "import matplotlib.pyplot as plt\n",
    "from itertools import compress\n",
    "\n",
    "import datetime\n",
    "from dateutil.parser import parse\n",
    "from matplotlib import rc\n",
    "\n",
    "import math\n",
    "import os\n",
    "import copy\n",
    "import pickle\n",
    "\n",
    "import itertools\n",
    "import operator"
   ]
  },
  {
   "cell_type": "code",
   "execution_count": 2,
   "metadata": {
    "collapsed": false
   },
   "outputs": [
   ],
   "source": [
    "# Read in data (from pickle file)\n",
    "file = open('drug_data.dms','rb')\n",
    "drug_data = pickle.load(file)"
   ]
  },
  {
   "cell_type": "code",
   "execution_count": 3,
   "metadata": {
    "collapsed": false
   },
   "outputs": [
    {
     "data": {
      "text/html": [
       "<div>\n",
       "<style scoped>\n",
       "    .dataframe tbody tr th:only-of-type {\n",
       "        vertical-align: middle;\n",
       "    }\n",
       "\n",
       "    .dataframe tbody tr th {\n",
       "        vertical-align: top;\n",
       "    }\n",
       "\n",
       "    .dataframe thead th {\n",
       "        text-align: right;\n",
       "    }\n",
       "</style>\n",
       "<table border=\"1\" class=\"dataframe\">\n",
       "  <thead>\n",
       "    <tr style=\"text-align: right;\">\n",
       "      <th></th>\n",
       "      <th>transaction_id</th>\n",
       "      <th>vendor_id</th>\n",
       "      <th>vendor_name</th>\n",
       "      <th>bitcoin</th>\n",
       "      <th>USD</th>\n",
       "      <th>product_description</th>\n",
       "      <th>date</th>\n",
       "      <th>drug_prediction</th>\n",
       "    </tr>\n",
       "  </thead>\n",
       "  <tbody>\n",
       "    <tr>\n",
       "      <th>9430</th>\n",
       "      <td>'10528</td>\n",
       "      <td>590</td>\n",
       "      <td>superclr</td>\n",
       "      <td>0</td>\n",
       "      <td>416.00</td>\n",
       "      <td>5 GRAMS GRADE AAA+ CARTEL TAN POWDER HEROIN</td>\n",
       "      <td>2018-11-02 06:43:01</td>\n",
       "      <td>[heroin]</td>\n",
       "    </tr>\n",
       "    <tr>\n",
       "      <th>9431</th>\n",
       "      <td>'10529</td>\n",
       "      <td>590</td>\n",
       "      <td>superclr</td>\n",
       "      <td>0</td>\n",
       "      <td>416.00</td>\n",
       "      <td>5 GRAMS GRADE AAA+ CARTEL TAN POWDER HEROIN</td>\n",
       "      <td>2018-11-10 06:43:01</td>\n",
       "      <td>[heroin]</td>\n",
       "    </tr>\n",
       "    <tr>\n",
       "      <th>9432</th>\n",
       "      <td>'10530</td>\n",
       "      <td>1013</td>\n",
       "      <td>REAL_MEGASTORE</td>\n",
       "      <td>0</td>\n",
       "      <td>3.12</td>\n",
       "      <td>?CRAVETV.CA? PREMIUM</td>\n",
       "      <td>2018-12-27 06:43:06</td>\n",
       "      <td>[]</td>\n",
       "    </tr>\n",
       "    <tr>\n",
       "      <th>9433</th>\n",
       "      <td>'10531</td>\n",
       "      <td>1013</td>\n",
       "      <td>REAL_MEGASTORE</td>\n",
       "      <td>0</td>\n",
       "      <td>3.12</td>\n",
       "      <td>?CRAVETV.CA? PREMIUM</td>\n",
       "      <td>2018-12-27 06:43:06</td>\n",
       "      <td>[]</td>\n",
       "    </tr>\n",
       "    <tr>\n",
       "      <th>9435</th>\n",
       "      <td>'10533</td>\n",
       "      <td>92</td>\n",
       "      <td>OnionKings</td>\n",
       "      <td>0</td>\n",
       "      <td>109.12</td>\n",
       "      <td>Rivotril 2mg från apotek (Roche) [100st]</td>\n",
       "      <td>2018-12-21 06:43:11</td>\n",
       "      <td>[benzodiazepines]</td>\n",
       "    </tr>\n",
       "  </tbody>\n",
       "</table>\n",
       "</div>"
      ],
      "text/plain": [
       "     transaction_id  vendor_id     vendor_name bitcoin     USD  \\\n",
       "9430         '10528        590        superclr       0  416.00   \n",
       "9431         '10529        590        superclr       0  416.00   \n",
       "9432         '10530       1013  REAL_MEGASTORE       0    3.12   \n",
       "9433         '10531       1013  REAL_MEGASTORE       0    3.12   \n",
       "9435         '10533         92      OnionKings       0  109.12   \n",
       "\n",
       "                              product_description                date  \\\n",
       "9430  5 GRAMS GRADE AAA+ CARTEL TAN POWDER HEROIN 2018-11-02 06:43:01   \n",
       "9431  5 GRAMS GRADE AAA+ CARTEL TAN POWDER HEROIN 2018-11-10 06:43:01   \n",
       "9432                         ?CRAVETV.CA? PREMIUM 2018-12-27 06:43:06   \n",
       "9433                         ?CRAVETV.CA? PREMIUM 2018-12-27 06:43:06   \n",
       "9435     Rivotril 2mg från apotek (Roche) [100st] 2018-12-21 06:43:11   \n",
       "\n",
       "        drug_prediction  \n",
       "9430           [heroin]  \n",
       "9431           [heroin]  \n",
       "9432                 []  \n",
       "9433                 []  \n",
       "9435  [benzodiazepines]  "
      ]
     },
     "execution_count": 3,
     "metadata": {
     },
     "output_type": "execute_result"
    }
   ],
   "source": [
    "drug_data.head()"
   ]
  },
  {
   "cell_type": "markdown",
   "metadata": {
    "collapsed": false
   },
   "source": [
    "## Drug Costs Analysis"
   ]
  },
  {
   "cell_type": "markdown",
   "metadata": {
    "collapsed": false
   },
   "source": [
    "### Average Cost for a given drug"
   ]
  },
  {
   "cell_type": "code",
   "execution_count": 4,
   "metadata": {
    "collapsed": false
   },
   "outputs": [
   ],
   "source": [
    "#Create dataframe with just vendor id, vendor name, USD, drug_prediction \n",
    "drugs_df = copy.deepcopy(drug_data.iloc[:,[1,2,4,6,7]])\n",
    "drugs_df.columns = ['vendor_id','vendor_name','USD','date','drug_prediction']"
   ]
  },
  {
   "cell_type": "code",
   "execution_count": 5,
   "metadata": {
    "collapsed": false
   },
   "outputs": [
    {
     "data": {
      "text/html": [
       "<div>\n",
       "<style scoped>\n",
       "    .dataframe tbody tr th:only-of-type {\n",
       "        vertical-align: middle;\n",
       "    }\n",
       "\n",
       "    .dataframe tbody tr th {\n",
       "        vertical-align: top;\n",
       "    }\n",
       "\n",
       "    .dataframe thead th {\n",
       "        text-align: right;\n",
       "    }\n",
       "</style>\n",
       "<table border=\"1\" class=\"dataframe\">\n",
       "  <thead>\n",
       "    <tr style=\"text-align: right;\">\n",
       "      <th></th>\n",
       "      <th>vendor_id</th>\n",
       "      <th>vendor_name</th>\n",
       "      <th>USD</th>\n",
       "      <th>date</th>\n",
       "      <th>drug_prediction</th>\n",
       "    </tr>\n",
       "  </thead>\n",
       "  <tbody>\n",
       "    <tr>\n",
       "      <th>9430</th>\n",
       "      <td>590</td>\n",
       "      <td>superclr</td>\n",
       "      <td>416.00</td>\n",
       "      <td>2018-11-02 06:43:01</td>\n",
       "      <td>[heroin]</td>\n",
       "    </tr>\n",
       "    <tr>\n",
       "      <th>9431</th>\n",
       "      <td>590</td>\n",
       "      <td>superclr</td>\n",
       "      <td>416.00</td>\n",
       "      <td>2018-11-10 06:43:01</td>\n",
       "      <td>[heroin]</td>\n",
       "    </tr>\n",
       "    <tr>\n",
       "      <th>9432</th>\n",
       "      <td>1013</td>\n",
       "      <td>REAL_MEGASTORE</td>\n",
       "      <td>3.12</td>\n",
       "      <td>2018-12-27 06:43:06</td>\n",
       "      <td>[]</td>\n",
       "    </tr>\n",
       "    <tr>\n",
       "      <th>9433</th>\n",
       "      <td>1013</td>\n",
       "      <td>REAL_MEGASTORE</td>\n",
       "      <td>3.12</td>\n",
       "      <td>2018-12-27 06:43:06</td>\n",
       "      <td>[]</td>\n",
       "    </tr>\n",
       "    <tr>\n",
       "      <th>9435</th>\n",
       "      <td>92</td>\n",
       "      <td>OnionKings</td>\n",
       "      <td>109.12</td>\n",
       "      <td>2018-12-21 06:43:11</td>\n",
       "      <td>[benzodiazepines]</td>\n",
       "    </tr>\n",
       "  </tbody>\n",
       "</table>\n",
       "</div>"
      ],
      "text/plain": [
       "      vendor_id     vendor_name     USD                date    drug_prediction\n",
       "9430        590        superclr  416.00 2018-11-02 06:43:01           [heroin]\n",
       "9431        590        superclr  416.00 2018-11-10 06:43:01           [heroin]\n",
       "9432       1013  REAL_MEGASTORE    3.12 2018-12-27 06:43:06                 []\n",
       "9433       1013  REAL_MEGASTORE    3.12 2018-12-27 06:43:06                 []\n",
       "9435         92      OnionKings  109.12 2018-12-21 06:43:11  [benzodiazepines]"
      ]
     },
     "execution_count": 5,
     "metadata": {
     },
     "output_type": "execute_result"
    }
   ],
   "source": [
    "drugs_df.head()"
   ]
  },
  {
   "cell_type": "code",
   "execution_count": 6,
   "metadata": {
    "collapsed": false
   },
   "outputs": [
   ],
   "source": [
    "subset = drugs_df[['USD','drug_prediction']]\n",
    "tuples = list([tuple(x) for x in subset.values])\n",
    "\n",
    "\n",
    "#function to convert list to string\n",
    "def flatten(drug_list):\n",
    "    str1 = ''.join(drug_list)\n",
    "    return str1\n",
    "\n",
    "\n",
    "drugs_df['drug_cats'] = drugs_df.iloc[:,4].apply(flatten)"
   ]
  },
  {
   "cell_type": "code",
   "execution_count": 7,
   "metadata": {
    "collapsed": false
   },
   "outputs": [
    {
     "data": {
      "text/html": [
       "<div>\n",
       "<style scoped>\n",
       "    .dataframe tbody tr th:only-of-type {\n",
       "        vertical-align: middle;\n",
       "    }\n",
       "\n",
       "    .dataframe tbody tr th {\n",
       "        vertical-align: top;\n",
       "    }\n",
       "\n",
       "    .dataframe thead th {\n",
       "        text-align: right;\n",
       "    }\n",
       "</style>\n",
       "<table border=\"1\" class=\"dataframe\">\n",
       "  <thead>\n",
       "    <tr style=\"text-align: right;\">\n",
       "      <th></th>\n",
       "      <th>vendor_id</th>\n",
       "      <th>vendor_name</th>\n",
       "      <th>USD</th>\n",
       "      <th>date</th>\n",
       "      <th>drug_prediction</th>\n",
       "      <th>drug_cats</th>\n",
       "    </tr>\n",
       "  </thead>\n",
       "  <tbody>\n",
       "    <tr>\n",
       "      <th>9430</th>\n",
       "      <td>590</td>\n",
       "      <td>superclr</td>\n",
       "      <td>416.00</td>\n",
       "      <td>2018-11-02 06:43:01</td>\n",
       "      <td>[heroin]</td>\n",
       "      <td>heroin</td>\n",
       "    </tr>\n",
       "    <tr>\n",
       "      <th>9431</th>\n",
       "      <td>590</td>\n",
       "      <td>superclr</td>\n",
       "      <td>416.00</td>\n",
       "      <td>2018-11-10 06:43:01</td>\n",
       "      <td>[heroin]</td>\n",
       "      <td>heroin</td>\n",
       "    </tr>\n",
       "    <tr>\n",
       "      <th>9432</th>\n",
       "      <td>1013</td>\n",
       "      <td>REAL_MEGASTORE</td>\n",
       "      <td>3.12</td>\n",
       "      <td>2018-12-27 06:43:06</td>\n",
       "      <td>[]</td>\n",
       "      <td></td>\n",
       "    </tr>\n",
       "    <tr>\n",
       "      <th>9433</th>\n",
       "      <td>1013</td>\n",
       "      <td>REAL_MEGASTORE</td>\n",
       "      <td>3.12</td>\n",
       "      <td>2018-12-27 06:43:06</td>\n",
       "      <td>[]</td>\n",
       "      <td></td>\n",
       "    </tr>\n",
       "    <tr>\n",
       "      <th>9435</th>\n",
       "      <td>92</td>\n",
       "      <td>OnionKings</td>\n",
       "      <td>109.12</td>\n",
       "      <td>2018-12-21 06:43:11</td>\n",
       "      <td>[benzodiazepines]</td>\n",
       "      <td>benzodiazepines</td>\n",
       "    </tr>\n",
       "  </tbody>\n",
       "</table>\n",
       "</div>"
      ],
      "text/plain": [
       "      vendor_id     vendor_name     USD                date  \\\n",
       "9430        590        superclr  416.00 2018-11-02 06:43:01   \n",
       "9431        590        superclr  416.00 2018-11-10 06:43:01   \n",
       "9432       1013  REAL_MEGASTORE    3.12 2018-12-27 06:43:06   \n",
       "9433       1013  REAL_MEGASTORE    3.12 2018-12-27 06:43:06   \n",
       "9435         92      OnionKings  109.12 2018-12-21 06:43:11   \n",
       "\n",
       "        drug_prediction        drug_cats  \n",
       "9430           [heroin]           heroin  \n",
       "9431           [heroin]           heroin  \n",
       "9432                 []                   \n",
       "9433                 []                   \n",
       "9435  [benzodiazepines]  benzodiazepines  "
      ]
     },
     "execution_count": 7,
     "metadata": {
     },
     "output_type": "execute_result"
    }
   ],
   "source": [
    "drugs_df.head()"
   ]
  },
  {
   "cell_type": "code",
   "execution_count": 8,
   "metadata": {
    "collapsed": false
   },
   "outputs": [
    {
     "data": {
      "text/html": [
       "<div>\n",
       "<style scoped>\n",
       "    .dataframe tbody tr th:only-of-type {\n",
       "        vertical-align: middle;\n",
       "    }\n",
       "\n",
       "    .dataframe tbody tr th {\n",
       "        vertical-align: top;\n",
       "    }\n",
       "\n",
       "    .dataframe thead th {\n",
       "        text-align: right;\n",
       "    }\n",
       "</style>\n",
       "<table border=\"1\" class=\"dataframe\">\n",
       "  <thead>\n",
       "    <tr style=\"text-align: right;\">\n",
       "      <th></th>\n",
       "      <th>drug_cats</th>\n",
       "      <th>USD</th>\n",
       "    </tr>\n",
       "  </thead>\n",
       "  <tbody>\n",
       "    <tr>\n",
       "      <th>0</th>\n",
       "      <td></td>\n",
       "      <td>327.449813</td>\n",
       "    </tr>\n",
       "    <tr>\n",
       "      <th>1</th>\n",
       "      <td>amphetamine</td>\n",
       "      <td>153.853015</td>\n",
       "    </tr>\n",
       "    <tr>\n",
       "      <th>2</th>\n",
       "      <td>antidepressants</td>\n",
       "      <td>13.520000</td>\n",
       "    </tr>\n",
       "    <tr>\n",
       "      <th>3</th>\n",
       "      <td>benzodiazepines</td>\n",
       "      <td>204.857975</td>\n",
       "    </tr>\n",
       "    <tr>\n",
       "      <th>4</th>\n",
       "      <td>benzodiazepinesnot_drugs</td>\n",
       "      <td>53.352571</td>\n",
       "    </tr>\n",
       "  </tbody>\n",
       "</table>\n",
       "</div>"
      ],
      "text/plain": [
       "                  drug_cats         USD\n",
       "0                            327.449813\n",
       "1               amphetamine  153.853015\n",
       "2           antidepressants   13.520000\n",
       "3           benzodiazepines  204.857975\n",
       "4  benzodiazepinesnot_drugs   53.352571"
      ]
     },
     "execution_count": 8,
     "metadata": {
     },
     "output_type": "execute_result"
    }
   ],
   "source": [
    "#Get average USD grouped by drug\n",
    "average_price_of_drug = pd.DataFrame(drugs_df.groupby('drug_cats', as_index=False)['USD'].mean())\n",
    "\n",
    "average_price_of_drug.head()"
   ]
  },
  {
   "cell_type": "code",
   "execution_count": 9,
   "metadata": {
    "collapsed": false
   },
   "outputs": [
    {
     "ename": "NameError",
     "evalue": "name 'rand_color' is not defined",
     "output_type": "error",
     "traceback": [
      "\u001b[0;31m---------------------------------------------------------------------------\u001b[0m",
      "\u001b[0;31mNameError\u001b[0m                                 Traceback (most recent call last)",
      "\u001b[0;32m<ipython-input-9-149bd0ecf5fe>\u001b[0m in \u001b[0;36m<module>\u001b[0;34m\u001b[0m\n\u001b[1;32m      5\u001b[0m                                  \u001b[0my\u001b[0m\u001b[0;34m=\u001b[0m\u001b[0;34m'USD'\u001b[0m\u001b[0;34m,\u001b[0m\u001b[0;34m\u001b[0m\u001b[0;34m\u001b[0m\u001b[0m\n\u001b[1;32m      6\u001b[0m                                  \u001b[0max\u001b[0m\u001b[0;34m=\u001b[0m\u001b[0max\u001b[0m\u001b[0;34m,\u001b[0m\u001b[0;34m\u001b[0m\u001b[0;34m\u001b[0m\u001b[0m\n\u001b[0;32m----> 7\u001b[0;31m                                  color = rand_color.generate())\n\u001b[0m\u001b[1;32m      8\u001b[0m \u001b[0;34m\u001b[0m\u001b[0m\n\u001b[1;32m      9\u001b[0m \u001b[0mplt\u001b[0m\u001b[0;34m.\u001b[0m\u001b[0mshow\u001b[0m\u001b[0;34m(\u001b[0m\u001b[0;34m)\u001b[0m\u001b[0;34m\u001b[0m\u001b[0;34m\u001b[0m\u001b[0m\n",
      "\u001b[0;31mNameError\u001b[0m: name 'rand_color' is not defined"
     ]
    },
    {
     "data": {
      "image/png": "[encoded data removed]",
      "text/plain": [
       "<Figure size 1440x864 with 1 Axes>"
      ]
     },
     "execution_count": 9,
     "metadata": {
      "needs_background": "light"
     },
     "output_type": "execute_result"
    }
   ],
   "source": [
    "#Plot average prices\n",
    "fig, ax = plt.subplots(figsize=(20,12))  \n",
    "\n",
    "average_price_of_drug.plot.bar(x='drug_cats',\n",
    "                                 y='USD', \n",
    "                                 ax=ax, \n",
    "                                 color = rand_color.generate())\n",
    "\n",
    "plt.show()"
   ]
  },
  {
   "cell_type": "markdown",
   "metadata": {
    "collapsed": false
   },
   "source": [
    "### Get drug distribution of revenue for each vendor "
   ]
  },
  {
   "cell_type": "code",
   "execution_count": 0,
   "metadata": {
    "collapsed": false
   },
   "outputs": [
   ],
   "source": [
    "#Get the sum of revenue for a given category per vendor\n",
    "sum_of_revenue_per_vendor = pd.DataFrame(drugs_df.groupby([drugs_df.vendor_name,drugs_df.drug_cats]).USD.sum())"
   ]
  },
  {
   "cell_type": "code",
   "execution_count": 0,
   "metadata": {
    "collapsed": false
   },
   "outputs": [
   ],
   "source": [
    "sum_of_revenue_per_vendor.head()"
   ]
  },
  {
   "cell_type": "code",
   "execution_count": 0,
   "metadata": {
    "collapsed": false
   },
   "outputs": [
   ],
   "source": [
    "#Reset index\n",
    "new_sum_of_revenue_per_vendor = sum_of_revenue_per_vendor.reset_index()"
   ]
  },
  {
   "cell_type": "code",
   "execution_count": 0,
   "metadata": {
    "collapsed": false
   },
   "outputs": [
   ],
   "source": [
    "# new_sum_of_revenue_per_vendor.head()\n",
    "new_sum_of_revenue_per_vendor"
   ]
  },
  {
   "cell_type": "markdown",
   "metadata": {
    "collapsed": false
   },
   "source": [
    "## Create Stacked Plot of Revenue per drug\n"
   ]
  },
  {
   "cell_type": "code",
   "execution_count": 0,
   "metadata": {
    "collapsed": false
   },
   "outputs": [
   ],
   "source": [
    "# get unique drug categories\n",
    "_ , drug_categories = pd.factorize(drugs_df['drug_cats'], sort = True)\n",
    "# drug_categories\n",
    "\n",
    "# get unique vendor names\n",
    "_ , vendor_list = pd.factorize(drugs_df['vendor_name'], sort = True)\n",
    "\n",
    "# print (vendor_list)"
   ]
  },
  {
   "cell_type": "code",
   "execution_count": 0,
   "metadata": {
    "collapsed": false
   },
   "outputs": [
   ],
   "source": [
    "#Color generator\n",
    "from tqdm import tqdm\n",
    "import randomcolor\n",
    "rand_color = randomcolor.RandomColor()\n",
    "# print(rand_color.generate())"
   ]
  },
  {
   "cell_type": "code",
   "execution_count": 0,
   "metadata": {
    "collapsed": false
   },
   "outputs": [
   ],
   "source": [
    "%matplotlib inline\n",
    "import matplotlib\n",
    "\n",
    "matplotlib.style.use('ggplot')\n",
    "\n",
    "fig, ax = plt.subplots(figsize=(15,9))  \n",
    "\n",
    "#list of vendors\n",
    "vendors = new_sum_of_revenue_per_vendor['vendor_name'].drop_duplicates()\n",
    "\n",
    "#distance from x axis\n",
    "margin_bottoms = np.zeros(len(new_sum_of_revenue_per_vendor['drug_cats'].drop_duplicates()))\n",
    "# print (margin_bottom)\n",
    "# colors = [\"#006D2C\", \"#31A354\",\"#74C476\"]\n",
    "\n",
    "#Drug categories\n",
    "drug_categories\n",
    "\n",
    "#For loop that generates bars\n",
    "for num, vendor in tqdm(enumerate(vendors)):\n",
    "#     print(vendor)\n",
    "    \n",
    "    #values is the list of revenues for a given vendor\n",
    "#     values = list(new_sum_of_revenue_per_vendor[new_sum_of_revenue_per_vendor['vendor_name'] == vendor].loc[:, 'USD'])\n",
    "    vendor_subset = new_sum_of_revenue_per_vendor[new_sum_of_revenue_per_vendor['vendor_name'] == vendor]\n",
    "    \n",
    "    # drug_categories\n",
    "    value_dict = {cat:0 for cat in drug_categories}\n",
    "    for idx, row in vendor_subset.iterrows():\n",
    "        drug_cat = row['drug_cats']\n",
    "        value = row['USD']\n",
    "        value_dict[drug_cat] = value\n",
    "    \n",
    "    values = list(value_dict.values())\n",
    "    \n",
    "#     dict_df = pd.DataFrame(value_dict, index = [0])\n",
    "    dict_df = pd.DataFrame(value_dict, index = [0]).transpose().reset_index()\n",
    "    \n",
    "    dict_df.plot.bar(x='index',\n",
    "                                 y=0, \n",
    "                                 ax=ax,\n",
    "                                 stacked=True, \n",
    "                                 bottom = margin_bottoms, \n",
    "                                 color = rand_color.generate(), \n",
    "                                 label=vendor)\n",
    "    \n",
    "#     new_sum_of_revenue_per_vendor[new_sum_of_revenue_per_vendor['vendor_name'] == vendor].plot.bar(x='drug_cats',\n",
    "#                                  y='USD', \n",
    "#                                  ax=ax,\n",
    "#                                  stacked=True, \n",
    "#                                  bottom = margin_bottoms, \n",
    "#                                  color = rand_color.generate(), \n",
    "#                                  label=vendor)\n",
    "    \n",
    "    margin_bottoms += values\n",
    "    \n",
    "plt.show()"
   ]
  },
  {
   "cell_type": "code",
   "execution_count": 0,
   "metadata": {
    "collapsed": false
   },
   "outputs": [
   ],
   "source": [
    "# # drug_categories\n",
    "# value_dict = {cat:0 for cat in drug_categories}\n",
    "# for idx, row in mini_df.iterrows():\n",
    "#     drug_cat = row['drug_cats']\n",
    "#     value = row['USD']\n",
    "#     value_dict[drug_cat] = value"
   ]
  },
  {
   "cell_type": "code",
   "execution_count": 0,
   "metadata": {
    "collapsed": false
   },
   "outputs": [
   ],
   "source": [
    "# ## Sample\n",
    "\n",
    "# data2 = [['d1','d1','d1','d2','d2','d2','d3','d3','d3'],\n",
    "#         ['v1', 'v2', 'v3', 'v1', 'v2', 'v3', 'v1', 'v2', 'v3'],\n",
    "#         [1, 2, 3, 4, 5, 6, 7, 8, 9]]\n",
    "\n",
    "# rows = zip(data2[0], data2[1], data2[2])\n",
    "# headers = ['cat', 'vend', 'usd']\n",
    "# df2 = pd.DataFrame(rows, columns=headers)\n",
    "\n",
    "# fig, ax = plt.subplots(figsize=(10,7))  \n",
    "\n",
    "# vends = df2['vend'].drop_duplicates()\n",
    "# margin_bottom = np.zeros(len(df2['cat'].drop_duplicates()))\n",
    "# colors = [\"#006D2C\", \"#31A354\",\"#74C476\"]\n",
    "\n",
    "\n",
    "# for num, vend in enumerate(vends):\n",
    "#     #values is the list of values for a given month\n",
    "#     values = list(df2[df2['vend'] == vend].loc[:, 'usd'])\n",
    "# #     print (values)\n",
    "#     df2[df2['vend'] == vend].plot.bar(x='cat',y='usd', ax=ax, stacked=True, \n",
    "#                                     bottom = margin_bottom, color=colors[num], label=vend)\n",
    "#     margin_bottom += values\n",
    "\n",
    "# plt.show()\n",
    "\n",
    "# df2.shape"
   ]
  },
  {
   "cell_type": "markdown",
   "metadata": {
    "collapsed": false
   },
   "source": [
    "## Calculate total revenue per vendor"
   ]
  },
  {
   "cell_type": "code",
   "execution_count": 0,
   "metadata": {
    "collapsed": false
   },
   "outputs": [
   ],
   "source": [
    "#Create dictionary for total revenue for each vendor\n",
    "total_revenue = new_sum_of_revenue_per_vendor.groupby([new_sum_of_revenue_per_vendor.vendor_name]).USD.sum()"
   ]
  },
  {
   "cell_type": "code",
   "execution_count": 0,
   "metadata": {
    "collapsed": false
   },
   "outputs": [
   ],
   "source": [
    "#Create a function that gets total revenue per vendor\n",
    "def getTotalRevenue(vendor):\n",
    "    for key, value in total_revenue.items():\n",
    "        if vendor == key:\n",
    "            return (value)"
   ]
  },
  {
   "cell_type": "code",
   "execution_count": 0,
   "metadata": {
    "collapsed": false
   },
   "outputs": [
   ],
   "source": [
    "#Apply getTotalRevenue function\n",
    "new_sum_of_revenue_per_vendor['total_revenue'] = new_sum_of_revenue_per_vendor.iloc[:,0].apply(getTotalRevenue)"
   ]
  },
  {
   "cell_type": "code",
   "execution_count": 0,
   "metadata": {
    "collapsed": false
   },
   "outputs": [
   ],
   "source": [
    "new_sum_of_revenue_per_vendor.head()"
   ]
  },
  {
   "cell_type": "code",
   "execution_count": 0,
   "metadata": {
    "collapsed": false
   },
   "outputs": [
   ],
   "source": [
    "new_sum_of_revenue_per_vendor"
   ]
  },
  {
   "cell_type": "code",
   "execution_count": 0,
   "metadata": {
    "collapsed": false
   },
   "outputs": [
   ],
   "source": [
    "#Get the percentage of revenue per drug per vendor\n",
    "new_sum_of_revenue_per_vendor['percentage_of_revenue'] = np.divide(new_sum_of_revenue_per_vendor['USD'], new_sum_of_revenue_per_vendor['total_revenue'])"
   ]
  },
  {
   "cell_type": "code",
   "execution_count": 0,
   "metadata": {
    "collapsed": false
   },
   "outputs": [
   ],
   "source": [
    "new_sum_of_revenue_per_vendor['percentage_of_total_revenue'] = np.divide(new_sum_of_revenue_per_vendor['total_revenue'], total_revenue)"
   ]
  },
  {
   "cell_type": "code",
   "execution_count": 0,
   "metadata": {
    "collapsed": false
   },
   "outputs": [
   ],
   "source": [
    "#Make copy of dataframe\n",
    "revenue_summary_df = new_sum_of_revenue_per_vendor.copy()\n",
    "\n",
    "# revenue_summary_df.head()"
   ]
  },
  {
   "cell_type": "code",
   "execution_count": 0,
   "metadata": {
    "collapsed": false
   },
   "outputs": [
   ],
   "source": [
    "#Set index to vendor name\n",
    "# revenue_summary_df = revenue_summary_df.set_index('vendor_name')\n",
    "\n",
    "# revenue_summary_df.head()\n",
    "#Drop duplicate vendor names\n",
    "revenue_summary_df = revenue_summary_df.loc[~revenue_summary_df.index.duplicated(keep='first')]\n",
    "\n",
    "#Reset index of dataframe\n",
    "revenue_summary_df = revenue_summary_df.reset_index()"
   ]
  },
  {
   "cell_type": "code",
   "execution_count": 0,
   "metadata": {
    "collapsed": false
   },
   "outputs": [
   ],
   "source": [
    "revenue_summary_df.head()"
   ]
  },
  {
   "cell_type": "markdown",
   "metadata": {
    "collapsed": false
   },
   "source": [
    "## Total Revenue Per Vendor"
   ]
  },
  {
   "cell_type": "code",
   "execution_count": 0,
   "metadata": {
    "collapsed": false
   },
   "outputs": [
   ],
   "source": [
    "# REVENUE STATISTICS\n",
    "\n",
    "#Min, Max, Average, Total revenue\n",
    "minimum_rev = revenue_summary_df.total_revenue.min()\n",
    "maximum_rev = revenue_summary_df.total_revenue.max()\n",
    "average_rev = revenue_summary_df.total_revenue.mean()\n",
    "\n",
    "print ('REVENUE STATISTICS:')\n",
    "print ('Minimum: ' , minimum_rev)\n",
    "print ('Maximum: ' , maximum_rev)\n",
    "print ('Average: ' , average_rev)\n",
    "print ('Total: ' , total, '\\n')\n",
    "\n",
    "\n",
    "#max and min rev among vendors\n",
    "print ('Min revenue vendor: ' , revenue_summary_df.loc[revenue_summary_df.total_revenue.idxmin()], '\\n')\n",
    "print ('Max revenue vendor: ', revenue_summary_df.loc[revenue_summary_df.total_revenue.idxmax()])\n"
   ]
  },
  {
   "cell_type": "code",
   "execution_count": 0,
   "metadata": {
    "collapsed": false
   },
   "outputs": [
   ],
   "source": [
    "#How much revenue does each vendor generate in Dream Market?\n",
    "\n",
    "fig, ax = plt.subplots(figsize=(15,9))  \n",
    "\n",
    "fig.suptitle('TOTAL REVENUE PER VENDOR', fontsize=20)\n",
    "\n",
    "# ylim(top=20000)  # adjust the top leaving bottom unchanged\n",
    "\n",
    "# df.groupby(['Id']).median().sort_values(\"Speed\").plot.bar()\n",
    "revenue_summary_df.sort_values(\"total_revenue\",ascending = False).plot.bar(\n",
    "                                 y='total_revenue', \n",
    "                                 ax=ax, \n",
    "                                 color = rand_color.generate())\n",
    "plt.ylim([0, 30000])\n",
    "ax.set_xticklabels([])\n",
    "ax.set_ylabel('TOTAL REVENUE')\n",
    "ax.set_xlabel('VENDORS')\n",
    "\n",
    "plt.show()"
   ]
  },
  {
   "cell_type": "markdown",
   "metadata": {
    "collapsed": false
   },
   "source": [
    "## Percentage of market revenue per vendor"
   ]
  },
  {
   "cell_type": "code",
   "execution_count": 0,
   "metadata": {
    "collapsed": false
   },
   "outputs": [
   ],
   "source": [
    "# revenue_summary_df.percentage_of_total_revenue"
   ]
  },
  {
   "cell_type": "code",
   "execution_count": 0,
   "metadata": {
    "collapsed": false
   },
   "outputs": [
   ],
   "source": [
    "#What percentage of total market revenue does each vendor make?\n",
    "\n",
    "fig, ax = plt.subplots(figsize=(15,9))  \n",
    "fig.suptitle('PERCENTAGE OF MARKET REVENUE PER VENDOR', fontsize=20)\n",
    "\n",
    "revenue_summary_df.sort_values(\"percentage_of_total_revenue\",ascending = False).plot.bar(\n",
    "                                 y='percentage_of_total_revenue', \n",
    "                                 ax=ax, \n",
    "                                 color = rand_color.generate())\n",
    "plt.ylim([0.0, 0.01])\n",
    "ax.set_xticklabels([])\n",
    "ax.set_ylabel('PERCENT OF REVENUE')\n",
    "ax.set_xlabel('VENDORS')\n",
    "\n",
    "plt.show()\n",
    "\n",
    "#Key takeaways: \n",
    "    # - vendor with most revenue generates .8% of total market revenue so it is not dominated by single vendor"
   ]
  },
  {
   "cell_type": "code",
   "execution_count": 0,
   "metadata": {
    "collapsed": false
   },
   "outputs": [
   ],
   "source": [
    "# #How much revenue is each vendor making in entire market\n",
    "\n",
    "# #Get unique vendors\n",
    "\n",
    "\n",
    "# fig, ax = plt.subplots(figsize=(15,9))  \n",
    "\n",
    "# new_sum_of_revenue_per_vendor.plot.bar(x='vendor_name',\n",
    "#                                  y='percentage_of_revenue', \n",
    "#                                  ax=ax, \n",
    "#                                  color = rand_color.generate())\n",
    "\n",
    "# plt.show()"
   ]
  },
  {
   "cell_type": "code",
   "execution_count": 0,
   "metadata": {
    "collapsed": false
   },
   "outputs": [
   ],
   "source": [
    "\n",
    "# total_revenue = new_sum_of_revenue_per_vendor['USD'].sum()"
   ]
  },
  {
   "cell_type": "code",
   "execution_count": 0,
   "metadata": {
    "collapsed": false
   },
   "outputs": [
   ],
   "source": [
    "# vendor_list"
   ]
  },
  {
   "cell_type": "code",
   "execution_count": 0,
   "metadata": {
    "collapsed": false
   },
   "outputs": [
   ],
   "source": [
   ]
  },
  {
   "cell_type": "code",
   "execution_count": 0,
   "metadata": {
    "collapsed": false
   },
   "outputs": [
   ],
   "source": [
   ]
  },
  {
   "cell_type": "code",
   "execution_count": 0,
   "metadata": {
    "collapsed": false
   },
   "outputs": [
   ],
   "source": [
    "# #Create a dataframe with cols = cats; rows = vendors\n",
    "# total_revenue_table = pd.DataFrame(columns = drug_categories)\n",
    "\n",
    "# #Insert vendor name column\n",
    "# total_revenue_table.insert(0, \"Vendor_Name\", vendor_list)"
   ]
  },
  {
   "cell_type": "code",
   "execution_count": 0,
   "metadata": {
    "collapsed": false
   },
   "outputs": [
   ],
   "source": [
    "# # create a function to fill total revenue dataframe\n",
    "# def getRevenueForVendor(vendor_name):\n",
    "# #     Args: Name of a vendor (string)\n",
    "# #     Returns: series, representing total revenue per drug category\n",
    "#     vendor_subset = new_sum_of_revenue_per_vendor[new_sum_of_revenue_per_vendor['vendor_name'] == vendor_name]\n",
    "#     vendor_drug_revenue = vendor_subset['USD'].groupby(vendor_subset['drug_cats']).sum()\n",
    "# #     vendor_drug_revenue = vendor_subset['drug_cats'].groupby(vendor_subset['drug_cats']).sum()\n",
    "#     return(vendor_drug_revenue)"
   ]
  },
  {
   "cell_type": "code",
   "execution_count": 0,
   "metadata": {
    "collapsed": false
   },
   "outputs": [
   ],
   "source": [
    "# # Apply function to dataframe\n",
    "# total_revenue_table.iloc[:,1:] = total_revenue_table['Vendor_Name'].apply(getRevenueForVendor)\n",
    "\n",
    "# #Fill the rest of values with zeros\n",
    "# total_revenue_table = total_revenue_table.fillna(0)"
   ]
  },
  {
   "cell_type": "code",
   "execution_count": 0,
   "metadata": {
    "collapsed": false
   },
   "outputs": [
   ],
   "source": [
    "# total_revenue_table.head()"
   ]
  },
  {
   "cell_type": "code",
   "execution_count": 0,
   "metadata": {
    "collapsed": false
   },
   "outputs": [
   ],
   "source": [
    "#Convert vendor_name column to string\n",
    "# total_revenue_table['Vendor_Name'] = total_revenue_table['Vendor_Name'].astype(str)\n",
    "# total_revenue_table.dtypes"
   ]
  },
  {
   "cell_type": "code",
   "execution_count": 0,
   "metadata": {
    "collapsed": false
   },
   "outputs": [
   ],
   "source": [
    "#Reset the index to vendor_name\n",
    "# total_revenue_table = total_revenue_table.set_index('Vendor_Name')"
   ]
  },
  {
   "cell_type": "code",
   "execution_count": 0,
   "metadata": {
    "collapsed": false
   },
   "outputs": [
   ],
   "source": [
    "# #Function that gets the column given the drug\n",
    "# def getDrugRevenue(drug_cat):\n",
    "#     total_revenue_per_drug = total_revenue_table.loc[:,drug_cat]\n",
    "#     return total_revenue_per_drug\n",
    "\n",
    "# # print (getDrugRevenue(''))"
   ]
  },
  {
   "cell_type": "code",
   "execution_count": 0,
   "metadata": {
    "collapsed": false
   },
   "outputs": [
   ],
   "source": [
    "# #Function that gets the values for each vendor\n",
    "# def getVendorRevenueRow(vendor):\n",
    "# #     total_revenue_per_vendor = total_revenue_table.loc[vendor,:]\n",
    "#     total_revenue_per_vendor = total_revenue_table.loc[vendor]\n",
    "# #     total_revenue_per_vendor = total_revenue_table[total_revenue_table['Vendor_Name'] == vendor]\n",
    "#     return total_revenue_per_vendor\n",
    "\n",
    "# print (list(getVendorRevenueRow('1stopquickshop')))"
   ]
  },
  {
   "cell_type": "code",
   "execution_count": 0,
   "metadata": {
    "collapsed": false
   },
   "outputs": [
   ],
   "source": [
    "new"
   ]
  }
 ],
 "metadata": {
  "kernelspec": {
   "display_name": "Python 3 (system-wide)",
   "language": "python",
   "metadata": {
    "cocalc": {
     "description": "Python 3 programming language",
     "priority": 100,
     "url": "https://www.python.org/"
    }
   },
   "name": "python3"
  },
  "language_info": {
   "codemirror_mode": {
    "name": "ipython",
    "version": 3
   },
   "file_extension": ".py",
   "mimetype": "text/x-python",
   "name": "python",
   "nbconvert_exporter": "python",
   "pygments_lexer": "ipython3",
   "version": "3.6.8"
  }
 },
 "nbformat": 4,
 "nbformat_minor": 0
}