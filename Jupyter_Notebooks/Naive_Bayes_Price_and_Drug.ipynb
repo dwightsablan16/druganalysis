{
 "cells": [
  {
   "cell_type": "code",
   "execution_count": 1,
   "metadata": {
    "collapsed": false
   },
   "outputs": [
   ],
   "source": [
    "import numpy as np\n",
    "import pandas as pd\n",
    "import matplotlib.pyplot as plt\n",
    "from itertools import compress\n",
    "\n",
    "import datetime\n",
    "from dateutil.parser import parse\n",
    "\n",
    "from sklearn import preprocessing\n",
    "from sklearn.preprocessing import OneHotEncoder\n",
    "\n",
    "import math\n",
    "import os\n",
    "import copy\n",
    "import pickle\n",
    "\n",
    "# import drugLookup"
   ]
  },
  {
   "cell_type": "code",
   "execution_count": 2,
   "metadata": {
    "collapsed": false
   },
   "outputs": [
   ],
   "source": [
    "# Read in data (from pickle file)\n",
    "file = open('drug_and_price_train.pkl','rb')\n",
    "train_set = pickle.load(file)\n",
    "\n",
    "file = open('drug_and_price_test.pkl','rb')\n",
    "test_set = pickle.load(file)\n",
    "\n",
    "\n",
    "#Combined dataset (train and test)\n",
    "file = open('drug_and_price.pkl','rb')\n",
    "data = pickle.load(file)"
   ]
  },
  {
   "cell_type": "code",
   "execution_count": 3,
   "metadata": {
    "collapsed": false
   },
   "outputs": [
   ],
   "source": [
    "test_set = test_set.drop(columns=['vendor_pred'])"
   ]
  },
  {
   "cell_type": "code",
   "execution_count": 4,
   "metadata": {
    "collapsed": false
   },
   "outputs": [
   ],
   "source": [
    "data = data.drop(columns=['vendor_pred'])"
   ]
  },
  {
   "cell_type": "code",
   "execution_count": 5,
   "metadata": {
    "collapsed": false
   },
   "outputs": [
    {
     "data": {
      "text/html": [
       "<div>\n",
       "<style scoped>\n",
       "    .dataframe tbody tr th:only-of-type {\n",
       "        vertical-align: middle;\n",
       "    }\n",
       "\n",
       "    .dataframe tbody tr th {\n",
       "        vertical-align: top;\n",
       "    }\n",
       "\n",
       "    .dataframe thead th {\n",
       "        text-align: right;\n",
       "    }\n",
       "</style>\n",
       "<table border=\"1\" class=\"dataframe\">\n",
       "  <thead>\n",
       "    <tr style=\"text-align: right;\">\n",
       "      <th></th>\n",
       "      <th>transaction_id</th>\n",
       "      <th>vendor_id</th>\n",
       "      <th>vendor_name</th>\n",
       "      <th>bitcoin</th>\n",
       "      <th>USD</th>\n",
       "      <th>product_description</th>\n",
       "      <th>dates</th>\n",
       "      <th>drug_prediction</th>\n",
       "      <th>price_category</th>\n",
       "    </tr>\n",
       "  </thead>\n",
       "  <tbody>\n",
       "    <tr>\n",
       "      <th>53463</th>\n",
       "      <td>'54561</td>\n",
       "      <td>453</td>\n",
       "      <td>DerSandmann</td>\n",
       "      <td>0</td>\n",
       "      <td>112.557</td>\n",
       "      <td>1g (91%+/-) COLUMBIA PLATIN Kokain/Cocaine Flakes</td>\n",
       "      <td>2018-12-01 22:15:22</td>\n",
       "      <td>cocaine</td>\n",
       "      <td>100.0</td>\n",
       "    </tr>\n",
       "    <tr>\n",
       "      <th>15112</th>\n",
       "      <td>'16210</td>\n",
       "      <td>907</td>\n",
       "      <td>pillonpourvousservir</td>\n",
       "      <td>0</td>\n",
       "      <td>70.819</td>\n",
       "      <td>10g KIA HASH prenium</td>\n",
       "      <td>2018-12-01 22:17:51</td>\n",
       "      <td>hashish</td>\n",
       "      <td>60.0</td>\n",
       "    </tr>\n",
       "    <tr>\n",
       "      <th>15154</th>\n",
       "      <td>'16252</td>\n",
       "      <td>907</td>\n",
       "      <td>pillonpourvousservir</td>\n",
       "      <td>0</td>\n",
       "      <td>70.819</td>\n",
       "      <td>10g KIA HASH prenium</td>\n",
       "      <td>2018-12-01 22:17:51</td>\n",
       "      <td>hashish</td>\n",
       "      <td>60.0</td>\n",
       "    </tr>\n",
       "    <tr>\n",
       "      <th>55014</th>\n",
       "      <td>'56112</td>\n",
       "      <td>48</td>\n",
       "      <td>PHARMALABS</td>\n",
       "      <td>0</td>\n",
       "      <td>39.520</td>\n",
       "      <td>USP Azithromycin 500 mg - 10 tablets</td>\n",
       "      <td>2018-12-01 22:27:33</td>\n",
       "      <td>others</td>\n",
       "      <td>20.0</td>\n",
       "    </tr>\n",
       "    <tr>\n",
       "      <th>15864</th>\n",
       "      <td>'16962</td>\n",
       "      <td>1197</td>\n",
       "      <td>Gladyman</td>\n",
       "      <td>0</td>\n",
       "      <td>7.280</td>\n",
       "      <td>Viagra 200MG Generic Cenforce</td>\n",
       "      <td>2018-12-01 22:29:13</td>\n",
       "      <td>others</td>\n",
       "      <td>0.0</td>\n",
       "    </tr>\n",
       "  </tbody>\n",
       "</table>\n",
       "</div>"
      ],
      "text/plain": [
       "      transaction_id  vendor_id           vendor_name bitcoin      USD  \\\n",
       "53463         '54561        453           DerSandmann       0  112.557   \n",
       "15112         '16210        907  pillonpourvousservir       0   70.819   \n",
       "15154         '16252        907  pillonpourvousservir       0   70.819   \n",
       "55014         '56112         48            PHARMALABS       0   39.520   \n",
       "15864         '16962       1197              Gladyman       0    7.280   \n",
       "\n",
       "                                     product_description               dates  \\\n",
       "53463  1g (91%+/-) COLUMBIA PLATIN Kokain/Cocaine Flakes 2018-12-01 22:15:22   \n",
       "15112                               10g KIA HASH prenium 2018-12-01 22:17:51   \n",
       "15154                               10g KIA HASH prenium 2018-12-01 22:17:51   \n",
       "55014               USP Azithromycin 500 mg - 10 tablets 2018-12-01 22:27:33   \n",
       "15864                      Viagra 200MG Generic Cenforce 2018-12-01 22:29:13   \n",
       "\n",
       "      drug_prediction  price_category  \n",
       "53463         cocaine           100.0  \n",
       "15112         hashish            60.0  \n",
       "15154         hashish            60.0  \n",
       "55014          others            20.0  \n",
       "15864          others             0.0  "
      ]
     },
     "execution_count": 5,
     "metadata": {
     },
     "output_type": "execute_result"
    }
   ],
   "source": [
    "test_set.head()"
   ]
  },
  {
   "cell_type": "code",
   "execution_count": 121,
   "metadata": {
    "collapsed": false
   },
   "outputs": [
   ],
   "source": [
    "# data"
   ]
  },
  {
   "cell_type": "code",
   "execution_count": 122,
   "metadata": {
    "collapsed": false
   },
   "outputs": [
   ],
   "source": [
    "d_train = list(train_set['drug_prediction'])\n",
    "v_train = list(train_set['vendor_name'])\n",
    "\n",
    "d_test = list(test_set['drug_prediction'])\n",
    "v_test = list(test_set['vendor_name'])"
   ]
  },
  {
   "cell_type": "markdown",
   "metadata": {
    "collapsed": false
   },
   "source": [
    "#### Encoding data to numerical values"
   ]
  },
  {
   "cell_type": "code",
   "execution_count": 123,
   "metadata": {
    "collapsed": false
   },
   "outputs": [
   ],
   "source": [
    "# Bin time values in the test set\n",
    "# train_set['time_bin'] = train_set['new_date'].apply(binTime, start_times = interval_starts)\n",
    "\n",
    "interval = 20\n",
    "\n",
    "# Get data for testing\n",
    "X_train = train_set[['drug_prediction','price_category']]\n",
    "\n",
    "vendor_le = preprocessing.LabelEncoder()\n",
    "vendor_le.fit(train_set['vendor_name'])\n",
    "y_train = vendor_le.transform(train_set['vendor_name'])\n",
    "\n",
    "# One-hot encoding\n",
    "enc = OneHotEncoder(categories = 'auto',handle_unknown = 'ignore')\n",
    "enc.fit(X_train)\n",
    "X_train = enc.transform(X_train)"
   ]
  },
  {
   "cell_type": "code",
   "execution_count": 107,
   "metadata": {
    "collapsed": true
   },
   "outputs": [
    {
     "data": {
      "text/html": [
       "<div>\n",
       "<style scoped>\n",
       "    .dataframe tbody tr th:only-of-type {\n",
       "        vertical-align: middle;\n",
       "    }\n",
       "\n",
       "    .dataframe tbody tr th {\n",
       "        vertical-align: top;\n",
       "    }\n",
       "\n",
       "    .dataframe thead th {\n",
       "        text-align: right;\n",
       "    }\n",
       "</style>\n",
       "<table border=\"1\" class=\"dataframe\">\n",
       "  <thead>\n",
       "    <tr style=\"text-align: right;\">\n",
       "      <th></th>\n",
       "      <th>transaction_id</th>\n",
       "      <th>vendor_id</th>\n",
       "      <th>vendor_name</th>\n",
       "      <th>bitcoin</th>\n",
       "      <th>USD</th>\n",
       "      <th>product_description</th>\n",
       "      <th>dates</th>\n",
       "      <th>drug_prediction</th>\n",
       "      <th>price_category</th>\n",
       "    </tr>\n",
       "  </thead>\n",
       "  <tbody>\n",
       "    <tr>\n",
       "      <th>10946</th>\n",
       "      <td>'12044</td>\n",
       "      <td>754</td>\n",
       "      <td>hiddenhands</td>\n",
       "      <td>0</td>\n",
       "      <td>72.532</td>\n",
       "      <td>KETAMINE 3G AAA+++ | OFFER | Next Day Delivery</td>\n",
       "      <td>2018-04-03 19:14:02</td>\n",
       "      <td>ketamine</td>\n",
       "      <td>72.0</td>\n",
       "    </tr>\n",
       "    <tr>\n",
       "      <th>10911</th>\n",
       "      <td>'12009</td>\n",
       "      <td>754</td>\n",
       "      <td>hiddenhands</td>\n",
       "      <td>0</td>\n",
       "      <td>72.532</td>\n",
       "      <td>KETAMINE 3G AAA+++ | OFFER | Next Day Delivery</td>\n",
       "      <td>2018-04-03 19:14:02</td>\n",
       "      <td>ketamine</td>\n",
       "      <td>72.0</td>\n",
       "    </tr>\n",
       "    <tr>\n",
       "      <th>15416</th>\n",
       "      <td>'16514</td>\n",
       "      <td>438</td>\n",
       "      <td>drugpharmacist</td>\n",
       "      <td>0</td>\n",
       "      <td>145.600</td>\n",
       "      <td>Bomb Cartel Ice 7g - FREE PRIORITY SHIPPING</td>\n",
       "      <td>2018-04-03 22:19:03</td>\n",
       "      <td>methamphetamine</td>\n",
       "      <td>145.0</td>\n",
       "    </tr>\n",
       "    <tr>\n",
       "      <th>21600</th>\n",
       "      <td>'22698</td>\n",
       "      <td>962</td>\n",
       "      <td>trotters_stash</td>\n",
       "      <td>0</td>\n",
       "      <td>382.446</td>\n",
       "      <td>7g High Quality Pure #3 Heroin - Uncut</td>\n",
       "      <td>2018-04-04 02:00:13</td>\n",
       "      <td>heroin</td>\n",
       "      <td>382.0</td>\n",
       "    </tr>\n",
       "    <tr>\n",
       "      <th>10955</th>\n",
       "      <td>'12053</td>\n",
       "      <td>754</td>\n",
       "      <td>hiddenhands</td>\n",
       "      <td>0</td>\n",
       "      <td>72.532</td>\n",
       "      <td>KETAMINE 3G AAA+++ | OFFER | Next Day Delivery</td>\n",
       "      <td>2018-04-04 19:14:02</td>\n",
       "      <td>ketamine</td>\n",
       "      <td>72.0</td>\n",
       "    </tr>\n",
       "  </tbody>\n",
       "</table>\n",
       "</div>"
      ],
      "text/plain": [
       "      transaction_id  vendor_id     vendor_name bitcoin      USD  \\\n",
       "10946         '12044        754     hiddenhands       0   72.532   \n",
       "10911         '12009        754     hiddenhands       0   72.532   \n",
       "15416         '16514        438  drugpharmacist       0  145.600   \n",
       "21600         '22698        962  trotters_stash       0  382.446   \n",
       "10955         '12053        754     hiddenhands       0   72.532   \n",
       "\n",
       "                                  product_description               dates  \\\n",
       "10946  KETAMINE 3G AAA+++ | OFFER | Next Day Delivery 2018-04-03 19:14:02   \n",
       "10911  KETAMINE 3G AAA+++ | OFFER | Next Day Delivery 2018-04-03 19:14:02   \n",
       "15416     Bomb Cartel Ice 7g - FREE PRIORITY SHIPPING 2018-04-03 22:19:03   \n",
       "21600          7g High Quality Pure #3 Heroin - Uncut 2018-04-04 02:00:13   \n",
       "10955  KETAMINE 3G AAA+++ | OFFER | Next Day Delivery 2018-04-04 19:14:02   \n",
       "\n",
       "       drug_prediction  price_category  \n",
       "10946         ketamine            72.0  \n",
       "10911         ketamine            72.0  \n",
       "15416  methamphetamine           145.0  \n",
       "21600           heroin           382.0  \n",
       "10955         ketamine            72.0  "
      ]
     },
     "execution_count": 107,
     "metadata": {
     },
     "output_type": "execute_result"
    }
   ],
   "source": [
    "data.head()"
   ]
  },
  {
   "cell_type": "markdown",
   "metadata": {
    "collapsed": false
   },
   "source": [
    "#### Model Training"
   ]
  },
  {
   "cell_type": "code",
   "execution_count": 108,
   "metadata": {
    "collapsed": false
   },
   "outputs": [
   ],
   "source": [
    "# train_set.head()"
   ]
  },
  {
   "cell_type": "code",
   "execution_count": 124,
   "metadata": {
    "collapsed": false
   },
   "outputs": [
    {
     "data": {
      "text/plain": [
       "MultinomialNB(alpha=1.0, class_prior=None, fit_prior=True)"
      ]
     },
     "execution_count": 124,
     "metadata": {
     },
     "output_type": "execute_result"
    }
   ],
   "source": [
    "from sklearn.naive_bayes import MultinomialNB\n",
    "\n",
    "# Train Naïve-Bayes model\n",
    "nb_model = MultinomialNB()\n",
    "nb_model.fit(X_train, y_train)"
   ]
  },
  {
   "cell_type": "markdown",
   "metadata": {
    "collapsed": false
   },
   "source": [
    "#### Evaluating the Model"
   ]
  },
  {
   "cell_type": "code",
   "execution_count": 110,
   "metadata": {
    "collapsed": false
   },
   "outputs": [
   ],
   "source": [
    "# test_set.head()"
   ]
  },
  {
   "cell_type": "code",
   "execution_count": 125,
   "metadata": {
    "collapsed": false
   },
   "outputs": [
   ],
   "source": [
    "# Bin time values in the test set\n",
    "# test_set[''] = test_set['new_date'].apply(binTime, start_times = interval_starts)\n",
    "\n",
    "# Get data for testing\n",
    "X_test = test_set[['drug_prediction','price_category']]\n",
    "y_test = vendor_le.transform(test_set['vendor_name'])\n",
    "\n",
    "# One-hot encoding\n",
    "X_test = enc.transform(X_test)"
   ]
  },
  {
   "cell_type": "code",
   "execution_count": 126,
   "metadata": {
    "collapsed": false
   },
   "outputs": [
   ],
   "source": [
    "# Function to get list of indices with max value\n",
    "def multi_argmax(v, n):\n",
    "#     v is vector \n",
    "#     n is number of maximum indices to return\n",
    "    max_indices = []\n",
    "    temp = copy.deepcopy(v)\n",
    "    while len(max_indices) < n:\n",
    "        max_idx = np.argmax(temp)\n",
    "        max_indices.append(max_idx)\n",
    "        temp[max_idx] = -1\n",
    "    return(max_indices)"
   ]
  },
  {
   "cell_type": "code",
   "execution_count": 127,
   "metadata": {
    "collapsed": false
   },
   "outputs": [
   ],
   "source": [
    "# Function to get the top class predictions using model.predict_proba\n",
    "def get_top_n(prob_vector, n, encoder = vendor_le):\n",
    "    max_indices = multi_argmax(prob_vector, n)\n",
    "    max_vendors = encoder.inverse_transform(max_indices)\n",
    "    return(max_vendors)"
   ]
  },
  {
   "cell_type": "code",
   "execution_count": 128,
   "metadata": {
    "collapsed": false
   },
   "outputs": [
   ],
   "source": [
    "# Get probability predictions for each transaction in the dataset\n",
    "prob_ar = nb_model.predict_proba(X_test)\n",
    "vendor_preds = np.apply_along_axis(get_top_n, 1, prob_ar, n = 15)"
   ]
  },
  {
   "cell_type": "code",
   "execution_count": 129,
   "metadata": {
    "collapsed": false
   },
   "outputs": [
   ],
   "source": [
    "# Get accuracy\n",
    "# Compute 'top n' accuracy\n",
    "def get_top_n_acc(actuals, preds, n):\n",
    "    q = zip(actuals, preds)\n",
    "    if n == 1:\n",
    "        ar = [samp[0] == samp[1][0] for samp in q]\n",
    "    else:\n",
    "        ar = [samp[0] in samp[1][:n] for samp in q]\n",
    "    acc = np.sum(ar)/len(ar)\n",
    "    return(round(acc,4))"
   ]
  },
  {
   "cell_type": "code",
   "execution_count": 130,
   "metadata": {
    "collapsed": false
   },
   "outputs": [
    {
     "name": "stdout",
     "output_type": "stream",
     "text": [
      "sklearn Naïve-Bayes, 20 dollar:\n",
      "Top 1 accuracy : 0.222\n",
      "Top 5 accuracy : 0.6021\n",
      "Top 10 accuracy: 0.8071\n"
     ]
    }
   ],
   "source": [
    "# Naïve-Bayes, sklearn implementation\n",
    "print('sklearn Naïve-Bayes,',interval,'dollar:')\n",
    "print('Top 1 accuracy :',get_top_n_acc(vendor_le.inverse_transform(y_test), vendor_preds, 1))\n",
    "print('Top 5 accuracy :',get_top_n_acc(vendor_le.inverse_transform(y_test), vendor_preds, 5))\n",
    "print('Top 10 accuracy:',get_top_n_acc(vendor_le.inverse_transform(y_test), vendor_preds, 10))"
   ]
  },
  {
   "cell_type": "code",
   "execution_count": 0,
   "metadata": {
    "collapsed": false
   },
   "outputs": [
   ],
   "source": [
   ]
  }
 ],
 "metadata": {
  "kernelspec": {
   "display_name": "Python 3 (system-wide)",
   "language": "python",
   "metadata": {
    "cocalc": {
     "description": "Python 3 programming language",
     "priority": 100,
     "url": "https://www.python.org/"
    }
   },
   "name": "python3"
  },
  "language_info": {
   "codemirror_mode": {
    "name": "ipython",
    "version": 3
   },
   "file_extension": ".py",
   "mimetype": "text/x-python",
   "name": "python",
   "nbconvert_exporter": "python",
   "pygments_lexer": "ipython3",
   "version": "3.6.8"
  }
 },
 "nbformat": 4,
 "nbformat_minor": 0
}