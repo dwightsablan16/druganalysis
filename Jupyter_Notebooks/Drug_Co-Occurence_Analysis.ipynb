{
 "cells": [
  {
   "cell_type": "code",
   "execution_count": 1,
   "metadata": {
    "collapsed": false
   },
   "outputs": [
   ],
   "source": [
    "import numpy as np\n",
    "import pandas as pd\n",
    "import matplotlib.pyplot as plt\n",
    "from itertools import compress\n",
    "\n",
    "import datetime\n",
    "import calendar\n",
    "from dateutil.parser import parse\n",
    "from matplotlib import rc\n",
    "\n",
    "import math\n",
    "import os\n",
    "import copy\n",
    "import pickle\n",
    "\n",
    "import itertools\n",
    "import operator"
   ]
  },
  {
   "cell_type": "code",
   "execution_count": 2,
   "metadata": {
    "collapsed": false
   },
   "outputs": [
   ],
   "source": [
    "# Read in data (from pickle file)\n",
    "file = open('drug_data','rb')\n",
    "drug_data = pickle.load(file)"
   ]
  },
  {
   "cell_type": "code",
   "execution_count": 3,
   "metadata": {
    "collapsed": false
   },
   "outputs": [
    {
     "data": {
      "text/html": [
       "<div>\n",
       "<style scoped>\n",
       "    .dataframe tbody tr th:only-of-type {\n",
       "        vertical-align: middle;\n",
       "    }\n",
       "\n",
       "    .dataframe tbody tr th {\n",
       "        vertical-align: top;\n",
       "    }\n",
       "\n",
       "    .dataframe thead th {\n",
       "        text-align: right;\n",
       "    }\n",
       "</style>\n",
       "<table border=\"1\" class=\"dataframe\">\n",
       "  <thead>\n",
       "    <tr style=\"text-align: right;\">\n",
       "      <th></th>\n",
       "      <th>transaction_id</th>\n",
       "      <th>vendor_id</th>\n",
       "      <th>vendor_name</th>\n",
       "      <th>bitcoin</th>\n",
       "      <th>USD</th>\n",
       "      <th>product_description</th>\n",
       "      <th>date</th>\n",
       "      <th>drug_prediction</th>\n",
       "      <th>rating</th>\n",
       "      <th>feedback</th>\n",
       "      <th>drug_cats</th>\n",
       "    </tr>\n",
       "  </thead>\n",
       "  <tbody>\n",
       "    <tr>\n",
       "      <th>119927</th>\n",
       "      <td>'121025</td>\n",
       "      <td>2031</td>\n",
       "      <td>SweetTreats</td>\n",
       "      <td>0</td>\n",
       "      <td>61.0</td>\n",
       "      <td>3 Piece - 61 USD - HOLIDAY SALE 17/EA | Distil...</td>\n",
       "      <td>2019-01-01 09:40:00</td>\n",
       "      <td>[marijuana]</td>\n",
       "      <td>5.0</td>\n",
       "      <td>great carts will buy again!</td>\n",
       "      <td>marijuana</td>\n",
       "    </tr>\n",
       "    <tr>\n",
       "      <th>119928</th>\n",
       "      <td>'121026</td>\n",
       "      <td>2031</td>\n",
       "      <td>SweetTreats</td>\n",
       "      <td>0</td>\n",
       "      <td>78.0</td>\n",
       "      <td>4 Piece - 78 USD - HOLIDAY SALE 17/EA | Distil...</td>\n",
       "      <td>2018-12-31 12:22:00</td>\n",
       "      <td>[marijuana]</td>\n",
       "      <td>5.0</td>\n",
       "      <td>great carts will buy again!</td>\n",
       "      <td>marijuana</td>\n",
       "    </tr>\n",
       "    <tr>\n",
       "      <th>119929</th>\n",
       "      <td>'121027</td>\n",
       "      <td>2031</td>\n",
       "      <td>SweetTreats</td>\n",
       "      <td>0</td>\n",
       "      <td>61.0</td>\n",
       "      <td>3 Piece - 61 USD - HOLIDAY SALE 17/EA | Distil...</td>\n",
       "      <td>2018-12-30 11:09:00</td>\n",
       "      <td>[marijuana]</td>\n",
       "      <td>4.0</td>\n",
       "      <td>great carts will buy again!</td>\n",
       "      <td>marijuana</td>\n",
       "    </tr>\n",
       "    <tr>\n",
       "      <th>119930</th>\n",
       "      <td>'121028</td>\n",
       "      <td>2031</td>\n",
       "      <td>SweetTreats</td>\n",
       "      <td>0</td>\n",
       "      <td>112.0</td>\n",
       "      <td>6 Piece - 112 USD - HOLIDAY SALE 17/EA | Disti...</td>\n",
       "      <td>2018-12-29 08:53:00</td>\n",
       "      <td>[marijuana]</td>\n",
       "      <td>5.0</td>\n",
       "      <td>Great value, good quality, quick shipping -- t...</td>\n",
       "      <td>marijuana</td>\n",
       "    </tr>\n",
       "    <tr>\n",
       "      <th>119932</th>\n",
       "      <td>'121030</td>\n",
       "      <td>2306</td>\n",
       "      <td>majordan</td>\n",
       "      <td>0</td>\n",
       "      <td>-1.0</td>\n",
       "      <td>1 Piece - 240 EUR - 1 bar of hublot pollen hash</td>\n",
       "      <td>2018-12-28 04:38:00</td>\n",
       "      <td>[hashish]</td>\n",
       "      <td>5.0</td>\n",
       "      <td>#####</td>\n",
       "      <td>hashish</td>\n",
       "    </tr>\n",
       "  </tbody>\n",
       "</table>\n",
       "</div>"
      ],
      "text/plain": [
       "       transaction_id  vendor_id  vendor_name bitcoin    USD  \\\n",
       "119927        '121025       2031  SweetTreats       0   61.0   \n",
       "119928        '121026       2031  SweetTreats       0   78.0   \n",
       "119929        '121027       2031  SweetTreats       0   61.0   \n",
       "119930        '121028       2031  SweetTreats       0  112.0   \n",
       "119932        '121030       2306     majordan       0   -1.0   \n",
       "\n",
       "                                      product_description                date  \\\n",
       "119927  3 Piece - 61 USD - HOLIDAY SALE 17/EA | Distil... 2019-01-01 09:40:00   \n",
       "119928  4 Piece - 78 USD - HOLIDAY SALE 17/EA | Distil... 2018-12-31 12:22:00   \n",
       "119929  3 Piece - 61 USD - HOLIDAY SALE 17/EA | Distil... 2018-12-30 11:09:00   \n",
       "119930  6 Piece - 112 USD - HOLIDAY SALE 17/EA | Disti... 2018-12-29 08:53:00   \n",
       "119932    1 Piece - 240 EUR - 1 bar of hublot pollen hash 2018-12-28 04:38:00   \n",
       "\n",
       "       drug_prediction  rating  \\\n",
       "119927     [marijuana]     5.0   \n",
       "119928     [marijuana]     5.0   \n",
       "119929     [marijuana]     4.0   \n",
       "119930     [marijuana]     5.0   \n",
       "119932       [hashish]     5.0   \n",
       "\n",
       "                                                 feedback  drug_cats  \n",
       "119927                        great carts will buy again!  marijuana  \n",
       "119928                        great carts will buy again!  marijuana  \n",
       "119929                        great carts will buy again!  marijuana  \n",
       "119930  Great value, good quality, quick shipping -- t...  marijuana  \n",
       "119932                                              #####    hashish  "
      ]
     },
     "execution_count": 3,
     "metadata": {
     },
     "output_type": "execute_result"
    }
   ],
   "source": [
    "drug_data.tail()"
   ]
  },
  {
   "cell_type": "markdown",
   "metadata": {
    "collapsed": false
   },
   "source": [
    "## Get all the unique drugs for each vendor"
   ]
  },
  {
   "cell_type": "code",
   "execution_count": 4,
   "metadata": {
    "collapsed": false
   },
   "outputs": [
    {
     "ename": "KeyError",
     "evalue": "'buyer_name'",
     "output_type": "error",
     "traceback": [
      "\u001b[0;31m---------------------------------------------------------------------------\u001b[0m",
      "\u001b[0;31mKeyError\u001b[0m                                  Traceback (most recent call last)",
      "\u001b[0;32m/usr/local/lib/python3.6/dist-packages/pandas/core/indexes/base.py\u001b[0m in \u001b[0;36mget_loc\u001b[0;34m(self, key, method, tolerance)\u001b[0m\n\u001b[1;32m   2656\u001b[0m             \u001b[0;32mtry\u001b[0m\u001b[0;34m:\u001b[0m\u001b[0;34m\u001b[0m\u001b[0;34m\u001b[0m\u001b[0m\n\u001b[0;32m-> 2657\u001b[0;31m                 \u001b[0;32mreturn\u001b[0m \u001b[0mself\u001b[0m\u001b[0;34m.\u001b[0m\u001b[0m_engine\u001b[0m\u001b[0;34m.\u001b[0m\u001b[0mget_loc\u001b[0m\u001b[0;34m(\u001b[0m\u001b[0mkey\u001b[0m\u001b[0;34m)\u001b[0m\u001b[0;34m\u001b[0m\u001b[0;34m\u001b[0m\u001b[0m\n\u001b[0m\u001b[1;32m   2658\u001b[0m             \u001b[0;32mexcept\u001b[0m \u001b[0mKeyError\u001b[0m\u001b[0;34m:\u001b[0m\u001b[0;34m\u001b[0m\u001b[0;34m\u001b[0m\u001b[0m\n",
      "\u001b[0;32mpandas/_libs/index.pyx\u001b[0m in \u001b[0;36mpandas._libs.index.IndexEngine.get_loc\u001b[0;34m()\u001b[0m\n",
      "\u001b[0;32mpandas/_libs/index.pyx\u001b[0m in \u001b[0;36mpandas._libs.index.IndexEngine.get_loc\u001b[0;34m()\u001b[0m\n",
      "\u001b[0;32mpandas/_libs/hashtable_class_helper.pxi\u001b[0m in \u001b[0;36mpandas._libs.hashtable.PyObjectHashTable.get_item\u001b[0;34m()\u001b[0m\n",
      "\u001b[0;32mpandas/_libs/hashtable_class_helper.pxi\u001b[0m in \u001b[0;36mpandas._libs.hashtable.PyObjectHashTable.get_item\u001b[0;34m()\u001b[0m\n",
      "\u001b[0;31mKeyError\u001b[0m: 'buyer_name'",
      "\nDuring handling of the above exception, another exception occurred:\n",
      "\u001b[0;31mKeyError\u001b[0m                                  Traceback (most recent call last)",
      "\u001b[0;32m<ipython-input-4-2c91b1815d59>\u001b[0m in \u001b[0;36m<module>\u001b[0;34m()\u001b[0m\n\u001b[1;32m      1\u001b[0m \u001b[0;31m#Get all the unique buyer names\u001b[0m\u001b[0;34m\u001b[0m\u001b[0;34m\u001b[0m\u001b[0;34m\u001b[0m\u001b[0m\n\u001b[0;32m----> 2\u001b[0;31m \u001b[0m_\u001b[0m \u001b[0;34m,\u001b[0m \u001b[0munique_buyers\u001b[0m \u001b[0;34m=\u001b[0m \u001b[0mpd\u001b[0m\u001b[0;34m.\u001b[0m\u001b[0mfactorize\u001b[0m\u001b[0;34m(\u001b[0m\u001b[0mdrug_data\u001b[0m\u001b[0;34m[\u001b[0m\u001b[0;34m'buyer_name'\u001b[0m\u001b[0;34m]\u001b[0m\u001b[0;34m)\u001b[0m\u001b[0;34m\u001b[0m\u001b[0;34m\u001b[0m\u001b[0m\n\u001b[0m",
      "\u001b[0;32m/usr/local/lib/python3.6/dist-packages/pandas/core/frame.py\u001b[0m in \u001b[0;36m__getitem__\u001b[0;34m(self, key)\u001b[0m\n\u001b[1;32m   2925\u001b[0m             \u001b[0;32mif\u001b[0m \u001b[0mself\u001b[0m\u001b[0;34m.\u001b[0m\u001b[0mcolumns\u001b[0m\u001b[0;34m.\u001b[0m\u001b[0mnlevels\u001b[0m \u001b[0;34m>\u001b[0m \u001b[0;36m1\u001b[0m\u001b[0;34m:\u001b[0m\u001b[0;34m\u001b[0m\u001b[0;34m\u001b[0m\u001b[0m\n\u001b[1;32m   2926\u001b[0m                 \u001b[0;32mreturn\u001b[0m \u001b[0mself\u001b[0m\u001b[0;34m.\u001b[0m\u001b[0m_getitem_multilevel\u001b[0m\u001b[0;34m(\u001b[0m\u001b[0mkey\u001b[0m\u001b[0;34m)\u001b[0m\u001b[0;34m\u001b[0m\u001b[0;34m\u001b[0m\u001b[0m\n\u001b[0;32m-> 2927\u001b[0;31m             \u001b[0mindexer\u001b[0m \u001b[0;34m=\u001b[0m \u001b[0mself\u001b[0m\u001b[0;34m.\u001b[0m\u001b[0mcolumns\u001b[0m\u001b[0;34m.\u001b[0m\u001b[0mget_loc\u001b[0m\u001b[0;34m(\u001b[0m\u001b[0mkey\u001b[0m\u001b[0;34m)\u001b[0m\u001b[0;34m\u001b[0m\u001b[0;34m\u001b[0m\u001b[0m\n\u001b[0m\u001b[1;32m   2928\u001b[0m             \u001b[0;32mif\u001b[0m \u001b[0mis_integer\u001b[0m\u001b[0;34m(\u001b[0m\u001b[0mindexer\u001b[0m\u001b[0;34m)\u001b[0m\u001b[0;34m:\u001b[0m\u001b[0;34m\u001b[0m\u001b[0;34m\u001b[0m\u001b[0m\n\u001b[1;32m   2929\u001b[0m                 \u001b[0mindexer\u001b[0m \u001b[0;34m=\u001b[0m \u001b[0;34m[\u001b[0m\u001b[0mindexer\u001b[0m\u001b[0;34m]\u001b[0m\u001b[0;34m\u001b[0m\u001b[0;34m\u001b[0m\u001b[0m\n",
      "\u001b[0;32m/usr/local/lib/python3.6/dist-packages/pandas/core/indexes/base.py\u001b[0m in \u001b[0;36mget_loc\u001b[0;34m(self, key, method, tolerance)\u001b[0m\n\u001b[1;32m   2657\u001b[0m                 \u001b[0;32mreturn\u001b[0m \u001b[0mself\u001b[0m\u001b[0;34m.\u001b[0m\u001b[0m_engine\u001b[0m\u001b[0;34m.\u001b[0m\u001b[0mget_loc\u001b[0m\u001b[0;34m(\u001b[0m\u001b[0mkey\u001b[0m\u001b[0;34m)\u001b[0m\u001b[0;34m\u001b[0m\u001b[0;34m\u001b[0m\u001b[0m\n\u001b[1;32m   2658\u001b[0m             \u001b[0;32mexcept\u001b[0m \u001b[0mKeyError\u001b[0m\u001b[0;34m:\u001b[0m\u001b[0;34m\u001b[0m\u001b[0;34m\u001b[0m\u001b[0m\n\u001b[0;32m-> 2659\u001b[0;31m                 \u001b[0;32mreturn\u001b[0m \u001b[0mself\u001b[0m\u001b[0;34m.\u001b[0m\u001b[0m_engine\u001b[0m\u001b[0;34m.\u001b[0m\u001b[0mget_loc\u001b[0m\u001b[0;34m(\u001b[0m\u001b[0mself\u001b[0m\u001b[0;34m.\u001b[0m\u001b[0m_maybe_cast_indexer\u001b[0m\u001b[0;34m(\u001b[0m\u001b[0mkey\u001b[0m\u001b[0;34m)\u001b[0m\u001b[0;34m)\u001b[0m\u001b[0;34m\u001b[0m\u001b[0;34m\u001b[0m\u001b[0m\n\u001b[0m\u001b[1;32m   2660\u001b[0m         \u001b[0mindexer\u001b[0m \u001b[0;34m=\u001b[0m \u001b[0mself\u001b[0m\u001b[0;34m.\u001b[0m\u001b[0mget_indexer\u001b[0m\u001b[0;34m(\u001b[0m\u001b[0;34m[\u001b[0m\u001b[0mkey\u001b[0m\u001b[0;34m]\u001b[0m\u001b[0;34m,\u001b[0m \u001b[0mmethod\u001b[0m\u001b[0;34m=\u001b[0m\u001b[0mmethod\u001b[0m\u001b[0;34m,\u001b[0m \u001b[0mtolerance\u001b[0m\u001b[0;34m=\u001b[0m\u001b[0mtolerance\u001b[0m\u001b[0;34m)\u001b[0m\u001b[0;34m\u001b[0m\u001b[0;34m\u001b[0m\u001b[0m\n\u001b[1;32m   2661\u001b[0m         \u001b[0;32mif\u001b[0m \u001b[0mindexer\u001b[0m\u001b[0;34m.\u001b[0m\u001b[0mndim\u001b[0m \u001b[0;34m>\u001b[0m \u001b[0;36m1\u001b[0m \u001b[0;32mor\u001b[0m \u001b[0mindexer\u001b[0m\u001b[0;34m.\u001b[0m\u001b[0msize\u001b[0m \u001b[0;34m>\u001b[0m \u001b[0;36m1\u001b[0m\u001b[0;34m:\u001b[0m\u001b[0;34m\u001b[0m\u001b[0;34m\u001b[0m\u001b[0m\n",
      "\u001b[0;32mpandas/_libs/index.pyx\u001b[0m in \u001b[0;36mpandas._libs.index.IndexEngine.get_loc\u001b[0;34m()\u001b[0m\n",
      "\u001b[0;32mpandas/_libs/index.pyx\u001b[0m in \u001b[0;36mpandas._libs.index.IndexEngine.get_loc\u001b[0;34m()\u001b[0m\n",
      "\u001b[0;32mpandas/_libs/hashtable_class_helper.pxi\u001b[0m in \u001b[0;36mpandas._libs.hashtable.PyObjectHashTable.get_item\u001b[0;34m()\u001b[0m\n",
      "\u001b[0;32mpandas/_libs/hashtable_class_helper.pxi\u001b[0m in \u001b[0;36mpandas._libs.hashtable.PyObjectHashTable.get_item\u001b[0;34m()\u001b[0m\n",
      "\u001b[0;31mKeyError\u001b[0m: 'buyer_name'"
     ]
    }
   ],
   "source": [
    "#Get all the unique buyer names \n",
    "_ , unique_buyers = pd.factorize(drug_data['buyer_name'])"
   ]
  },
  {
   "cell_type": "code",
   "execution_count": 0,
   "metadata": {
    "collapsed": false
   },
   "outputs": [
   ],
   "source": [
    "unique_buyers"
   ]
  },
  {
   "cell_type": "code",
   "execution_count": 0,
   "metadata": {
    "collapsed": false
   },
   "outputs": [
   ],
   "source": [
    "#Get dataframe with buyer names, market id, drug prediction\n",
    "buyer_and_drug = copy.deepcopy(drug_data.iloc[:,[1,4,7,9]])\n",
    "\n",
    "buyer_and_drug.columns = ['market_id','buyer_name','product_description','drug_prediction']"
   ]
  },
  {
   "cell_type": "code",
   "execution_count": 0,
   "metadata": {
    "collapsed": false
   },
   "outputs": [
   ],
   "source": [
    "buyer_and_drug.tail()"
   ]
  },
  {
   "cell_type": "code",
   "execution_count": 0,
   "metadata": {
    "collapsed": false
   },
   "outputs": [
   ],
   "source": [
    "#function to convert list to string\n",
    "def flatten(drug_list):\n",
    "    str1 = ''.join(drug_list)\n",
    "    return str1\n",
    "\n",
    "#convert predictions from list to strings\n",
    "buyer_and_drug['drug_cats'] = buyer_and_drug.iloc[:,3].apply(flatten)"
   ]
  },
  {
   "cell_type": "code",
   "execution_count": 0,
   "metadata": {
    "collapsed": false
   },
   "outputs": [
   ],
   "source": [
    "buyer_and_drug.head()"
   ]
  },
  {
   "cell_type": "code",
   "execution_count": 0,
   "metadata": {
    "collapsed": false
   },
   "outputs": [
   ],
   "source": [
    "#Define a function to get all drug types for each buyer_name\n",
    "def getDrugForBuyer(buyer):\n",
    "    \n",
    "    buyer_subset = buyer_and_drug[buyer_and_drug['buyer_name'] == buyer]\n",
    "\n",
    "    drug_pred_list = list(buyer_subset['drug_cats'])\n",
    "    \n",
    "    return drug_pred_list"
   ]
  },
  {
   "cell_type": "code",
   "execution_count": 0,
   "metadata": {
    "collapsed": false
   },
   "outputs": [
   ],
   "source": [
    "#Create a dataframe with all the unique buyer names\n",
    "buyer_df = pd.DataFrame(unique_buyers)\n",
    "buyer_df.columns = ['buyer_name']"
   ]
  },
  {
   "cell_type": "code",
   "execution_count": 0,
   "metadata": {
    "collapsed": false
   },
   "outputs": [
   ],
   "source": [
    "#Get all the list of drugs predictions for each vendor\n",
    "drug_lists = []\n",
    "\n",
    "for buyer in unique_buyers:\n",
    "    buy = getDrugForBuyer(buyer)\n",
    "    drug_lists.append(buy)"
   ]
  },
  {
   "cell_type": "code",
   "execution_count": 0,
   "metadata": {
    "collapsed": false
   },
   "outputs": [
   ],
   "source": [
    "#fill dataframe with drug_prediction for each buyer\n",
    "buyer_df['list_of_drugs'] = drug_lists"
   ]
  },
  {
   "cell_type": "code",
   "execution_count": 0,
   "metadata": {
    "collapsed": false
   },
   "outputs": [
   ],
   "source": [
    "buyer_df.head()"
   ]
  },
  {
   "cell_type": "code",
   "execution_count": 0,
   "metadata": {
    "collapsed": false
   },
   "outputs": [
   ],
   "source": [
    "def getUniqueDrug(drug_list):\n",
    "    unique_drugs = list(set(drug_list))\n",
    "    \n",
    "    return unique_drugs"
   ]
  },
  {
   "cell_type": "code",
   "execution_count": 0,
   "metadata": {
    "collapsed": false
   },
   "outputs": [
   ],
   "source": [
    "#Get all the unique drugs for each buyer\n",
    "buyer_df['unique_drug_predictions'] = buyer_df.iloc[:,1].apply(getUniqueDrug)"
   ]
  },
  {
   "cell_type": "code",
   "execution_count": 0,
   "metadata": {
    "collapsed": false
   },
   "outputs": [
   ],
   "source": [
    "buyer_df.head()"
   ]
  },
  {
   "cell_type": "code",
   "execution_count": 0,
   "metadata": {
    "collapsed": false
   },
   "outputs": [
   ],
   "source": [
    "#Define a function to get all the market ids for each buyer\n",
    "def getMarketOfBuyer(buyer):\n",
    "    \n",
    "    buyer_subset = buyer_and_drug[buyer_and_drug['buyer_name'] == buyer]\n",
    "\n",
    "    market_id_list = list(buyer_subset['market_id'])\n",
    "    \n",
    "    return market_id_list"
   ]
  },
  {
   "cell_type": "code",
   "execution_count": 0,
   "metadata": {
    "collapsed": false
   },
   "outputs": [
   ],
   "source": [
    "#Get all the list of market ids for each buyer\n",
    "market_list = []\n",
    "\n",
    "for buyer in unique_buyers:\n",
    "    market_number = getMarketOfBuyer(buyer)\n",
    "    market_list.append(market_number)"
   ]
  },
  {
   "cell_type": "code",
   "execution_count": 0,
   "metadata": {
    "collapsed": false
   },
   "outputs": [
   ],
   "source": [
    "#fill dataframe with market ids for each buyer\n",
    "buyer_df['market_number'] = market_list"
   ]
  },
  {
   "cell_type": "code",
   "execution_count": 0,
   "metadata": {
    "collapsed": false
   },
   "outputs": [
   ],
   "source": [
    "def getUniqueMarket(m_list):\n",
    "    unique_markets = list(set(m_list))\n",
    "    \n",
    "    return unique_markets"
   ]
  },
  {
   "cell_type": "code",
   "execution_count": 0,
   "metadata": {
    "collapsed": false
   },
   "outputs": [
   ],
   "source": [
    "buyer_df.head()"
   ]
  },
  {
   "cell_type": "code",
   "execution_count": 0,
   "metadata": {
    "collapsed": false
   },
   "outputs": [
   ],
   "source": [
    "#Get all the unique drugs for each buyer\n",
    "buyer_df['unique_market'] = buyer_df.iloc[:,3].apply(getUniqueMarket)"
   ]
  },
  {
   "cell_type": "code",
   "execution_count": 0,
   "metadata": {
    "collapsed": false
   },
   "outputs": [
   ],
   "source": [
    "buyer_df.head()"
   ]
  },
  {
   "cell_type": "code",
   "execution_count": 0,
   "metadata": {
    "collapsed": false
   },
   "outputs": [
   ],
   "source": [
    "# buyer_df.to_csv(r'buyer_df.csv', index = False)"
   ]
  },
  {
   "cell_type": "markdown",
   "metadata": {
    "collapsed": false
   },
   "source": [
    "## Check for relation in buyer name and buying habits\n"
   ]
  },
  {
   "cell_type": "code",
   "execution_count": 0,
   "metadata": {
    "collapsed": false
   },
   "outputs": [
   ],
   "source": [
    "#Get the first and last letter for each buyer\n",
    "def getCharacters(vendor_name):\n",
    "    first_letter = vendor_name[0]\n",
    "    last_letter = vendor_name[-1]\n",
    "    \n",
    "    return first_letter + last_letter"
   ]
  },
  {
   "cell_type": "code",
   "execution_count": 0,
   "metadata": {
    "collapsed": false
   },
   "outputs": [
   ],
   "source": [
    "#Get all the first and last letters of each buyer\n",
    "buyer_df['buyer_ID'] = buyer_df.iloc[:,0].apply(getCharacters)"
   ]
  },
  {
   "cell_type": "code",
   "execution_count": 0,
   "metadata": {
    "collapsed": false
   },
   "outputs": [
   ],
   "source": [
    "len(buyer_df)"
   ]
  },
  {
   "cell_type": "code",
   "execution_count": 0,
   "metadata": {
    "collapsed": false
   },
   "outputs": [
   ],
   "source": [
    "#Make copy of dataframe with just buyer id and unique purchases\n",
    "id_drug_df = copy.deepcopy(buyer_df.iloc[:,[5,2]])\n",
    "\n",
    "id_drug_df.columns = ['Buyer_ID', 'Unique_Buys']"
   ]
  },
  {
   "cell_type": "code",
   "execution_count": 0,
   "metadata": {
    "collapsed": false
   },
   "outputs": [
   ],
   "source": [
    "id_drug_df = id_drug_df.sort_values(by=['Buyer_ID'])"
   ]
  },
  {
   "cell_type": "code",
   "execution_count": 0,
   "metadata": {
    "collapsed": false
   },
   "outputs": [
   ],
   "source": [
    "id_drug_df.to_csv(r'id_drug.csv', index = False)"
   ]
  },
  {
   "cell_type": "markdown",
   "metadata": {
    "collapsed": false
   },
   "source": [
    "### Note: did not see many similarities"
   ]
  },
  {
   "cell_type": "code",
   "execution_count": 0,
   "metadata": {
    "collapsed": false
   },
   "outputs": [
   ],
   "source": [
   ]
  },
  {
   "cell_type": "markdown",
   "metadata": {
    "collapsed": false
   },
   "source": [
    "## Investigate Drug Co-Occurence\n"
   ]
  },
  {
   "cell_type": "code",
   "execution_count": 5,
   "metadata": {
    "collapsed": false
   },
   "outputs": [
    {
     "ename": "NameError",
     "evalue": "name 'buyer_df' is not defined",
     "output_type": "error",
     "traceback": [
      "\u001b[0;31m---------------------------------------------------------------------------\u001b[0m",
      "\u001b[0;31mNameError\u001b[0m                                 Traceback (most recent call last)",
      "\u001b[0;32m<ipython-input-5-8c842d99f7ac>\u001b[0m in \u001b[0;36m<module>\u001b[0;34m()\u001b[0m\n\u001b[1;32m      1\u001b[0m \u001b[0;31m#Get the list unique drugs for each buyer\u001b[0m\u001b[0;34m\u001b[0m\u001b[0;34m\u001b[0m\u001b[0;34m\u001b[0m\u001b[0m\n\u001b[0;32m----> 2\u001b[0;31m \u001b[0mdrug_series\u001b[0m \u001b[0;34m=\u001b[0m \u001b[0mbuyer_df\u001b[0m\u001b[0;34m[\u001b[0m\u001b[0;34m'unique_drug_predictions'\u001b[0m\u001b[0;34m]\u001b[0m\u001b[0;34m.\u001b[0m\u001b[0mtolist\u001b[0m\u001b[0;34m(\u001b[0m\u001b[0;34m)\u001b[0m\u001b[0;34m\u001b[0m\u001b[0;34m\u001b[0m\u001b[0m\n\u001b[0m",
      "\u001b[0;31mNameError\u001b[0m: name 'buyer_df' is not defined"
     ]
    }
   ],
   "source": [
    "#Get the list unique drugs for each buyer\n",
    "drug_series = buyer_df['unique_drug_predictions'].tolist()"
   ]
  },
  {
   "cell_type": "code",
   "execution_count": 0,
   "metadata": {
    "collapsed": false
   },
   "outputs": [
   ],
   "source": [
    "from collections import Counter\n",
    "from itertools import combinations\n",
    "\n",
    "counter  = Counter()"
   ]
  },
  {
   "cell_type": "code",
   "execution_count": 0,
   "metadata": {
    "collapsed": false
   },
   "outputs": [
   ],
   "source": [
    "#find the most common pairings of each list\n",
    "for sub in drug_series:\n",
    "    if len(drug_series) < 2:\n",
    "        continue\n",
    "    sub.sort()\n",
    "    for comb in combinations(sub,2):\n",
    "        counter[comb] += 1"
   ]
  },
  {
   "cell_type": "code",
   "execution_count": 0,
   "metadata": {
    "collapsed": false
   },
   "outputs": [
   ],
   "source": [
    "#Print the most common pairings\n",
    "most_common = counter.most_common()\n",
    "\n",
    "most_common"
   ]
  },
  {
   "cell_type": "code",
   "execution_count": 0,
   "metadata": {
    "collapsed": false
   },
   "outputs": [
   ],
   "source": [
    "#saving in a file\n",
    "import pickle\n",
    "file=open('market_co' , 'wb')\n",
    "pickle.dump(market_co, file)\n",
    "file.close()"
   ]
  }
 ],
 "metadata": {
  "kernelspec": {
   "display_name": "Python 3 (system-wide)",
   "language": "python",
   "metadata": {
    "cocalc": {
     "description": "Python 3 programming language",
     "priority": 100,
     "url": "https://www.python.org/"
    }
   },
   "name": "python3"
  },
  "language_info": {
   "codemirror_mode": {
    "name": "ipython",
    "version": 3
   },
   "file_extension": ".py",
   "mimetype": "text/x-python",
   "name": "python",
   "nbconvert_exporter": "python",
   "pygments_lexer": "ipython3",
   "version": "3.6.8"
  }
 },
 "nbformat": 4,
 "nbformat_minor": 0
}