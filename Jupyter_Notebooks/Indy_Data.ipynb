{
 "cells": [
  {
   "cell_type": "code",
   "execution_count": 1,
   "metadata": {
    "collapsed": false
   },
   "outputs": [
   ],
   "source": [
    "import numpy as np\n",
    "import pandas as pd\n",
    "import matplotlib.pyplot as plt\n",
    "from itertools import compress\n",
    "\n",
    "from datetime import datetime\n",
    "from dateutil.parser import parse\n",
    "\n",
    "import math\n",
    "import os\n",
    "import copy\n",
    "\n",
    "import pickle"
   ]
  },
  {
   "cell_type": "code",
   "execution_count": 2,
   "metadata": {
    "collapsed": false
   },
   "outputs": [
   ],
   "source": [
    "# Reading the text file\n",
    "indy_data = pd.read_csv('indy_opioid-geo.csv', engine = 'python')"
   ]
  },
  {
   "cell_type": "code",
   "execution_count": 3,
   "metadata": {
    "collapsed": false
   },
   "outputs": [
    {
     "data": {
      "text/html": [
       "<div>\n",
       "<style scoped>\n",
       "    .dataframe tbody tr th:only-of-type {\n",
       "        vertical-align: middle;\n",
       "    }\n",
       "\n",
       "    .dataframe tbody tr th {\n",
       "        vertical-align: top;\n",
       "    }\n",
       "\n",
       "    .dataframe thead th {\n",
       "        text-align: right;\n",
       "    }\n",
       "</style>\n",
       "<table border=\"1\" class=\"dataframe\">\n",
       "  <thead>\n",
       "    <tr style=\"text-align: right;\">\n",
       "      <th></th>\n",
       "      <th>Case_Number</th>\n",
       "      <th>Year</th>\n",
       "      <th>Sex</th>\n",
       "      <th>Race</th>\n",
       "      <th>DOD</th>\n",
       "      <th>Age</th>\n",
       "      <th>Military</th>\n",
       "      <th>Employment</th>\n",
       "      <th>Education</th>\n",
       "      <th>Marital_Status</th>\n",
       "      <th>...</th>\n",
       "      <th>MPreDirectional</th>\n",
       "      <th>MName</th>\n",
       "      <th>MSuffix</th>\n",
       "      <th>MCity</th>\n",
       "      <th>MState</th>\n",
       "      <th>MZip</th>\n",
       "      <th>QualityInjury</th>\n",
       "      <th>FeatureMatchingHierarchyNotesInjury</th>\n",
       "      <th>LatitudeInjury</th>\n",
       "      <th>LongitudeInjury</th>\n",
       "    </tr>\n",
       "  </thead>\n",
       "  <tbody>\n",
       "    <tr>\n",
       "      <th>0</th>\n",
       "      <td>100064</td>\n",
       "      <td>2010</td>\n",
       "      <td>1</td>\n",
       "      <td>1</td>\n",
       "      <td>1/14/10</td>\n",
       "      <td>20</td>\n",
       "      <td>0.0</td>\n",
       "      <td>2.0</td>\n",
       "      <td>2.0</td>\n",
       "      <td>1</td>\n",
       "      <td>...</td>\n",
       "      <td>NaN</td>\n",
       "      <td>HARLAN</td>\n",
       "      <td>ST</td>\n",
       "      <td>Indianapolis</td>\n",
       "      <td>IN</td>\n",
       "      <td>46203</td>\n",
       "      <td>ExactParcelCentroidPoint</td>\n",
       "      <td>NaN</td>\n",
       "      <td>39.746800</td>\n",
       "      <td>-86.125646</td>\n",
       "    </tr>\n",
       "    <tr>\n",
       "      <th>1</th>\n",
       "      <td>100076</td>\n",
       "      <td>2010</td>\n",
       "      <td>1</td>\n",
       "      <td>2</td>\n",
       "      <td>1/16/10</td>\n",
       "      <td>42</td>\n",
       "      <td>0.0</td>\n",
       "      <td>1.0</td>\n",
       "      <td>2.0</td>\n",
       "      <td>1</td>\n",
       "      <td>...</td>\n",
       "      <td>N</td>\n",
       "      <td>DENNY</td>\n",
       "      <td>ST</td>\n",
       "      <td>Indianapolis</td>\n",
       "      <td>IN</td>\n",
       "      <td>46218</td>\n",
       "      <td>ExactParcelCentroidPoint</td>\n",
       "      <td>NaN</td>\n",
       "      <td>39.816930</td>\n",
       "      <td>-86.101735</td>\n",
       "    </tr>\n",
       "    <tr>\n",
       "      <th>2</th>\n",
       "      <td>100079</td>\n",
       "      <td>2010</td>\n",
       "      <td>0</td>\n",
       "      <td>1</td>\n",
       "      <td>1/17/10</td>\n",
       "      <td>28</td>\n",
       "      <td>0.0</td>\n",
       "      <td>1.0</td>\n",
       "      <td>4.0</td>\n",
       "      <td>1</td>\n",
       "      <td>...</td>\n",
       "      <td>NaN</td>\n",
       "      <td>STONEROOT</td>\n",
       "      <td>PL</td>\n",
       "      <td>Indianapolis</td>\n",
       "      <td>IN</td>\n",
       "      <td>46203</td>\n",
       "      <td>ExactParcelCentroidPoint</td>\n",
       "      <td>NaN</td>\n",
       "      <td>39.726285</td>\n",
       "      <td>-86.063188</td>\n",
       "    </tr>\n",
       "    <tr>\n",
       "      <th>3</th>\n",
       "      <td>100092</td>\n",
       "      <td>2010</td>\n",
       "      <td>1</td>\n",
       "      <td>2</td>\n",
       "      <td>1/20/10</td>\n",
       "      <td>47</td>\n",
       "      <td>0.0</td>\n",
       "      <td>1.0</td>\n",
       "      <td>6.0</td>\n",
       "      <td>2</td>\n",
       "      <td>...</td>\n",
       "      <td>NaN</td>\n",
       "      <td>MURPHYS</td>\n",
       "      <td>LNDG</td>\n",
       "      <td>Indianapolis</td>\n",
       "      <td>IN</td>\n",
       "      <td>46220</td>\n",
       "      <td>USPSZipAreaCentroid</td>\n",
       "      <td>NaN</td>\n",
       "      <td>39.867992</td>\n",
       "      <td>-86.108018</td>\n",
       "    </tr>\n",
       "    <tr>\n",
       "      <th>4</th>\n",
       "      <td>100095</td>\n",
       "      <td>2010</td>\n",
       "      <td>1</td>\n",
       "      <td>1</td>\n",
       "      <td>1/21/10</td>\n",
       "      <td>47</td>\n",
       "      <td>0.0</td>\n",
       "      <td>1.0</td>\n",
       "      <td>4.0</td>\n",
       "      <td>2</td>\n",
       "      <td>...</td>\n",
       "      <td>NaN</td>\n",
       "      <td>SHILO</td>\n",
       "      <td>RD</td>\n",
       "      <td>Unionville</td>\n",
       "      <td>IN</td>\n",
       "      <td>47468</td>\n",
       "      <td>AddressRangeInterpolation</td>\n",
       "      <td>NaN</td>\n",
       "      <td>39.651268</td>\n",
       "      <td>-86.167904</td>\n",
       "    </tr>\n",
       "  </tbody>\n",
       "</table>\n",
       "<p>5 rows × 246 columns</p>\n",
       "</div>"
      ],
      "text/plain": [
       "   Case_Number  Year  Sex  Race      DOD  Age  Military  Employment  \\\n",
       "0       100064  2010    1     1  1/14/10   20       0.0         2.0   \n",
       "1       100076  2010    1     2  1/16/10   42       0.0         1.0   \n",
       "2       100079  2010    0     1  1/17/10   28       0.0         1.0   \n",
       "3       100092  2010    1     2  1/20/10   47       0.0         1.0   \n",
       "4       100095  2010    1     1  1/21/10   47       0.0         1.0   \n",
       "\n",
       "   Education  Marital_Status  ... MPreDirectional      MName MSuffix  \\\n",
       "0        2.0               1  ...             NaN     HARLAN      ST   \n",
       "1        2.0               1  ...               N      DENNY      ST   \n",
       "2        4.0               1  ...             NaN  STONEROOT      PL   \n",
       "3        6.0               2  ...             NaN    MURPHYS    LNDG   \n",
       "4        4.0               2  ...             NaN      SHILO      RD   \n",
       "\n",
       "          MCity MState   MZip              QualityInjury  \\\n",
       "0  Indianapolis     IN  46203   ExactParcelCentroidPoint   \n",
       "1  Indianapolis     IN  46218   ExactParcelCentroidPoint   \n",
       "2  Indianapolis     IN  46203   ExactParcelCentroidPoint   \n",
       "3  Indianapolis     IN  46220        USPSZipAreaCentroid   \n",
       "4    Unionville     IN  47468  AddressRangeInterpolation   \n",
       "\n",
       "   FeatureMatchingHierarchyNotesInjury LatitudeInjury  LongitudeInjury  \n",
       "0                                  NaN      39.746800       -86.125646  \n",
       "1                                  NaN      39.816930       -86.101735  \n",
       "2                                  NaN      39.726285       -86.063188  \n",
       "3                                  NaN      39.867992       -86.108018  \n",
       "4                                  NaN      39.651268       -86.167904  \n",
       "\n",
       "[5 rows x 246 columns]"
      ]
     },
     "execution_count": 3,
     "metadata": {
     },
     "output_type": "execute_result"
    }
   ],
   "source": [
    "indy_data.head()"
   ]
  },
  {
   "cell_type": "code",
   "execution_count": 4,
   "metadata": {
    "collapsed": false
   },
   "outputs": [
   ],
   "source": [
    "# indy_data.iloc[:, 26:206]"
   ]
  },
  {
   "cell_type": "code",
   "execution_count": 5,
   "metadata": {
    "collapsed": false
   },
   "outputs": [
   ],
   "source": [
    "drug_test = indy_data.iloc[:, 26:206]"
   ]
  },
  {
   "cell_type": "code",
   "execution_count": 6,
   "metadata": {
    "collapsed": false
   },
   "outputs": [
   ],
   "source": [
    "drug_test = drug_test.drop(['Illicits','Drugs_of_Interest', 'Any_Heroin', 'Any_Fentanyl',\n",
    "                            'Any_Illicit_Opioid', 'Any_Prescription_Opioid', 'Any_Opioid',\n",
    "                            'Any_Benzodiazepine', 'Any_Cocaine', 'Any_Methamphetamine',\n",
    "                            'Drug_Concentrations'], axis=1)"
   ]
  },
  {
   "cell_type": "code",
   "execution_count": 7,
   "metadata": {
    "collapsed": false
   },
   "outputs": [
    {
     "data": {
      "text/html": [
       "<div>\n",
       "<style scoped>\n",
       "    .dataframe tbody tr th:only-of-type {\n",
       "        vertical-align: middle;\n",
       "    }\n",
       "\n",
       "    .dataframe tbody tr th {\n",
       "        vertical-align: top;\n",
       "    }\n",
       "\n",
       "    .dataframe thead th {\n",
       "        text-align: right;\n",
       "    }\n",
       "</style>\n",
       "<table border=\"1\" class=\"dataframe\">\n",
       "  <thead>\n",
       "    <tr style=\"text-align: right;\">\n",
       "      <th></th>\n",
       "      <th>Alcohols</th>\n",
       "      <th>Ethanol</th>\n",
       "      <th>Acetone</th>\n",
       "      <th>Isopropanol</th>\n",
       "      <th>Amphetamines</th>\n",
       "      <th>Amphetamine</th>\n",
       "      <th>Methamphetamine</th>\n",
       "      <th>Ephedrine</th>\n",
       "      <th>MDMA</th>\n",
       "      <th>MDA</th>\n",
       "      <th>...</th>\n",
       "      <th>Fentanyl_Result</th>\n",
       "      <th>Norfentanyl_Result</th>\n",
       "      <th>Oxycodone_Result</th>\n",
       "      <th>Hydrocodone_Result</th>\n",
       "      <th>Oxymorphone_Result</th>\n",
       "      <th>Hydromorphone_Result</th>\n",
       "      <th>Dihydrocodeine_Result</th>\n",
       "      <th>Cocaine_Result</th>\n",
       "      <th>Benzoylecgonine_Result</th>\n",
       "      <th>Methadone_Result</th>\n",
       "    </tr>\n",
       "  </thead>\n",
       "  <tbody>\n",
       "    <tr>\n",
       "      <th>0</th>\n",
       "      <td>0</td>\n",
       "      <td>0</td>\n",
       "      <td>0</td>\n",
       "      <td>0</td>\n",
       "      <td>0</td>\n",
       "      <td>0</td>\n",
       "      <td>0</td>\n",
       "      <td>0</td>\n",
       "      <td>0</td>\n",
       "      <td>0</td>\n",
       "      <td>...</td>\n",
       "      <td>0</td>\n",
       "      <td>0</td>\n",
       "      <td>0</td>\n",
       "      <td>0</td>\n",
       "      <td>0</td>\n",
       "      <td>0</td>\n",
       "      <td>0</td>\n",
       "      <td>0</td>\n",
       "      <td>0</td>\n",
       "      <td>0</td>\n",
       "    </tr>\n",
       "    <tr>\n",
       "      <th>1</th>\n",
       "      <td>1</td>\n",
       "      <td>1</td>\n",
       "      <td>0</td>\n",
       "      <td>0</td>\n",
       "      <td>0</td>\n",
       "      <td>0</td>\n",
       "      <td>0</td>\n",
       "      <td>0</td>\n",
       "      <td>0</td>\n",
       "      <td>0</td>\n",
       "      <td>...</td>\n",
       "      <td>0</td>\n",
       "      <td>0</td>\n",
       "      <td>0</td>\n",
       "      <td>0</td>\n",
       "      <td>0</td>\n",
       "      <td>0</td>\n",
       "      <td>0</td>\n",
       "      <td>0</td>\n",
       "      <td>0</td>\n",
       "      <td>0</td>\n",
       "    </tr>\n",
       "    <tr>\n",
       "      <th>2</th>\n",
       "      <td>1</td>\n",
       "      <td>1</td>\n",
       "      <td>0</td>\n",
       "      <td>0</td>\n",
       "      <td>0</td>\n",
       "      <td>0</td>\n",
       "      <td>0</td>\n",
       "      <td>0</td>\n",
       "      <td>0</td>\n",
       "      <td>0</td>\n",
       "      <td>...</td>\n",
       "      <td>0</td>\n",
       "      <td>0</td>\n",
       "      <td>0</td>\n",
       "      <td>0</td>\n",
       "      <td>0</td>\n",
       "      <td>0</td>\n",
       "      <td>0</td>\n",
       "      <td>0</td>\n",
       "      <td>0</td>\n",
       "      <td>0</td>\n",
       "    </tr>\n",
       "    <tr>\n",
       "      <th>3</th>\n",
       "      <td>0</td>\n",
       "      <td>0</td>\n",
       "      <td>0</td>\n",
       "      <td>0</td>\n",
       "      <td>0</td>\n",
       "      <td>0</td>\n",
       "      <td>0</td>\n",
       "      <td>0</td>\n",
       "      <td>0</td>\n",
       "      <td>0</td>\n",
       "      <td>...</td>\n",
       "      <td>0</td>\n",
       "      <td>0</td>\n",
       "      <td>0</td>\n",
       "      <td>0</td>\n",
       "      <td>0</td>\n",
       "      <td>0</td>\n",
       "      <td>0</td>\n",
       "      <td>0</td>\n",
       "      <td>0</td>\n",
       "      <td>0</td>\n",
       "    </tr>\n",
       "    <tr>\n",
       "      <th>6</th>\n",
       "      <td>0</td>\n",
       "      <td>0</td>\n",
       "      <td>0</td>\n",
       "      <td>0</td>\n",
       "      <td>0</td>\n",
       "      <td>0</td>\n",
       "      <td>0</td>\n",
       "      <td>0</td>\n",
       "      <td>0</td>\n",
       "      <td>0</td>\n",
       "      <td>...</td>\n",
       "      <td>0</td>\n",
       "      <td>0</td>\n",
       "      <td>0</td>\n",
       "      <td>0</td>\n",
       "      <td>0</td>\n",
       "      <td>0</td>\n",
       "      <td>0</td>\n",
       "      <td>0</td>\n",
       "      <td>0</td>\n",
       "      <td>0</td>\n",
       "    </tr>\n",
       "  </tbody>\n",
       "</table>\n",
       "<p>5 rows × 169 columns</p>\n",
       "</div>"
      ],
      "text/plain": [
       "   Alcohols  Ethanol  Acetone  Isopropanol  Amphetamines  Amphetamine  \\\n",
       "0         0        0        0            0             0            0   \n",
       "1         1        1        0            0             0            0   \n",
       "2         1        1        0            0             0            0   \n",
       "3         0        0        0            0             0            0   \n",
       "6         0        0        0            0             0            0   \n",
       "\n",
       "   Methamphetamine  Ephedrine  MDMA  MDA  ...  Fentanyl_Result  \\\n",
       "0                0          0     0    0  ...                0   \n",
       "1                0          0     0    0  ...                0   \n",
       "2                0          0     0    0  ...                0   \n",
       "3                0          0     0    0  ...                0   \n",
       "6                0          0     0    0  ...                0   \n",
       "\n",
       "   Norfentanyl_Result  Oxycodone_Result  Hydrocodone_Result  \\\n",
       "0                   0                 0                   0   \n",
       "1                   0                 0                   0   \n",
       "2                   0                 0                   0   \n",
       "3                   0                 0                   0   \n",
       "6                   0                 0                   0   \n",
       "\n",
       "   Oxymorphone_Result  Hydromorphone_Result  Dihydrocodeine_Result  \\\n",
       "0                   0                     0                      0   \n",
       "1                   0                     0                      0   \n",
       "2                   0                     0                      0   \n",
       "3                   0                     0                      0   \n",
       "6                   0                     0                      0   \n",
       "\n",
       "   Cocaine_Result  Benzoylecgonine_Result  Methadone_Result  \n",
       "0               0                       0                 0  \n",
       "1               0                       0                 0  \n",
       "2               0                       0                 0  \n",
       "3               0                       0                 0  \n",
       "6               0                       0                 0  \n",
       "\n",
       "[5 rows x 169 columns]"
      ]
     },
     "execution_count": 7,
     "metadata": {
     },
     "output_type": "execute_result"
    }
   ],
   "source": [
    "drug_test[(drug_test.sum(axis=1)) > 1].head()"
   ]
  },
  {
   "cell_type": "code",
   "execution_count": 8,
   "metadata": {
    "collapsed": false
   },
   "outputs": [
   ],
   "source": [
    "def getDrugs(row):\n",
    "    row_preds = [] #''\n",
    "    for col_name, value in row.items():\n",
    "        if value == 1:\n",
    "            #row_preds += ' ' + col_name\n",
    "            row_preds.append(col_name)\n",
    "    return(row_preds)"
   ]
  },
  {
   "cell_type": "code",
   "execution_count": 9,
   "metadata": {
    "collapsed": false
   },
   "outputs": [
   ],
   "source": [
    "indy_data['drug_preds'] = drug_test.apply(getDrugs, axis = 1)"
   ]
  },
  {
   "cell_type": "code",
   "execution_count": 10,
   "metadata": {
    "collapsed": false
   },
   "outputs": [
    {
     "data": {
      "text/plain": [
       "0                  [Benzodiazepine, Opioids, Oxymorphone]\n",
       "1                            [Alcohols, Ethanol, Cocaine]\n",
       "2                            [Alcohols, Ethanol, Cocaine]\n",
       "3       [Benzodiazepine, Opioids, Hydrocodone, Hydromo...\n",
       "4                                               [Cocaine]\n",
       "5                                                      []\n",
       "6       [Benzodiazepine, Opioids, Morphine, Hydrocodon...\n",
       "7                                               [Cocaine]\n",
       "8                                        [Benzodiazepine]\n",
       "9                [6_MAM, Opioids, Oxycodone, Hydrocodone]\n",
       "10      [Alcohols, Ethanol, 6_MAM, Heroin_from_combo, ...\n",
       "11      [Benzodiazepine, Opioids, Oxycodone, Oxymorphone]\n",
       "12                                    [Alcohols, Ethanol]\n",
       "13                                       [Benzodiazepine]\n",
       "14      [6_MAM, Heroin_from_combo, Opioids, Morphine, ...\n",
       "15      [Alcohols, Ethanol, 6_MAM, Opioids, Hydromorph...\n",
       "16                      [Cocaine, Opioids, Hydromorphone]\n",
       "17      [Alcohols, Ethanol, Benzodiazepine, 6_MAM, Her...\n",
       "18                                       [Benzodiazepine]\n",
       "19                                              [Cocaine]\n",
       "20                                       [Benzodiazepine]\n",
       "21                        [Amphetamines, Methamphetamine]\n",
       "22      [Benzodiazepine, Opioids, Morphine, Hydrocodon...\n",
       "23      [Alcohols, Ethanol, 6_MAM, Heroin_from_combo, ...\n",
       "24      [Amphetamines, Methamphetamine, Benzodiazepine...\n",
       "25      [6_MAM, Heroin_from_combo, Opioids, Morphine, ...\n",
       "26      [Benzodiazepine, 6_MAM, Heroin_from_combo, Opi...\n",
       "27      [Benzodiazepine, Opioids, Oxycodone, Hydrocodo...\n",
       "28      [Benzodiazepine, Cocaine, Opioids, Hydrocodone...\n",
       "29      [Benzodiazepine, Opioids, Morphine, Oxycodone,...\n",
       "                              ...                        \n",
       "1539    [Alcohols, Ethanol, Amphetamines, Amphetamine,...\n",
       "1540    [Benzodiazepine, Clonazepam, Diazepam, 7AminoC...\n",
       "1541    [Alcohols, Ethanol, 6_MAM, Benzoylecgonine, De...\n",
       "1542    [Benzodiazepine, Alprazolam, Opioids, Fentanyl...\n",
       "1543                           [Cocaine, Benzoylecgonine]\n",
       "1544      [Benzodiazepine, Alprazolam, Opioids, Fentanyl]\n",
       "1545    [Alcohols, Ethanol, Antidepressants, Citalopra...\n",
       "1546    [6_MAM, Cocaine, Benzoylecgonine, Delta_9_THC,...\n",
       "1547    [Opioids, Morphine, Fentanyl, Hydrocodone, Tra...\n",
       "1548    [Benzodiazepine, Nordiazapam, Diazepam, Alpraz...\n",
       "1549    [Alcohols, Ethanol, Benzodiazepine, Alprazolam...\n",
       "1550                               [Opioids, Oxymorphone]\n",
       "1551    [Alcohols, Ethanol, Benzodiazepine, Alprazolam...\n",
       "1552                   [Benzodiazepine, Opioids, Opiates]\n",
       "1553    [Amphetamines, Amphetamine, Methamphetamine, B...\n",
       "1554    [Alcohols, Ethanol, Analgesics, Acetaminophen,...\n",
       "1555    [Benzodiazepine, Alprazolam, 6_MAM, Heroin_fro...\n",
       "1556    [Cocaine, Benzoylecgonine, Opioids, Fentanyl, ...\n",
       "1557    [Benzodiazepine, Alprazolam, 6_MAM, Opioids, M...\n",
       "1558                                            [Opioids]\n",
       "1559    [Amphetamines, Amphetamine, Methamphetamine, B...\n",
       "1560    [Benzodiazepine, Alprazolam, Opioids, Morphine...\n",
       "1561    [Alcohols, Ethanol, Opioids, Morphine, Fentany...\n",
       "1562    [Benzodiazepine, Alprazolam, 6_MAM, Cocaine, B...\n",
       "1563    [Alcohols, Ethanol, Cocaine, Benzoylecgonine, ...\n",
       "1564                                  [Alcohols, Ethanol]\n",
       "1565    [Alcohols, Ethanol, Stimulants, Caffeine, Nico...\n",
       "1566    [Alcohols, Ethanol, Benzodiazepine, Alprazolam...\n",
       "1567    [Benzoylecgonine, Opioids, Fentanyl, Norfentanyl]\n",
       "1568    [Benzodiazepine, Alprazolam, 7AminoClonazepam,...\n",
       "Name: drug_preds, Length: 1569, dtype: object"
      ]
     },
     "execution_count": 10,
     "metadata": {
     },
     "output_type": "execute_result"
    }
   ],
   "source": [
    "indy_data['drug_preds']"
   ]
  },
  {
   "cell_type": "code",
   "execution_count": 11,
   "metadata": {
    "collapsed": false
   },
   "outputs": [
   ],
   "source": [
    "#drug_test.loc[(drug_test['Fentanyl'] == 1) & (drug_test['Cocaine'] == 1)]"
   ]
  },
  {
   "cell_type": "code",
   "execution_count": 12,
   "metadata": {
    "collapsed": false
   },
   "outputs": [
   ],
   "source": [
    "import spacy\n",
    "from spacy.lang.en import English\n",
    "parser = English()"
   ]
  },
  {
   "cell_type": "code",
   "execution_count": 13,
   "metadata": {
    "collapsed": false
   },
   "outputs": [
   ],
   "source": [
    "# Function to tokenize titles\n",
    "\n",
    "def tokenize_1(title):\n",
    "    tokens = parser(title.lower())\n",
    "    tokens = [token.orth_ for token in tokens if not token.orth_.isspace()]\n",
    "    return(tokens)"
   ]
  },
  {
   "cell_type": "code",
   "execution_count": 14,
   "metadata": {
    "collapsed": false
   },
   "outputs": [
   ],
   "source": [
    "# Apply tokenizer to the titles in the dataframe\n",
    "#indy_data['tokenized_titles'] = indy_data.iloc[:,[24, 246]].apply(tokenize_1)"
   ]
  },
  {
   "cell_type": "code",
   "execution_count": 15,
   "metadata": {
    "collapsed": false
   },
   "outputs": [
   ],
   "source": [
    "import drugLookup"
   ]
  },
  {
   "cell_type": "code",
   "execution_count": 16,
   "metadata": {
    "collapsed": false
   },
   "outputs": [
   ],
   "source": [
    "# Load drugs dictionary\n",
    "drugs_dict = drugLookup.get_drugs_dict()\n",
    "\n",
    "complete_multi_word_list = []\n",
    "\n",
    "drug_index = 0\n",
    "#For loop that gets all the synonyms of drugs with more than one word\n",
    "for drug in drugs_dict.keys():\n",
    "    slang_words = drugs_dict[drug]\n",
    "    multi_word_list = []\n",
    "    for slang_word in slang_words:\n",
    "        if ' ' in slang_word:\n",
    "            multi_word_list.append(slang_word)\n",
    "    complete_multi_word_list.append(multi_word_list)"
   ]
  },
  {
   "cell_type": "code",
   "execution_count": 17,
   "metadata": {
    "collapsed": false
   },
   "outputs": [
   ],
   "source": [
    "# Create multi_word dictionary\n",
    "drug_cats = list(drugs_dict.keys())\n",
    "multi_drug_dict = dict(zip(drug_cats, complete_multi_word_list))"
   ]
  },
  {
   "cell_type": "code",
   "execution_count": 18,
   "metadata": {
    "collapsed": false
   },
   "outputs": [
   ],
   "source": [
    "# Load dictionary of drugs\n",
    "drugs_dict = drugLookup.get_drugs_dict()\n",
    "\n",
    "\n",
    "# Get list of possible drugs for each listing\n",
    "def categorize_listing(title_set):\n",
    "    #     Function takes in set of two: first entry is raw_title, second is tokenized_title\n",
    "    possible_drugs = []\n",
    "    list_title_set = list(title_set)\n",
    "    raw_title = list_title_set[0]\n",
    "    tokenized_title = list_title_set[1]\n",
    "    for drug in drugs_dict.keys():\n",
    "        if any(token in drugs_dict[drug] for token in tokenized_title):  # uses tokenization\n",
    "            possible_drugs.append(drug)\n",
    "        if any(multi_word in raw_title.lower() for multi_word in multi_drug_dict[drug]):\n",
    "            possible_drugs.append(drug)\n",
    "            break\n",
    "    return possible_drugs"
   ]
  },
  {
   "cell_type": "code",
   "execution_count": 19,
   "metadata": {
    "collapsed": false
   },
   "outputs": [
   ],
   "source": [
    "# Categorize each listing\n",
    "indy_data['drug_prediction'] = indy_data.iloc[:,[24,246]].apply(categorize_listing, axis = 1)"
   ]
  },
  {
   "cell_type": "code",
   "execution_count": 20,
   "metadata": {
    "collapsed": false
   },
   "outputs": [
    {
     "data": {
      "text/plain": [
       "0                  [Benzodiazepine, Opioids, Oxymorphone]\n",
       "1                            [Alcohols, Ethanol, Cocaine]\n",
       "2                            [Alcohols, Ethanol, Cocaine]\n",
       "3       [Benzodiazepine, Opioids, Hydrocodone, Hydromo...\n",
       "4                                               [Cocaine]\n",
       "5                                                      []\n",
       "6       [Benzodiazepine, Opioids, Morphine, Hydrocodon...\n",
       "7                                               [Cocaine]\n",
       "8                                        [Benzodiazepine]\n",
       "9                [6_MAM, Opioids, Oxycodone, Hydrocodone]\n",
       "10      [Alcohols, Ethanol, 6_MAM, Heroin_from_combo, ...\n",
       "11      [Benzodiazepine, Opioids, Oxycodone, Oxymorphone]\n",
       "12                                    [Alcohols, Ethanol]\n",
       "13                                       [Benzodiazepine]\n",
       "14      [6_MAM, Heroin_from_combo, Opioids, Morphine, ...\n",
       "15      [Alcohols, Ethanol, 6_MAM, Opioids, Hydromorph...\n",
       "16                      [Cocaine, Opioids, Hydromorphone]\n",
       "17      [Alcohols, Ethanol, Benzodiazepine, 6_MAM, Her...\n",
       "18                                       [Benzodiazepine]\n",
       "19                                              [Cocaine]\n",
       "20                                       [Benzodiazepine]\n",
       "21                        [Amphetamines, Methamphetamine]\n",
       "22      [Benzodiazepine, Opioids, Morphine, Hydrocodon...\n",
       "23      [Alcohols, Ethanol, 6_MAM, Heroin_from_combo, ...\n",
       "24      [Amphetamines, Methamphetamine, Benzodiazepine...\n",
       "25      [6_MAM, Heroin_from_combo, Opioids, Morphine, ...\n",
       "26      [Benzodiazepine, 6_MAM, Heroin_from_combo, Opi...\n",
       "27      [Benzodiazepine, Opioids, Oxycodone, Hydrocodo...\n",
       "28      [Benzodiazepine, Cocaine, Opioids, Hydrocodone...\n",
       "29      [Benzodiazepine, Opioids, Morphine, Oxycodone,...\n",
       "                              ...                        \n",
       "1539    [Alcohols, Ethanol, Amphetamines, Amphetamine,...\n",
       "1540    [Benzodiazepine, Clonazepam, Diazepam, 7AminoC...\n",
       "1541    [Alcohols, Ethanol, 6_MAM, Benzoylecgonine, De...\n",
       "1542    [Benzodiazepine, Alprazolam, Opioids, Fentanyl...\n",
       "1543                           [Cocaine, Benzoylecgonine]\n",
       "1544      [Benzodiazepine, Alprazolam, Opioids, Fentanyl]\n",
       "1545    [Alcohols, Ethanol, Antidepressants, Citalopra...\n",
       "1546    [6_MAM, Cocaine, Benzoylecgonine, Delta_9_THC,...\n",
       "1547    [Opioids, Morphine, Fentanyl, Hydrocodone, Tra...\n",
       "1548    [Benzodiazepine, Nordiazapam, Diazepam, Alpraz...\n",
       "1549    [Alcohols, Ethanol, Benzodiazepine, Alprazolam...\n",
       "1550                               [Opioids, Oxymorphone]\n",
       "1551    [Alcohols, Ethanol, Benzodiazepine, Alprazolam...\n",
       "1552                   [Benzodiazepine, Opioids, Opiates]\n",
       "1553    [Amphetamines, Amphetamine, Methamphetamine, B...\n",
       "1554    [Alcohols, Ethanol, Analgesics, Acetaminophen,...\n",
       "1555    [Benzodiazepine, Alprazolam, 6_MAM, Heroin_fro...\n",
       "1556    [Cocaine, Benzoylecgonine, Opioids, Fentanyl, ...\n",
       "1557    [Benzodiazepine, Alprazolam, 6_MAM, Opioids, M...\n",
       "1558                                            [Opioids]\n",
       "1559    [Amphetamines, Amphetamine, Methamphetamine, B...\n",
       "1560    [Benzodiazepine, Alprazolam, Opioids, Morphine...\n",
       "1561    [Alcohols, Ethanol, Opioids, Morphine, Fentany...\n",
       "1562    [Benzodiazepine, Alprazolam, 6_MAM, Cocaine, B...\n",
       "1563    [Alcohols, Ethanol, Cocaine, Benzoylecgonine, ...\n",
       "1564                                  [Alcohols, Ethanol]\n",
       "1565    [Alcohols, Ethanol, Stimulants, Caffeine, Nico...\n",
       "1566    [Alcohols, Ethanol, Benzodiazepine, Alprazolam...\n",
       "1567    [Benzoylecgonine, Opioids, Fentanyl, Norfentanyl]\n",
       "1568    [Benzodiazepine, Alprazolam, 7AminoClonazepam,...\n",
       "Name: drug_preds, Length: 1569, dtype: object"
      ]
     },
     "execution_count": 20,
     "metadata": {
     },
     "output_type": "execute_result"
    }
   ],
   "source": [
    "indy_data.iloc[:,246]"
   ]
  },
  {
   "cell_type": "code",
   "execution_count": 0,
   "metadata": {
    "collapsed": false
   },
   "outputs": [
   ],
   "source": [
   ]
  },
  {
   "cell_type": "markdown",
   "metadata": {
    "collapsed": false
   },
   "source": [
    "## Co-Occurance"
   ]
  },
  {
   "cell_type": "code",
   "execution_count": 21,
   "metadata": {
    "collapsed": false
   },
   "outputs": [
   ],
   "source": [
    "#Get the list unique drugs for each buyer\n",
    "drug_series = indy_data['drug_preds'].tolist()"
   ]
  },
  {
   "cell_type": "code",
   "execution_count": 22,
   "metadata": {
    "collapsed": false
   },
   "outputs": [
   ],
   "source": [
    "from collections import Counter\n",
    "from itertools import combinations\n",
    "\n",
    "counter  = Counter()"
   ]
  },
  {
   "cell_type": "code",
   "execution_count": 23,
   "metadata": {
    "collapsed": false
   },
   "outputs": [
   ],
   "source": [
    "#find the most common pairings of each list\n",
    "for sub in drug_series:\n",
    "    if len(drug_series) < 2:\n",
    "        continue\n",
    "    sub.sort()\n",
    "    for comb in combinations(sub,2):\n",
    "        counter[comb] += 1"
   ]
  },
  {
   "cell_type": "code",
   "execution_count": 24,
   "metadata": {
    "collapsed": false
   },
   "outputs": [
    {
     "name": "stderr",
     "output_type": "stream",
     "text": [
      "WARNING: Some output was deleted.\n"
     ]
    }
   ],
   "source": [
    "#Print the most common pairings\n",
    "most_common = counter.most_common()\n",
    "\n",
    "most_common"
   ]
  },
  {
   "cell_type": "code",
   "execution_count": 25,
   "metadata": {
    "collapsed": false
   },
   "outputs": [
   ],
   "source": [
    "# Read in data (from pickle file)\n",
    "file = open('market_co','rb')\n",
    "market_co = pickle.load(file)"
   ]
  },
  {
   "cell_type": "code",
   "execution_count": 26,
   "metadata": {
    "collapsed": false
   },
   "outputs": [
   ],
   "source": [
    "market_co.columns = ['drug_co','occurs']"
   ]
  },
  {
   "cell_type": "code",
   "execution_count": 27,
   "metadata": {
    "collapsed": false
   },
   "outputs": [
    {
     "data": {
      "text/html": [
       "<div>\n",
       "<style scoped>\n",
       "    .dataframe tbody tr th:only-of-type {\n",
       "        vertical-align: middle;\n",
       "    }\n",
       "\n",
       "    .dataframe tbody tr th {\n",
       "        vertical-align: top;\n",
       "    }\n",
       "\n",
       "    .dataframe thead th {\n",
       "        text-align: right;\n",
       "    }\n",
       "</style>\n",
       "<table border=\"1\" class=\"dataframe\">\n",
       "  <thead>\n",
       "    <tr style=\"text-align: right;\">\n",
       "      <th></th>\n",
       "      <th>drug_co</th>\n",
       "      <th>occurs</th>\n",
       "    </tr>\n",
       "  </thead>\n",
       "  <tbody>\n",
       "    <tr>\n",
       "      <th>0</th>\n",
       "      <td>(cocaine, marijuana)</td>\n",
       "      <td>256</td>\n",
       "    </tr>\n",
       "    <tr>\n",
       "      <th>1</th>\n",
       "      <td>(marijuana, not_drugs)</td>\n",
       "      <td>246</td>\n",
       "    </tr>\n",
       "    <tr>\n",
       "      <th>2</th>\n",
       "      <td>(, not_drugs)</td>\n",
       "      <td>222</td>\n",
       "    </tr>\n",
       "    <tr>\n",
       "      <th>3</th>\n",
       "      <td>(ecstasy, marijuana)</td>\n",
       "      <td>221</td>\n",
       "    </tr>\n",
       "    <tr>\n",
       "      <th>4</th>\n",
       "      <td>(, marijuana)</td>\n",
       "      <td>199</td>\n",
       "    </tr>\n",
       "  </tbody>\n",
       "</table>\n",
       "</div>"
      ],
      "text/plain": [
       "                  drug_co  occurs\n",
       "0    (cocaine, marijuana)     256\n",
       "1  (marijuana, not_drugs)     246\n",
       "2           (, not_drugs)     222\n",
       "3    (ecstasy, marijuana)     221\n",
       "4           (, marijuana)     199"
      ]
     },
     "execution_count": 27,
     "metadata": {
     },
     "output_type": "execute_result"
    }
   ],
   "source": [
    "market_co.head()"
   ]
  },
  {
   "cell_type": "code",
   "execution_count": 28,
   "metadata": {
    "collapsed": false
   },
   "outputs": [
   ],
   "source": [
    "indy_co = pd.DataFrame(most_common)\n",
    "indy_co.columns = ['drug_co', 'occurs']"
   ]
  },
  {
   "cell_type": "code",
   "execution_count": 29,
   "metadata": {
    "collapsed": false
   },
   "outputs": [
    {
     "data": {
      "text/html": [
       "<div>\n",
       "<style scoped>\n",
       "    .dataframe tbody tr th:only-of-type {\n",
       "        vertical-align: middle;\n",
       "    }\n",
       "\n",
       "    .dataframe tbody tr th {\n",
       "        vertical-align: top;\n",
       "    }\n",
       "\n",
       "    .dataframe thead th {\n",
       "        text-align: right;\n",
       "    }\n",
       "</style>\n",
       "<table border=\"1\" class=\"dataframe\">\n",
       "  <thead>\n",
       "    <tr style=\"text-align: right;\">\n",
       "      <th></th>\n",
       "      <th>drug_co</th>\n",
       "      <th>occurs</th>\n",
       "    </tr>\n",
       "  </thead>\n",
       "  <tbody>\n",
       "    <tr>\n",
       "      <th>0</th>\n",
       "      <td>(Morphine, Opioids)</td>\n",
       "      <td>723</td>\n",
       "    </tr>\n",
       "    <tr>\n",
       "      <th>1</th>\n",
       "      <td>(Benzodiazepine, Opioids)</td>\n",
       "      <td>606</td>\n",
       "    </tr>\n",
       "    <tr>\n",
       "      <th>2</th>\n",
       "      <td>(6_MAM, Opioids)</td>\n",
       "      <td>565</td>\n",
       "    </tr>\n",
       "    <tr>\n",
       "      <th>3</th>\n",
       "      <td>(6_MAM, Morphine)</td>\n",
       "      <td>562</td>\n",
       "    </tr>\n",
       "    <tr>\n",
       "      <th>4</th>\n",
       "      <td>(Codeine, Opioids)</td>\n",
       "      <td>533</td>\n",
       "    </tr>\n",
       "  </tbody>\n",
       "</table>\n",
       "</div>"
      ],
      "text/plain": [
       "                     drug_co  occurs\n",
       "0        (Morphine, Opioids)     723\n",
       "1  (Benzodiazepine, Opioids)     606\n",
       "2           (6_MAM, Opioids)     565\n",
       "3          (6_MAM, Morphine)     562\n",
       "4         (Codeine, Opioids)     533"
      ]
     },
     "execution_count": 29,
     "metadata": {
     },
     "output_type": "execute_result"
    }
   ],
   "source": [
    "indy_co.head()"
   ]
  },
  {
   "cell_type": "code",
   "execution_count": 30,
   "metadata": {
    "collapsed": false,
    "scrolled": true
   },
   "outputs": [
   ],
   "source": [
    "#tuple(item.lower() for item in indy_co['drug_coi'][1])"
   ]
  },
  {
   "cell_type": "code",
   "execution_count": 31,
   "metadata": {
    "collapsed": false
   },
   "outputs": [
   ],
   "source": [
    "def tokenize_2(tup):\n",
    "    thing = tuple(item.lower() for item in tup)# in indy_co['drug_coi'][i])\n",
    "    return(thing)"
   ]
  },
  {
   "cell_type": "code",
   "execution_count": 32,
   "metadata": {
    "collapsed": false
   },
   "outputs": [
   ],
   "source": [
    "indy_co['drug_co'] = indy_co['drug_co'].apply(tokenize_2)"
   ]
  },
  {
   "cell_type": "code",
   "execution_count": 33,
   "metadata": {
    "collapsed": false
   },
   "outputs": [
    {
     "data": {
      "text/html": [
       "<div>\n",
       "<style scoped>\n",
       "    .dataframe tbody tr th:only-of-type {\n",
       "        vertical-align: middle;\n",
       "    }\n",
       "\n",
       "    .dataframe tbody tr th {\n",
       "        vertical-align: top;\n",
       "    }\n",
       "\n",
       "    .dataframe thead th {\n",
       "        text-align: right;\n",
       "    }\n",
       "</style>\n",
       "<table border=\"1\" class=\"dataframe\">\n",
       "  <thead>\n",
       "    <tr style=\"text-align: right;\">\n",
       "      <th></th>\n",
       "      <th>drug_co</th>\n",
       "      <th>occurs</th>\n",
       "    </tr>\n",
       "  </thead>\n",
       "  <tbody>\n",
       "    <tr>\n",
       "      <th>0</th>\n",
       "      <td>(morphine, opioids)</td>\n",
       "      <td>723</td>\n",
       "    </tr>\n",
       "    <tr>\n",
       "      <th>1</th>\n",
       "      <td>(benzodiazepine, opioids)</td>\n",
       "      <td>606</td>\n",
       "    </tr>\n",
       "    <tr>\n",
       "      <th>2</th>\n",
       "      <td>(6_mam, opioids)</td>\n",
       "      <td>565</td>\n",
       "    </tr>\n",
       "    <tr>\n",
       "      <th>3</th>\n",
       "      <td>(6_mam, morphine)</td>\n",
       "      <td>562</td>\n",
       "    </tr>\n",
       "    <tr>\n",
       "      <th>4</th>\n",
       "      <td>(codeine, opioids)</td>\n",
       "      <td>533</td>\n",
       "    </tr>\n",
       "    <tr>\n",
       "      <th>5</th>\n",
       "      <td>(6_mam, codeine)</td>\n",
       "      <td>531</td>\n",
       "    </tr>\n",
       "    <tr>\n",
       "      <th>6</th>\n",
       "      <td>(6_mam, heroin_from_combo)</td>\n",
       "      <td>531</td>\n",
       "    </tr>\n",
       "    <tr>\n",
       "      <th>7</th>\n",
       "      <td>(codeine, heroin_from_combo)</td>\n",
       "      <td>531</td>\n",
       "    </tr>\n",
       "    <tr>\n",
       "      <th>8</th>\n",
       "      <td>(codeine, morphine)</td>\n",
       "      <td>531</td>\n",
       "    </tr>\n",
       "    <tr>\n",
       "      <th>9</th>\n",
       "      <td>(heroin_from_combo, morphine)</td>\n",
       "      <td>531</td>\n",
       "    </tr>\n",
       "    <tr>\n",
       "      <th>10</th>\n",
       "      <td>(heroin_from_combo, opioids)</td>\n",
       "      <td>531</td>\n",
       "    </tr>\n",
       "    <tr>\n",
       "      <th>11</th>\n",
       "      <td>(alcohols, ethanol)</td>\n",
       "      <td>365</td>\n",
       "    </tr>\n",
       "    <tr>\n",
       "      <th>12</th>\n",
       "      <td>(benzodiazepine, morphine)</td>\n",
       "      <td>341</td>\n",
       "    </tr>\n",
       "    <tr>\n",
       "      <th>13</th>\n",
       "      <td>(fentanyl, opioids)</td>\n",
       "      <td>337</td>\n",
       "    </tr>\n",
       "    <tr>\n",
       "      <th>14</th>\n",
       "      <td>(hydrocodone, opioids)</td>\n",
       "      <td>264</td>\n",
       "    </tr>\n",
       "    <tr>\n",
       "      <th>15</th>\n",
       "      <td>(6_mam, benzodiazepine)</td>\n",
       "      <td>264</td>\n",
       "    </tr>\n",
       "    <tr>\n",
       "      <th>16</th>\n",
       "      <td>(alcohols, opioids)</td>\n",
       "      <td>261</td>\n",
       "    </tr>\n",
       "    <tr>\n",
       "      <th>17</th>\n",
       "      <td>(ethanol, opioids)</td>\n",
       "      <td>261</td>\n",
       "    </tr>\n",
       "    <tr>\n",
       "      <th>18</th>\n",
       "      <td>(benzodiazepine, codeine)</td>\n",
       "      <td>251</td>\n",
       "    </tr>\n",
       "    <tr>\n",
       "      <th>19</th>\n",
       "      <td>(benzodiazepine, heroin_from_combo)</td>\n",
       "      <td>251</td>\n",
       "    </tr>\n",
       "    <tr>\n",
       "      <th>20</th>\n",
       "      <td>(hydromorphone, opioids)</td>\n",
       "      <td>239</td>\n",
       "    </tr>\n",
       "    <tr>\n",
       "      <th>21</th>\n",
       "      <td>(cocaine, opioids)</td>\n",
       "      <td>239</td>\n",
       "    </tr>\n",
       "    <tr>\n",
       "      <th>22</th>\n",
       "      <td>(opioids, oxycodone)</td>\n",
       "      <td>234</td>\n",
       "    </tr>\n",
       "    <tr>\n",
       "      <th>23</th>\n",
       "      <td>(amphetamines, opioids)</td>\n",
       "      <td>204</td>\n",
       "    </tr>\n",
       "    <tr>\n",
       "      <th>24</th>\n",
       "      <td>(opioids, oxymorphone)</td>\n",
       "      <td>200</td>\n",
       "    </tr>\n",
       "    <tr>\n",
       "      <th>25</th>\n",
       "      <td>(benzodiazepine, hydrocodone)</td>\n",
       "      <td>189</td>\n",
       "    </tr>\n",
       "    <tr>\n",
       "      <th>26</th>\n",
       "      <td>(amphetamines, methamphetamine)</td>\n",
       "      <td>173</td>\n",
       "    </tr>\n",
       "    <tr>\n",
       "      <th>27</th>\n",
       "      <td>(fentanyl, norfentanyl)</td>\n",
       "      <td>173</td>\n",
       "    </tr>\n",
       "    <tr>\n",
       "      <th>28</th>\n",
       "      <td>(norfentanyl, opioids)</td>\n",
       "      <td>173</td>\n",
       "    </tr>\n",
       "    <tr>\n",
       "      <th>29</th>\n",
       "      <td>(alcohols, morphine)</td>\n",
       "      <td>171</td>\n",
       "    </tr>\n",
       "    <tr>\n",
       "      <th>...</th>\n",
       "      <td>...</td>\n",
       "      <td>...</td>\n",
       "    </tr>\n",
       "    <tr>\n",
       "      <th>3928</th>\n",
       "      <td>(caffeine, quetiapine)</td>\n",
       "      <td>1</td>\n",
       "    </tr>\n",
       "    <tr>\n",
       "      <th>3929</th>\n",
       "      <td>(ethanol, norsertraline)</td>\n",
       "      <td>1</td>\n",
       "    </tr>\n",
       "    <tr>\n",
       "      <th>3930</th>\n",
       "      <td>(ethanol, quetiapine)</td>\n",
       "      <td>1</td>\n",
       "    </tr>\n",
       "    <tr>\n",
       "      <th>3931</th>\n",
       "      <td>(nicotine, norsertraline)</td>\n",
       "      <td>1</td>\n",
       "    </tr>\n",
       "    <tr>\n",
       "      <th>3932</th>\n",
       "      <td>(nicotine, quetiapine)</td>\n",
       "      <td>1</td>\n",
       "    </tr>\n",
       "    <tr>\n",
       "      <th>3933</th>\n",
       "      <td>(norsertraline, stimulants)</td>\n",
       "      <td>1</td>\n",
       "    </tr>\n",
       "    <tr>\n",
       "      <th>3934</th>\n",
       "      <td>(quetiapine, stimulants)</td>\n",
       "      <td>1</td>\n",
       "    </tr>\n",
       "    <tr>\n",
       "      <th>3935</th>\n",
       "      <td>(11_hydroxy_delta_9_thc, ephedrine)</td>\n",
       "      <td>1</td>\n",
       "    </tr>\n",
       "    <tr>\n",
       "      <th>3936</th>\n",
       "      <td>(delta_9_carboxy_thc, ephedrine)</td>\n",
       "      <td>1</td>\n",
       "    </tr>\n",
       "    <tr>\n",
       "      <th>3937</th>\n",
       "      <td>(delta_9_thc, ephedrine)</td>\n",
       "      <td>1</td>\n",
       "    </tr>\n",
       "    <tr>\n",
       "      <th>3938</th>\n",
       "      <td>(ephedrine, thc_aggregate)</td>\n",
       "      <td>1</td>\n",
       "    </tr>\n",
       "    <tr>\n",
       "      <th>3939</th>\n",
       "      <td>(alcohols, chlordiazepoxide)</td>\n",
       "      <td>1</td>\n",
       "    </tr>\n",
       "    <tr>\n",
       "      <th>3940</th>\n",
       "      <td>(alcohols, diazepam)</td>\n",
       "      <td>1</td>\n",
       "    </tr>\n",
       "    <tr>\n",
       "      <th>3941</th>\n",
       "      <td>(chlordiazepoxide, diazepam)</td>\n",
       "      <td>1</td>\n",
       "    </tr>\n",
       "    <tr>\n",
       "      <th>3942</th>\n",
       "      <td>(chlordiazepoxide, ethanol)</td>\n",
       "      <td>1</td>\n",
       "    </tr>\n",
       "    <tr>\n",
       "      <th>3943</th>\n",
       "      <td>(diazepam, ethanol)</td>\n",
       "      <td>1</td>\n",
       "    </tr>\n",
       "    <tr>\n",
       "      <th>3944</th>\n",
       "      <td>(amphetamine, caffeine)</td>\n",
       "      <td>1</td>\n",
       "    </tr>\n",
       "    <tr>\n",
       "      <th>3945</th>\n",
       "      <td>(amphetamines, caffeine)</td>\n",
       "      <td>1</td>\n",
       "    </tr>\n",
       "    <tr>\n",
       "      <th>3946</th>\n",
       "      <td>(alcohols, carisoprodol)</td>\n",
       "      <td>1</td>\n",
       "    </tr>\n",
       "    <tr>\n",
       "      <th>3947</th>\n",
       "      <td>(alcohols, meprobamate)</td>\n",
       "      <td>1</td>\n",
       "    </tr>\n",
       "    <tr>\n",
       "      <th>3948</th>\n",
       "      <td>(carisoprodol, ethanol)</td>\n",
       "      <td>1</td>\n",
       "    </tr>\n",
       "    <tr>\n",
       "      <th>3949</th>\n",
       "      <td>(ethanol, meprobamate)</td>\n",
       "      <td>1</td>\n",
       "    </tr>\n",
       "    <tr>\n",
       "      <th>3950</th>\n",
       "      <td>(antidepressants, u477)</td>\n",
       "      <td>1</td>\n",
       "    </tr>\n",
       "    <tr>\n",
       "      <th>3951</th>\n",
       "      <td>(citalopram, u477)</td>\n",
       "      <td>1</td>\n",
       "    </tr>\n",
       "    <tr>\n",
       "      <th>3952</th>\n",
       "      <td>(alcohols, aohalprazolam)</td>\n",
       "      <td>1</td>\n",
       "    </tr>\n",
       "    <tr>\n",
       "      <th>3953</th>\n",
       "      <td>(benzoylecgonine, caffeine)</td>\n",
       "      <td>1</td>\n",
       "    </tr>\n",
       "    <tr>\n",
       "      <th>3954</th>\n",
       "      <td>(caffeine, thc)</td>\n",
       "      <td>1</td>\n",
       "    </tr>\n",
       "    <tr>\n",
       "      <th>3955</th>\n",
       "      <td>(ethanol, aohalprazolam)</td>\n",
       "      <td>1</td>\n",
       "    </tr>\n",
       "    <tr>\n",
       "      <th>3956</th>\n",
       "      <td>(delta_9_carboxy_thc, dihydrocodeine)</td>\n",
       "      <td>1</td>\n",
       "    </tr>\n",
       "    <tr>\n",
       "      <th>3957</th>\n",
       "      <td>(delta_9_thc, dihydrocodeine)</td>\n",
       "      <td>1</td>\n",
       "    </tr>\n",
       "  </tbody>\n",
       "</table>\n",
       "<p>3958 rows × 2 columns</p>\n",
       "</div>"
      ],
      "text/plain": [
       "                                    drug_co  occurs\n",
       "0                       (morphine, opioids)     723\n",
       "1                 (benzodiazepine, opioids)     606\n",
       "2                          (6_mam, opioids)     565\n",
       "3                         (6_mam, morphine)     562\n",
       "4                        (codeine, opioids)     533\n",
       "5                          (6_mam, codeine)     531\n",
       "6                (6_mam, heroin_from_combo)     531\n",
       "7              (codeine, heroin_from_combo)     531\n",
       "8                       (codeine, morphine)     531\n",
       "9             (heroin_from_combo, morphine)     531\n",
       "10             (heroin_from_combo, opioids)     531\n",
       "11                      (alcohols, ethanol)     365\n",
       "12               (benzodiazepine, morphine)     341\n",
       "13                      (fentanyl, opioids)     337\n",
       "14                   (hydrocodone, opioids)     264\n",
       "15                  (6_mam, benzodiazepine)     264\n",
       "16                      (alcohols, opioids)     261\n",
       "17                       (ethanol, opioids)     261\n",
       "18                (benzodiazepine, codeine)     251\n",
       "19      (benzodiazepine, heroin_from_combo)     251\n",
       "20                 (hydromorphone, opioids)     239\n",
       "21                       (cocaine, opioids)     239\n",
       "22                     (opioids, oxycodone)     234\n",
       "23                  (amphetamines, opioids)     204\n",
       "24                   (opioids, oxymorphone)     200\n",
       "25            (benzodiazepine, hydrocodone)     189\n",
       "26          (amphetamines, methamphetamine)     173\n",
       "27                  (fentanyl, norfentanyl)     173\n",
       "28                   (norfentanyl, opioids)     173\n",
       "29                     (alcohols, morphine)     171\n",
       "...                                     ...     ...\n",
       "3928                 (caffeine, quetiapine)       1\n",
       "3929               (ethanol, norsertraline)       1\n",
       "3930                  (ethanol, quetiapine)       1\n",
       "3931              (nicotine, norsertraline)       1\n",
       "3932                 (nicotine, quetiapine)       1\n",
       "3933            (norsertraline, stimulants)       1\n",
       "3934               (quetiapine, stimulants)       1\n",
       "3935    (11_hydroxy_delta_9_thc, ephedrine)       1\n",
       "3936       (delta_9_carboxy_thc, ephedrine)       1\n",
       "3937               (delta_9_thc, ephedrine)       1\n",
       "3938             (ephedrine, thc_aggregate)       1\n",
       "3939           (alcohols, chlordiazepoxide)       1\n",
       "3940                   (alcohols, diazepam)       1\n",
       "3941           (chlordiazepoxide, diazepam)       1\n",
       "3942            (chlordiazepoxide, ethanol)       1\n",
       "3943                    (diazepam, ethanol)       1\n",
       "3944                (amphetamine, caffeine)       1\n",
       "3945               (amphetamines, caffeine)       1\n",
       "3946               (alcohols, carisoprodol)       1\n",
       "3947                (alcohols, meprobamate)       1\n",
       "3948                (carisoprodol, ethanol)       1\n",
       "3949                 (ethanol, meprobamate)       1\n",
       "3950                (antidepressants, u477)       1\n",
       "3951                     (citalopram, u477)       1\n",
       "3952              (alcohols, aohalprazolam)       1\n",
       "3953            (benzoylecgonine, caffeine)       1\n",
       "3954                        (caffeine, thc)       1\n",
       "3955               (ethanol, aohalprazolam)       1\n",
       "3956  (delta_9_carboxy_thc, dihydrocodeine)       1\n",
       "3957          (delta_9_thc, dihydrocodeine)       1\n",
       "\n",
       "[3958 rows x 2 columns]"
      ]
     },
     "execution_count": 33,
     "metadata": {
     },
     "output_type": "execute_result"
    }
   ],
   "source": [
    "indy_co"
   ]
  },
  {
   "cell_type": "code",
   "execution_count": 34,
   "metadata": {
    "collapsed": false
   },
   "outputs": [
   ],
   "source": [
    "#save as pickle\n",
    "import pickle\n",
    "file=open('indy_co' , 'wb')\n",
    "pickle.dump(indy_co, file)\n",
    "file.close()"
   ]
  },
  {
   "cell_type": "code",
   "execution_count": 36,
   "metadata": {
    "collapsed": false
   },
   "outputs": [
   ],
   "source": [
    "#Export as csv\n",
    "indy_co.to_csv('indy_co-occurence.csv')"
   ]
  },
  {
   "cell_type": "code",
   "execution_count": 0,
   "metadata": {
    "collapsed": false
   },
   "outputs": [
   ],
   "source": [
   ]
  }
 ],
 "metadata": {
  "kernelspec": {
   "display_name": "Python 3 (system-wide)",
   "language": "python",
   "metadata": {
    "cocalc": {
     "description": "Python 3 programming language",
     "priority": 100,
     "url": "https://www.python.org/"
    }
   },
   "name": "python3"
  },
  "language_info": {
   "codemirror_mode": {
    "name": "ipython",
    "version": 3
   },
   "file_extension": ".py",
   "mimetype": "text/x-python",
   "name": "python",
   "nbconvert_exporter": "python",
   "pygments_lexer": "ipython3",
   "version": "3.6.8"
  }
 },
 "nbformat": 4,
 "nbformat_minor": 0
}