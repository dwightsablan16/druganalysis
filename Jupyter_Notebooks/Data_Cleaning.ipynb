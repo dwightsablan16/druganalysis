{
 "cells": [
  {
   "cell_type": "markdown",
   "metadata": {
    "collapsed": false
   },
   "source": [
    "# Reading in file and converting timestamps"
   ]
  },
  {
   "cell_type": "code",
   "execution_count": 1,
   "metadata": {
    "collapsed": false
   },
   "outputs": [
   ],
   "source": [
    "import numpy as np\n",
    "import pandas as pd\n",
    "import matplotlib.pyplot as plt\n",
    "from itertools import compress\n",
    "\n",
    "from datetime import datetime\n",
    "from dateutil.parser import parse\n",
    "\n",
    "import math\n",
    "import os\n",
    "import copy"
   ]
  },
  {
   "cell_type": "code",
   "execution_count": 2,
   "metadata": {
    "collapsed": false
   },
   "outputs": [
   ],
   "source": [
    "# Reading the text file\n",
    "product_descriptions = pd.read_csv('product_rating_modified (1).txt', header = None, sep = '\\', \\'', engine = 'python')"
   ]
  },
  {
   "cell_type": "code",
   "execution_count": 3,
   "metadata": {
    "collapsed": false,
    "scrolled": true
   },
   "outputs": [
    {
     "data": {
      "text/html": [
       "<div>\n",
       "<style scoped>\n",
       "    .dataframe tbody tr th:only-of-type {\n",
       "        vertical-align: middle;\n",
       "    }\n",
       "\n",
       "    .dataframe tbody tr th {\n",
       "        vertical-align: top;\n",
       "    }\n",
       "\n",
       "    .dataframe thead th {\n",
       "        text-align: right;\n",
       "    }\n",
       "</style>\n",
       "<table border=\"1\" class=\"dataframe\">\n",
       "  <thead>\n",
       "    <tr style=\"text-align: right;\">\n",
       "      <th></th>\n",
       "      <th>0</th>\n",
       "      <th>1</th>\n",
       "      <th>2</th>\n",
       "      <th>3</th>\n",
       "      <th>4</th>\n",
       "      <th>5</th>\n",
       "      <th>6</th>\n",
       "      <th>7</th>\n",
       "      <th>8</th>\n",
       "      <th>9</th>\n",
       "      <th>10</th>\n",
       "      <th>11</th>\n",
       "      <th>12</th>\n",
       "      <th>13</th>\n",
       "      <th>14</th>\n",
       "      <th>15</th>\n",
       "    </tr>\n",
       "  </thead>\n",
       "  <tbody>\n",
       "    <tr>\n",
       "      <td>9525</td>\n",
       "      <td>'10623</td>\n",
       "      <td>1</td>\n",
       "      <td>-1</td>\n",
       "      <td>Hollandfinest</td>\n",
       "      <td>#####</td>\n",
       "      <td>5.0</td>\n",
       "      <td>Enter your comments here</td>\n",
       "      <td>20181223064411</td>\n",
       "      <td>-1.0</td>\n",
       "      <td>0.001182</td>\n",
       "      <td>-1.0</td>\n",
       "      <td>-1</td>\n",
       "      <td>-1</td>\n",
       "      <td>124</td>\n",
       "      <td>421198.283113</td>\n",
       "      <td>TRY OFFER 10x 250MG AMG XTC 12 EURO</td>\n",
       "    </tr>\n",
       "    <tr>\n",
       "      <td>9526</td>\n",
       "      <td>'10624</td>\n",
       "      <td>1</td>\n",
       "      <td>-1</td>\n",
       "      <td>Hollandfinest</td>\n",
       "      <td>#####</td>\n",
       "      <td>5.0</td>\n",
       "      <td>How much pills will i receive? 60?</td>\n",
       "      <td>20181223064411</td>\n",
       "      <td>-1.0</td>\n",
       "      <td>0.001182</td>\n",
       "      <td>-1.0</td>\n",
       "      <td>-1</td>\n",
       "      <td>-1</td>\n",
       "      <td>124</td>\n",
       "      <td>421198.283113</td>\n",
       "      <td>TRY OFFER 10x 250MG AMG XTC 12 EURO</td>\n",
       "    </tr>\n",
       "    <tr>\n",
       "      <td>9527</td>\n",
       "      <td>'10625</td>\n",
       "      <td>1</td>\n",
       "      <td>-1</td>\n",
       "      <td>Hollandfinest</td>\n",
       "      <td>#####</td>\n",
       "      <td>5.0</td>\n",
       "      <td>7DD</td>\n",
       "      <td>20181220064411</td>\n",
       "      <td>-1.0</td>\n",
       "      <td>0.001182</td>\n",
       "      <td>-1.0</td>\n",
       "      <td>-1</td>\n",
       "      <td>-1</td>\n",
       "      <td>124</td>\n",
       "      <td>421198.283113</td>\n",
       "      <td>TRY OFFER 10x 250MG AMG XTC 12 EURO</td>\n",
       "    </tr>\n",
       "    <tr>\n",
       "      <td>9528</td>\n",
       "      <td>'10626</td>\n",
       "      <td>1</td>\n",
       "      <td>-1</td>\n",
       "      <td>Hollandfinest</td>\n",
       "      <td>#####</td>\n",
       "      <td>5.0</td>\n",
       "      <td>Best vendor on dm, pills are 100%, delivery is...</td>\n",
       "      <td>19691231190000</td>\n",
       "      <td>-1.0</td>\n",
       "      <td>0.001182</td>\n",
       "      <td>-1.0</td>\n",
       "      <td>-1</td>\n",
       "      <td>-1</td>\n",
       "      <td>124</td>\n",
       "      <td>421198.283113</td>\n",
       "      <td>TRY OFFER 10x 250MG AMG XTC 12 EURO</td>\n",
       "    </tr>\n",
       "    <tr>\n",
       "      <td>9529</td>\n",
       "      <td>'10627</td>\n",
       "      <td>1</td>\n",
       "      <td>-1</td>\n",
       "      <td>Hollandfinest</td>\n",
       "      <td>#####</td>\n",
       "      <td>5.0</td>\n",
       "      <td>Fast and good package\\nNon tested recommand</td>\n",
       "      <td>20181220064411</td>\n",
       "      <td>-1.0</td>\n",
       "      <td>0.001182</td>\n",
       "      <td>-1.0</td>\n",
       "      <td>-1</td>\n",
       "      <td>-1</td>\n",
       "      <td>124</td>\n",
       "      <td>421198.283113</td>\n",
       "      <td>TRY OFFER 10x 250MG AMG XTC 12 EURO</td>\n",
       "    </tr>\n",
       "    <tr>\n",
       "      <td>9530</td>\n",
       "      <td>'10628</td>\n",
       "      <td>1</td>\n",
       "      <td>-1</td>\n",
       "      <td>Hollandfinest</td>\n",
       "      <td>#####</td>\n",
       "      <td>5.0</td>\n",
       "      <td>Fast delivery to UK, initial tests look okay!</td>\n",
       "      <td>20181220064411</td>\n",
       "      <td>-1.0</td>\n",
       "      <td>0.001182</td>\n",
       "      <td>-1.0</td>\n",
       "      <td>-1</td>\n",
       "      <td>-1</td>\n",
       "      <td>124</td>\n",
       "      <td>421198.283113</td>\n",
       "      <td>TRY OFFER 10x 250MG AMG XTC 12 EURO</td>\n",
       "    </tr>\n",
       "    <tr>\n",
       "      <td>9531</td>\n",
       "      <td>'10629</td>\n",
       "      <td>1</td>\n",
       "      <td>-1</td>\n",
       "      <td>Hollandfinest</td>\n",
       "      <td>#####</td>\n",
       "      <td>5.0</td>\n",
       "      <td>fe</td>\n",
       "      <td>20181220064411</td>\n",
       "      <td>-1.0</td>\n",
       "      <td>0.001182</td>\n",
       "      <td>-1.0</td>\n",
       "      <td>-1</td>\n",
       "      <td>-1</td>\n",
       "      <td>124</td>\n",
       "      <td>421198.283113</td>\n",
       "      <td>TRY OFFER 10x 250MG AMG XTC 12 EURO</td>\n",
       "    </tr>\n",
       "    <tr>\n",
       "      <td>9532</td>\n",
       "      <td>'10630</td>\n",
       "      <td>1</td>\n",
       "      <td>-1</td>\n",
       "      <td>Hollandfinest</td>\n",
       "      <td>#####</td>\n",
       "      <td>5.0</td>\n",
       "      <td>FE! I will update when i received the package.</td>\n",
       "      <td>20181224064411</td>\n",
       "      <td>-1.0</td>\n",
       "      <td>0.001182</td>\n",
       "      <td>-1.0</td>\n",
       "      <td>-1</td>\n",
       "      <td>-1</td>\n",
       "      <td>124</td>\n",
       "      <td>421198.283113</td>\n",
       "      <td>TRY OFFER 10x 250MG AMG XTC 12 EURO</td>\n",
       "    </tr>\n",
       "    <tr>\n",
       "      <td>9533</td>\n",
       "      <td>'10631</td>\n",
       "      <td>1</td>\n",
       "      <td>-1</td>\n",
       "      <td>Hollandfinest</td>\n",
       "      <td>#####</td>\n",
       "      <td>5.0</td>\n",
       "      <td>Second time ordering from you guys, And once a...</td>\n",
       "      <td>20181126064411</td>\n",
       "      <td>-1.0</td>\n",
       "      <td>0.001182</td>\n",
       "      <td>-1.0</td>\n",
       "      <td>-1</td>\n",
       "      <td>-1</td>\n",
       "      <td>124</td>\n",
       "      <td>421198.283113</td>\n",
       "      <td>TRY OFFER 10x 250MG AMG XTC 12 EURO</td>\n",
       "    </tr>\n",
       "    <tr>\n",
       "      <td>9534</td>\n",
       "      <td>'10632</td>\n",
       "      <td>1</td>\n",
       "      <td>-1</td>\n",
       "      <td>Hollandfinest</td>\n",
       "      <td>#####</td>\n",
       "      <td>5.0</td>\n",
       "      <td>arrived on 25th, best christmas gift ever :) 1...</td>\n",
       "      <td>20181214064411</td>\n",
       "      <td>-1.0</td>\n",
       "      <td>0.001182</td>\n",
       "      <td>-1.0</td>\n",
       "      <td>-1</td>\n",
       "      <td>-1</td>\n",
       "      <td>124</td>\n",
       "      <td>421198.283113</td>\n",
       "      <td>TRY OFFER 10x 250MG AMG XTC 12 EURO</td>\n",
       "    </tr>\n",
       "    <tr>\n",
       "      <td>9535</td>\n",
       "      <td>'10633</td>\n",
       "      <td>1</td>\n",
       "      <td>-1</td>\n",
       "      <td>Hollandfinest</td>\n",
       "      <td>#####</td>\n",
       "      <td>5.0</td>\n",
       "      <td>All good, thanks a lot!</td>\n",
       "      <td>20181208064411</td>\n",
       "      <td>-1.0</td>\n",
       "      <td>0.001182</td>\n",
       "      <td>-1.0</td>\n",
       "      <td>-1</td>\n",
       "      <td>-1</td>\n",
       "      <td>124</td>\n",
       "      <td>421198.283113</td>\n",
       "      <td>TRY OFFER 10x 250MG AMG XTC 12 EURO</td>\n",
       "    </tr>\n",
       "    <tr>\n",
       "      <td>9536</td>\n",
       "      <td>'10634</td>\n",
       "      <td>1</td>\n",
       "      <td>-1</td>\n",
       "      <td>Hollandfinest</td>\n",
       "      <td>#####</td>\n",
       "      <td>5.0</td>\n",
       "      <td>Enter your comments here</td>\n",
       "      <td>20181210064411</td>\n",
       "      <td>-1.0</td>\n",
       "      <td>0.001182</td>\n",
       "      <td>-1.0</td>\n",
       "      <td>-1</td>\n",
       "      <td>-1</td>\n",
       "      <td>124</td>\n",
       "      <td>421198.283113</td>\n",
       "      <td>TRY OFFER 10x 250MG AMG XTC 12 EURO</td>\n",
       "    </tr>\n",
       "    <tr>\n",
       "      <td>9537</td>\n",
       "      <td>'10635</td>\n",
       "      <td>1</td>\n",
       "      <td>-1</td>\n",
       "      <td>Hollandfinest</td>\n",
       "      <td>#####</td>\n",
       "      <td>5.0</td>\n",
       "      <td>very fast delivery 4 days for France is perfec...</td>\n",
       "      <td>20181208064411</td>\n",
       "      <td>-1.0</td>\n",
       "      <td>0.001182</td>\n",
       "      <td>-1.0</td>\n",
       "      <td>-1</td>\n",
       "      <td>-1</td>\n",
       "      <td>124</td>\n",
       "      <td>421198.283113</td>\n",
       "      <td>TRY OFFER 10x 250MG AMG XTC 12 EURO</td>\n",
       "    </tr>\n",
       "    <tr>\n",
       "      <td>9538</td>\n",
       "      <td>'10636</td>\n",
       "      <td>1</td>\n",
       "      <td>-1</td>\n",
       "      <td>Hollandfinest</td>\n",
       "      <td>#####</td>\n",
       "      <td>5.0</td>\n",
       "      <td>Enter your comments here</td>\n",
       "      <td>20181210064411</td>\n",
       "      <td>-1.0</td>\n",
       "      <td>0.001182</td>\n",
       "      <td>-1.0</td>\n",
       "      <td>-1</td>\n",
       "      <td>-1</td>\n",
       "      <td>124</td>\n",
       "      <td>421198.283113</td>\n",
       "      <td>TRY OFFER 10x 250MG AMG XTC 12 EURO</td>\n",
       "    </tr>\n",
       "    <tr>\n",
       "      <td>9539</td>\n",
       "      <td>'10637</td>\n",
       "      <td>1</td>\n",
       "      <td>-1</td>\n",
       "      <td>Hollandfinest</td>\n",
       "      <td>#####</td>\n",
       "      <td>5.0</td>\n",
       "      <td>Thank you very mush for the fast delivery. But...</td>\n",
       "      <td>20181125064411</td>\n",
       "      <td>-1.0</td>\n",
       "      <td>0.001182</td>\n",
       "      <td>-1.0</td>\n",
       "      <td>-1</td>\n",
       "      <td>-1</td>\n",
       "      <td>124</td>\n",
       "      <td>421198.283113</td>\n",
       "      <td>TRY OFFER 10x 250MG AMG XTC 12 EURO</td>\n",
       "    </tr>\n",
       "    <tr>\n",
       "      <td>9540</td>\n",
       "      <td>'10638</td>\n",
       "      <td>1</td>\n",
       "      <td>-1</td>\n",
       "      <td>Hollandfinest</td>\n",
       "      <td>#####</td>\n",
       "      <td>5.0</td>\n",
       "      <td>Perfect 10/10, Stealth, Top Quality, one of th...</td>\n",
       "      <td>20181202064411</td>\n",
       "      <td>-1.0</td>\n",
       "      <td>0.001182</td>\n",
       "      <td>-1.0</td>\n",
       "      <td>-1</td>\n",
       "      <td>-1</td>\n",
       "      <td>124</td>\n",
       "      <td>421198.283113</td>\n",
       "      <td>TRY OFFER 10x 250MG AMG XTC 12 EURO</td>\n",
       "    </tr>\n",
       "    <tr>\n",
       "      <td>9541</td>\n",
       "      <td>'10639</td>\n",
       "      <td>1</td>\n",
       "      <td>-1</td>\n",
       "      <td>Hollandfinest</td>\n",
       "      <td>#####</td>\n",
       "      <td>5.0</td>\n",
       "      <td>Fast delivery! Good Quality everything fine. I...</td>\n",
       "      <td>20181203064411</td>\n",
       "      <td>-1.0</td>\n",
       "      <td>0.001182</td>\n",
       "      <td>-1.0</td>\n",
       "      <td>-1</td>\n",
       "      <td>-1</td>\n",
       "      <td>124</td>\n",
       "      <td>421198.283113</td>\n",
       "      <td>TRY OFFER 10x 250MG AMG XTC 12 EURO</td>\n",
       "    </tr>\n",
       "    <tr>\n",
       "      <td>9542</td>\n",
       "      <td>'10640</td>\n",
       "      <td>1</td>\n",
       "      <td>-1</td>\n",
       "      <td>Hollandfinest</td>\n",
       "      <td>#####</td>\n",
       "      <td>5.0</td>\n",
       "      <td>Enter your comments here</td>\n",
       "      <td>20181207064411</td>\n",
       "      <td>-1.0</td>\n",
       "      <td>0.001182</td>\n",
       "      <td>-1.0</td>\n",
       "      <td>-1</td>\n",
       "      <td>-1</td>\n",
       "      <td>124</td>\n",
       "      <td>421198.283113</td>\n",
       "      <td>TRY OFFER 10x 250MG AMG XTC 12 EURO</td>\n",
       "    </tr>\n",
       "    <tr>\n",
       "      <td>9543</td>\n",
       "      <td>'10641</td>\n",
       "      <td>1</td>\n",
       "      <td>-1</td>\n",
       "      <td>Hollandfinest</td>\n",
       "      <td>#####</td>\n",
       "      <td>5.0</td>\n",
       "      <td>Arrived super fast, and tested for MDMA :)\\nWo...</td>\n",
       "      <td>20181125064411</td>\n",
       "      <td>-1.0</td>\n",
       "      <td>0.001182</td>\n",
       "      <td>-1.0</td>\n",
       "      <td>-1</td>\n",
       "      <td>-1</td>\n",
       "      <td>124</td>\n",
       "      <td>421198.283113</td>\n",
       "      <td>TRY OFFER 10x 250MG AMG XTC 12 EURO</td>\n",
       "    </tr>\n",
       "    <tr>\n",
       "      <td>9544</td>\n",
       "      <td>'10642</td>\n",
       "      <td>1</td>\n",
       "      <td>-1</td>\n",
       "      <td>Hollandfinest</td>\n",
       "      <td>#####</td>\n",
       "      <td>5.0</td>\n",
       "      <td>Enter your comments here</td>\n",
       "      <td>20181127064411</td>\n",
       "      <td>-1.0</td>\n",
       "      <td>0.001182</td>\n",
       "      <td>-1.0</td>\n",
       "      <td>-1</td>\n",
       "      <td>-1</td>\n",
       "      <td>124</td>\n",
       "      <td>421198.283113</td>\n",
       "      <td>TRY OFFER 10x 250MG AMG XTC 12 EURO</td>\n",
       "    </tr>\n",
       "    <tr>\n",
       "      <td>9545</td>\n",
       "      <td>'10643</td>\n",
       "      <td>1</td>\n",
       "      <td>-1</td>\n",
       "      <td>Hollandfinest</td>\n",
       "      <td>#####</td>\n",
       "      <td>5.0</td>\n",
       "      <td>Enter your comments here</td>\n",
       "      <td>20181128064411</td>\n",
       "      <td>-1.0</td>\n",
       "      <td>0.001182</td>\n",
       "      <td>-1.0</td>\n",
       "      <td>-1</td>\n",
       "      <td>-1</td>\n",
       "      <td>124</td>\n",
       "      <td>421198.283113</td>\n",
       "      <td>TRY OFFER 10x 250MG AMG XTC 12 EURO</td>\n",
       "    </tr>\n",
       "    <tr>\n",
       "      <td>9546</td>\n",
       "      <td>'10644</td>\n",
       "      <td>1</td>\n",
       "      <td>-1</td>\n",
       "      <td>Hollandfinest</td>\n",
       "      <td>#####</td>\n",
       "      <td>5.0</td>\n",
       "      <td>Enter your comments here</td>\n",
       "      <td>20181123064411</td>\n",
       "      <td>-1.0</td>\n",
       "      <td>0.001182</td>\n",
       "      <td>-1.0</td>\n",
       "      <td>-1</td>\n",
       "      <td>-1</td>\n",
       "      <td>124</td>\n",
       "      <td>421198.283113</td>\n",
       "      <td>TRY OFFER 10x 250MG AMG XTC 12 EURO</td>\n",
       "    </tr>\n",
       "    <tr>\n",
       "      <td>9547</td>\n",
       "      <td>'10645</td>\n",
       "      <td>1</td>\n",
       "      <td>-1</td>\n",
       "      <td>Hollandfinest</td>\n",
       "      <td>#####</td>\n",
       "      <td>5.0</td>\n",
       "      <td>Appreciate you so much &lt;3</td>\n",
       "      <td>20181214064411</td>\n",
       "      <td>-1.0</td>\n",
       "      <td>0.001182</td>\n",
       "      <td>-1.0</td>\n",
       "      <td>-1</td>\n",
       "      <td>-1</td>\n",
       "      <td>124</td>\n",
       "      <td>421198.283113</td>\n",
       "      <td>TRY OFFER 10x 250MG AMG XTC 12 EURO</td>\n",
       "    </tr>\n",
       "    <tr>\n",
       "      <td>9548</td>\n",
       "      <td>'10646</td>\n",
       "      <td>1</td>\n",
       "      <td>-1</td>\n",
       "      <td>Hollandfinest</td>\n",
       "      <td>#####</td>\n",
       "      <td>5.0</td>\n",
       "      <td>Enter your comments here</td>\n",
       "      <td>20181205064411</td>\n",
       "      <td>-1.0</td>\n",
       "      <td>0.001182</td>\n",
       "      <td>-1.0</td>\n",
       "      <td>-1</td>\n",
       "      <td>-1</td>\n",
       "      <td>124</td>\n",
       "      <td>421198.283113</td>\n",
       "      <td>TRY OFFER 10x 250MG AMG XTC 12 EURO</td>\n",
       "    </tr>\n",
       "    <tr>\n",
       "      <td>9549</td>\n",
       "      <td>'10647</td>\n",
       "      <td>1</td>\n",
       "      <td>-1</td>\n",
       "      <td>Hollandfinest</td>\n",
       "      <td>#####</td>\n",
       "      <td>5.0</td>\n",
       "      <td>22 dd  to oz,  none were crushed  with good pa...</td>\n",
       "      <td>20181120064411</td>\n",
       "      <td>-1.0</td>\n",
       "      <td>0.001182</td>\n",
       "      <td>-1.0</td>\n",
       "      <td>-1</td>\n",
       "      <td>-1</td>\n",
       "      <td>124</td>\n",
       "      <td>421198.283113</td>\n",
       "      <td>TRY OFFER 10x 250MG AMG XTC 12 EURO</td>\n",
       "    </tr>\n",
       "    <tr>\n",
       "      <td>9550</td>\n",
       "      <td>'10648</td>\n",
       "      <td>1</td>\n",
       "      <td>-1</td>\n",
       "      <td>Hollandfinest</td>\n",
       "      <td>#####</td>\n",
       "      <td>5.0</td>\n",
       "      <td>Package arrived after 8 days. Will give anothe...</td>\n",
       "      <td>20181212064411</td>\n",
       "      <td>-1.0</td>\n",
       "      <td>0.001182</td>\n",
       "      <td>-1.0</td>\n",
       "      <td>-1</td>\n",
       "      <td>-1</td>\n",
       "      <td>124</td>\n",
       "      <td>421198.283113</td>\n",
       "      <td>TRY OFFER 10x 250MG AMG XTC 12 EURO</td>\n",
       "    </tr>\n",
       "    <tr>\n",
       "      <td>9551</td>\n",
       "      <td>'10649</td>\n",
       "      <td>1</td>\n",
       "      <td>-1</td>\n",
       "      <td>Hollandfinest</td>\n",
       "      <td>#####</td>\n",
       "      <td>5.0</td>\n",
       "      <td>verry fast delivery,perfect stealth great xtc</td>\n",
       "      <td>20181122064411</td>\n",
       "      <td>-1.0</td>\n",
       "      <td>0.001182</td>\n",
       "      <td>-1.0</td>\n",
       "      <td>-1</td>\n",
       "      <td>-1</td>\n",
       "      <td>124</td>\n",
       "      <td>421198.283113</td>\n",
       "      <td>TRY OFFER 10x 250MG AMG XTC 12 EURO</td>\n",
       "    </tr>\n",
       "    <tr>\n",
       "      <td>9552</td>\n",
       "      <td>'10650</td>\n",
       "      <td>1</td>\n",
       "      <td>-1</td>\n",
       "      <td>Hollandfinest</td>\n",
       "      <td>#####</td>\n",
       "      <td>5.0</td>\n",
       "      <td>14dd to India. Will try and update</td>\n",
       "      <td>20181125064411</td>\n",
       "      <td>-1.0</td>\n",
       "      <td>0.001182</td>\n",
       "      <td>-1.0</td>\n",
       "      <td>-1</td>\n",
       "      <td>-1</td>\n",
       "      <td>124</td>\n",
       "      <td>421198.283113</td>\n",
       "      <td>TRY OFFER 10x 250MG AMG XTC 12 EURO</td>\n",
       "    </tr>\n",
       "    <tr>\n",
       "      <td>9553</td>\n",
       "      <td>'10651</td>\n",
       "      <td>1</td>\n",
       "      <td>-1</td>\n",
       "      <td>Hollandfinest</td>\n",
       "      <td>#####</td>\n",
       "      <td>5.0</td>\n",
       "      <td>Enter your comments here</td>\n",
       "      <td>20181210064411</td>\n",
       "      <td>-1.0</td>\n",
       "      <td>0.001182</td>\n",
       "      <td>-1.0</td>\n",
       "      <td>-1</td>\n",
       "      <td>-1</td>\n",
       "      <td>124</td>\n",
       "      <td>421198.283113</td>\n",
       "      <td>TRY OFFER 10x 250MG AMG XTC 12 EURO</td>\n",
       "    </tr>\n",
       "    <tr>\n",
       "      <td>9554</td>\n",
       "      <td>'10652</td>\n",
       "      <td>1</td>\n",
       "      <td>-1</td>\n",
       "      <td>Hollandfinest</td>\n",
       "      <td>#####</td>\n",
       "      <td>5.0</td>\n",
       "      <td>First time ordering from you guys, And it was ...</td>\n",
       "      <td>20181120064411</td>\n",
       "      <td>-1.0</td>\n",
       "      <td>0.001182</td>\n",
       "      <td>-1.0</td>\n",
       "      <td>-1</td>\n",
       "      <td>-1</td>\n",
       "      <td>124</td>\n",
       "      <td>421198.283113</td>\n",
       "      <td>TRY OFFER 10x 250MG AMG XTC 12 EURO</td>\n",
       "    </tr>\n",
       "    <tr>\n",
       "      <td>9555</td>\n",
       "      <td>'10653</td>\n",
       "      <td>1</td>\n",
       "      <td>-1</td>\n",
       "      <td>Hollandfinest</td>\n",
       "      <td>#####</td>\n",
       "      <td>4.0</td>\n",
       "      <td>Waited 30 days and nothing. contacted vendor a...</td>\n",
       "      <td>20181204064411</td>\n",
       "      <td>-1.0</td>\n",
       "      <td>0.001182</td>\n",
       "      <td>-1.0</td>\n",
       "      <td>-1</td>\n",
       "      <td>-1</td>\n",
       "      <td>124</td>\n",
       "      <td>421198.283113</td>\n",
       "      <td>TRY OFFER 10x 250MG AMG XTC 12 EURO</td>\n",
       "    </tr>\n",
       "    <tr>\n",
       "      <td>9556</td>\n",
       "      <td>'10654</td>\n",
       "      <td>1</td>\n",
       "      <td>-1</td>\n",
       "      <td>Hollandfinest</td>\n",
       "      <td>#####</td>\n",
       "      <td>5.0</td>\n",
       "      <td>Enter your comments here</td>\n",
       "      <td>20181123064411</td>\n",
       "      <td>-1.0</td>\n",
       "      <td>0.001182</td>\n",
       "      <td>-1.0</td>\n",
       "      <td>-1</td>\n",
       "      <td>-1</td>\n",
       "      <td>124</td>\n",
       "      <td>421198.283113</td>\n",
       "      <td>TRY OFFER 10x 250MG AMG XTC 12 EURO</td>\n",
       "    </tr>\n",
       "    <tr>\n",
       "      <td>9557</td>\n",
       "      <td>'10655</td>\n",
       "      <td>1</td>\n",
       "      <td>-1</td>\n",
       "      <td>Hollandfinest</td>\n",
       "      <td>#####</td>\n",
       "      <td>5.0</td>\n",
       "      <td>THANKS</td>\n",
       "      <td>20181214064411</td>\n",
       "      <td>-1.0</td>\n",
       "      <td>0.001182</td>\n",
       "      <td>-1.0</td>\n",
       "      <td>-1</td>\n",
       "      <td>-1</td>\n",
       "      <td>124</td>\n",
       "      <td>421198.283113</td>\n",
       "      <td>TRY OFFER 10x 250MG AMG XTC 12 EURO</td>\n",
       "    </tr>\n",
       "    <tr>\n",
       "      <td>9558</td>\n",
       "      <td>'10656</td>\n",
       "      <td>1</td>\n",
       "      <td>-1</td>\n",
       "      <td>Hollandfinest</td>\n",
       "      <td>#####</td>\n",
       "      <td>5.0</td>\n",
       "      <td>16D recu bonne qualité super produit vendeur d...</td>\n",
       "      <td>20181214064411</td>\n",
       "      <td>-1.0</td>\n",
       "      <td>0.001182</td>\n",
       "      <td>-1.0</td>\n",
       "      <td>-1</td>\n",
       "      <td>-1</td>\n",
       "      <td>124</td>\n",
       "      <td>421198.283113</td>\n",
       "      <td>TRY OFFER 10x 250MG AMG XTC 12 EURO</td>\n",
       "    </tr>\n",
       "    <tr>\n",
       "      <td>9559</td>\n",
       "      <td>'10657</td>\n",
       "      <td>1</td>\n",
       "      <td>-1</td>\n",
       "      <td>Hollandfinest</td>\n",
       "      <td>#####</td>\n",
       "      <td>5.0</td>\n",
       "      <td>Super fast ! perfect stealth ! Enfin un vendeu...</td>\n",
       "      <td>20181204064411</td>\n",
       "      <td>-1.0</td>\n",
       "      <td>0.001182</td>\n",
       "      <td>-1.0</td>\n",
       "      <td>-1</td>\n",
       "      <td>-1</td>\n",
       "      <td>124</td>\n",
       "      <td>421198.283113</td>\n",
       "      <td>TRY OFFER 10x 250MG AMG XTC 12 EURO</td>\n",
       "    </tr>\n",
       "    <tr>\n",
       "      <td>9560</td>\n",
       "      <td>'10658</td>\n",
       "      <td>1</td>\n",
       "      <td>-1</td>\n",
       "      <td>Hollandfinest</td>\n",
       "      <td>#####</td>\n",
       "      <td>5.0</td>\n",
       "      <td>Enter your comments here</td>\n",
       "      <td>20181214064411</td>\n",
       "      <td>-1.0</td>\n",
       "      <td>0.001182</td>\n",
       "      <td>-1.0</td>\n",
       "      <td>-1</td>\n",
       "      <td>-1</td>\n",
       "      <td>124</td>\n",
       "      <td>421198.283113</td>\n",
       "      <td>TRY OFFER 10x 250MG AMG XTC 12 EURO</td>\n",
       "    </tr>\n",
       "    <tr>\n",
       "      <td>9561</td>\n",
       "      <td>'10659</td>\n",
       "      <td>1</td>\n",
       "      <td>-1</td>\n",
       "      <td>Hollandfinest</td>\n",
       "      <td>#####</td>\n",
       "      <td>5.0</td>\n",
       "      <td>Enter your comments here</td>\n",
       "      <td>20181208064411</td>\n",
       "      <td>-1.0</td>\n",
       "      <td>0.001182</td>\n",
       "      <td>-1.0</td>\n",
       "      <td>-1</td>\n",
       "      <td>-1</td>\n",
       "      <td>124</td>\n",
       "      <td>421198.283113</td>\n",
       "      <td>TRY OFFER 10x 250MG AMG XTC 12 EURO</td>\n",
       "    </tr>\n",
       "    <tr>\n",
       "      <td>9562</td>\n",
       "      <td>'10660</td>\n",
       "      <td>1</td>\n",
       "      <td>-1</td>\n",
       "      <td>Hollandfinest</td>\n",
       "      <td>#####</td>\n",
       "      <td>3.0</td>\n",
       "      <td>awaiting arrival ordered 14 days ago (to east ...</td>\n",
       "      <td>20181125064411</td>\n",
       "      <td>-1.0</td>\n",
       "      <td>0.001182</td>\n",
       "      <td>-1.0</td>\n",
       "      <td>-1</td>\n",
       "      <td>-1</td>\n",
       "      <td>124</td>\n",
       "      <td>421198.283113</td>\n",
       "      <td>TRY OFFER 10x 250MG AMG XTC 12 EURO</td>\n",
       "    </tr>\n",
       "    <tr>\n",
       "      <td>9563</td>\n",
       "      <td>'10661</td>\n",
       "      <td>1</td>\n",
       "      <td>-1</td>\n",
       "      <td>Hollandfinest</td>\n",
       "      <td>#####</td>\n",
       "      <td>5.0</td>\n",
       "      <td>Enter your comments here</td>\n",
       "      <td>20181123064411</td>\n",
       "      <td>-1.0</td>\n",
       "      <td>0.001182</td>\n",
       "      <td>-1.0</td>\n",
       "      <td>-1</td>\n",
       "      <td>-1</td>\n",
       "      <td>124</td>\n",
       "      <td>421198.283113</td>\n",
       "      <td>TRY OFFER 10x 250MG AMG XTC 12 EURO</td>\n",
       "    </tr>\n",
       "    <tr>\n",
       "      <td>9564</td>\n",
       "      <td>'10662</td>\n",
       "      <td>1</td>\n",
       "      <td>-1</td>\n",
       "      <td>Hollandfinest</td>\n",
       "      <td>#####</td>\n",
       "      <td>3.0</td>\n",
       "      <td>30 + days no arrival to US do not recommend fo...</td>\n",
       "      <td>20181119064411</td>\n",
       "      <td>-1.0</td>\n",
       "      <td>0.001182</td>\n",
       "      <td>-1.0</td>\n",
       "      <td>-1</td>\n",
       "      <td>-1</td>\n",
       "      <td>124</td>\n",
       "      <td>421198.283113</td>\n",
       "      <td>TRY OFFER 10x 250MG AMG XTC 12 EURO</td>\n",
       "    </tr>\n",
       "    <tr>\n",
       "      <td>9565</td>\n",
       "      <td>'10663</td>\n",
       "      <td>1</td>\n",
       "      <td>-1</td>\n",
       "      <td>Hollandfinest</td>\n",
       "      <td>#####</td>\n",
       "      <td>5.0</td>\n",
       "      <td>FE top 8DD</td>\n",
       "      <td>20181214064411</td>\n",
       "      <td>-1.0</td>\n",
       "      <td>0.001182</td>\n",
       "      <td>-1.0</td>\n",
       "      <td>-1</td>\n",
       "      <td>-1</td>\n",
       "      <td>124</td>\n",
       "      <td>421198.283113</td>\n",
       "      <td>TRY OFFER 10x 250MG AMG XTC 12 EURO</td>\n",
       "    </tr>\n",
       "    <tr>\n",
       "      <td>9566</td>\n",
       "      <td>'10664</td>\n",
       "      <td>1</td>\n",
       "      <td>-1</td>\n",
       "      <td>Hollandfinest</td>\n",
       "      <td>#####</td>\n",
       "      <td>5.0</td>\n",
       "      <td>Nice pills and good stealth. 1DD. THANKS!</td>\n",
       "      <td>20181117064411</td>\n",
       "      <td>-1.0</td>\n",
       "      <td>0.001182</td>\n",
       "      <td>-1.0</td>\n",
       "      <td>-1</td>\n",
       "      <td>-1</td>\n",
       "      <td>124</td>\n",
       "      <td>421198.283113</td>\n",
       "      <td>TRY OFFER 10x 250MG AMG XTC 12 EURO</td>\n",
       "    </tr>\n",
       "    <tr>\n",
       "      <td>9567</td>\n",
       "      <td>'10665</td>\n",
       "      <td>1</td>\n",
       "      <td>-1</td>\n",
       "      <td>Hollandfinest</td>\n",
       "      <td>#####</td>\n",
       "      <td>5.0</td>\n",
       "      <td>Delivered very good stealth! Will edit once I\\...</td>\n",
       "      <td>20181125064411</td>\n",
       "      <td>-1.0</td>\n",
       "      <td>0.001182</td>\n",
       "      <td>-1.0</td>\n",
       "      <td>-1</td>\n",
       "      <td>-1</td>\n",
       "      <td>124</td>\n",
       "      <td>421198.283113</td>\n",
       "      <td>TRY OFFER 10x 250MG AMG XTC 12 EURO</td>\n",
       "    </tr>\n",
       "    <tr>\n",
       "      <td>9568</td>\n",
       "      <td>'10666</td>\n",
       "      <td>1</td>\n",
       "      <td>-1</td>\n",
       "      <td>Hollandfinest</td>\n",
       "      <td>#####</td>\n",
       "      <td>5.0</td>\n",
       "      <td>Sorry,by mistake</td>\n",
       "      <td>20181214064411</td>\n",
       "      <td>-1.0</td>\n",
       "      <td>0.001182</td>\n",
       "      <td>-1.0</td>\n",
       "      <td>-1</td>\n",
       "      <td>-1</td>\n",
       "      <td>124</td>\n",
       "      <td>421198.283113</td>\n",
       "      <td>TRY OFFER 10x 250MG AMG XTC 12 EURO</td>\n",
       "    </tr>\n",
       "    <tr>\n",
       "      <td>9569</td>\n",
       "      <td>'10667</td>\n",
       "      <td>1</td>\n",
       "      <td>-1</td>\n",
       "      <td>Hollandfinest</td>\n",
       "      <td>#####</td>\n",
       "      <td>5.0</td>\n",
       "      <td>6DD Austria</td>\n",
       "      <td>20181210064411</td>\n",
       "      <td>-1.0</td>\n",
       "      <td>0.001182</td>\n",
       "      <td>-1.0</td>\n",
       "      <td>-1</td>\n",
       "      <td>-1</td>\n",
       "      <td>124</td>\n",
       "      <td>421198.283113</td>\n",
       "      <td>TRY OFFER 10x 250MG AMG XTC 12 EURO</td>\n",
       "    </tr>\n",
       "    <tr>\n",
       "      <td>9570</td>\n",
       "      <td>'10668</td>\n",
       "      <td>1</td>\n",
       "      <td>-1</td>\n",
       "      <td>Hollandfinest</td>\n",
       "      <td>#####</td>\n",
       "      <td>5.0</td>\n",
       "      <td>Enter your comments here</td>\n",
       "      <td>20181214064411</td>\n",
       "      <td>-1.0</td>\n",
       "      <td>0.001182</td>\n",
       "      <td>-1.0</td>\n",
       "      <td>-1</td>\n",
       "      <td>-1</td>\n",
       "      <td>124</td>\n",
       "      <td>421198.283113</td>\n",
       "      <td>TRY OFFER 10x 250MG AMG XTC 12 EURO</td>\n",
       "    </tr>\n",
       "    <tr>\n",
       "      <td>9571</td>\n",
       "      <td>'10669</td>\n",
       "      <td>1</td>\n",
       "      <td>-1</td>\n",
       "      <td>Hollandfinest</td>\n",
       "      <td>#####</td>\n",
       "      <td>5.0</td>\n",
       "      <td>I like the relaxed style of these guys so am g...</td>\n",
       "      <td>20181118064411</td>\n",
       "      <td>-1.0</td>\n",
       "      <td>0.001182</td>\n",
       "      <td>-1.0</td>\n",
       "      <td>-1</td>\n",
       "      <td>-1</td>\n",
       "      <td>124</td>\n",
       "      <td>421198.283113</td>\n",
       "      <td>TRY OFFER 10x 250MG AMG XTC 12 EURO</td>\n",
       "    </tr>\n",
       "  </tbody>\n",
       "</table>\n",
       "</div>"
      ],
      "text/plain": [
       "          0   1   2              3      4    5   \\\n",
       "9525  '10623   1  -1  Hollandfinest  #####  5.0   \n",
       "9526  '10624   1  -1  Hollandfinest  #####  5.0   \n",
       "9527  '10625   1  -1  Hollandfinest  #####  5.0   \n",
       "9528  '10626   1  -1  Hollandfinest  #####  5.0   \n",
       "9529  '10627   1  -1  Hollandfinest  #####  5.0   \n",
       "9530  '10628   1  -1  Hollandfinest  #####  5.0   \n",
       "9531  '10629   1  -1  Hollandfinest  #####  5.0   \n",
       "9532  '10630   1  -1  Hollandfinest  #####  5.0   \n",
       "9533  '10631   1  -1  Hollandfinest  #####  5.0   \n",
       "9534  '10632   1  -1  Hollandfinest  #####  5.0   \n",
       "9535  '10633   1  -1  Hollandfinest  #####  5.0   \n",
       "9536  '10634   1  -1  Hollandfinest  #####  5.0   \n",
       "9537  '10635   1  -1  Hollandfinest  #####  5.0   \n",
       "9538  '10636   1  -1  Hollandfinest  #####  5.0   \n",
       "9539  '10637   1  -1  Hollandfinest  #####  5.0   \n",
       "9540  '10638   1  -1  Hollandfinest  #####  5.0   \n",
       "9541  '10639   1  -1  Hollandfinest  #####  5.0   \n",
       "9542  '10640   1  -1  Hollandfinest  #####  5.0   \n",
       "9543  '10641   1  -1  Hollandfinest  #####  5.0   \n",
       "9544  '10642   1  -1  Hollandfinest  #####  5.0   \n",
       "9545  '10643   1  -1  Hollandfinest  #####  5.0   \n",
       "9546  '10644   1  -1  Hollandfinest  #####  5.0   \n",
       "9547  '10645   1  -1  Hollandfinest  #####  5.0   \n",
       "9548  '10646   1  -1  Hollandfinest  #####  5.0   \n",
       "9549  '10647   1  -1  Hollandfinest  #####  5.0   \n",
       "9550  '10648   1  -1  Hollandfinest  #####  5.0   \n",
       "9551  '10649   1  -1  Hollandfinest  #####  5.0   \n",
       "9552  '10650   1  -1  Hollandfinest  #####  5.0   \n",
       "9553  '10651   1  -1  Hollandfinest  #####  5.0   \n",
       "9554  '10652   1  -1  Hollandfinest  #####  5.0   \n",
       "9555  '10653   1  -1  Hollandfinest  #####  4.0   \n",
       "9556  '10654   1  -1  Hollandfinest  #####  5.0   \n",
       "9557  '10655   1  -1  Hollandfinest  #####  5.0   \n",
       "9558  '10656   1  -1  Hollandfinest  #####  5.0   \n",
       "9559  '10657   1  -1  Hollandfinest  #####  5.0   \n",
       "9560  '10658   1  -1  Hollandfinest  #####  5.0   \n",
       "9561  '10659   1  -1  Hollandfinest  #####  5.0   \n",
       "9562  '10660   1  -1  Hollandfinest  #####  3.0   \n",
       "9563  '10661   1  -1  Hollandfinest  #####  5.0   \n",
       "9564  '10662   1  -1  Hollandfinest  #####  3.0   \n",
       "9565  '10663   1  -1  Hollandfinest  #####  5.0   \n",
       "9566  '10664   1  -1  Hollandfinest  #####  5.0   \n",
       "9567  '10665   1  -1  Hollandfinest  #####  5.0   \n",
       "9568  '10666   1  -1  Hollandfinest  #####  5.0   \n",
       "9569  '10667   1  -1  Hollandfinest  #####  5.0   \n",
       "9570  '10668   1  -1  Hollandfinest  #####  5.0   \n",
       "9571  '10669   1  -1  Hollandfinest  #####  5.0   \n",
       "\n",
       "                                                     6               7    8   \\\n",
       "9525                           Enter your comments here  20181223064411 -1.0   \n",
       "9526                 How much pills will i receive? 60?  20181223064411 -1.0   \n",
       "9527                                                7DD  20181220064411 -1.0   \n",
       "9528  Best vendor on dm, pills are 100%, delivery is...  19691231190000 -1.0   \n",
       "9529        Fast and good package\\nNon tested recommand  20181220064411 -1.0   \n",
       "9530     Fast delivery to UK, initial tests look okay!   20181220064411 -1.0   \n",
       "9531                                                 fe  20181220064411 -1.0   \n",
       "9532     FE! I will update when i received the package.  20181224064411 -1.0   \n",
       "9533  Second time ordering from you guys, And once a...  20181126064411 -1.0   \n",
       "9534  arrived on 25th, best christmas gift ever :) 1...  20181214064411 -1.0   \n",
       "9535                            All good, thanks a lot!  20181208064411 -1.0   \n",
       "9536                           Enter your comments here  20181210064411 -1.0   \n",
       "9537  very fast delivery 4 days for France is perfec...  20181208064411 -1.0   \n",
       "9538                           Enter your comments here  20181210064411 -1.0   \n",
       "9539  Thank you very mush for the fast delivery. But...  20181125064411 -1.0   \n",
       "9540  Perfect 10/10, Stealth, Top Quality, one of th...  20181202064411 -1.0   \n",
       "9541  Fast delivery! Good Quality everything fine. I...  20181203064411 -1.0   \n",
       "9542                           Enter your comments here  20181207064411 -1.0   \n",
       "9543  Arrived super fast, and tested for MDMA :)\\nWo...  20181125064411 -1.0   \n",
       "9544                           Enter your comments here  20181127064411 -1.0   \n",
       "9545                           Enter your comments here  20181128064411 -1.0   \n",
       "9546                           Enter your comments here  20181123064411 -1.0   \n",
       "9547                         Appreciate you so much <3   20181214064411 -1.0   \n",
       "9548                           Enter your comments here  20181205064411 -1.0   \n",
       "9549  22 dd  to oz,  none were crushed  with good pa...  20181120064411 -1.0   \n",
       "9550  Package arrived after 8 days. Will give anothe...  20181212064411 -1.0   \n",
       "9551      verry fast delivery,perfect stealth great xtc  20181122064411 -1.0   \n",
       "9552                 14dd to India. Will try and update  20181125064411 -1.0   \n",
       "9553                           Enter your comments here  20181210064411 -1.0   \n",
       "9554  First time ordering from you guys, And it was ...  20181120064411 -1.0   \n",
       "9555  Waited 30 days and nothing. contacted vendor a...  20181204064411 -1.0   \n",
       "9556                           Enter your comments here  20181123064411 -1.0   \n",
       "9557                                             THANKS  20181214064411 -1.0   \n",
       "9558  16D recu bonne qualité super produit vendeur d...  20181214064411 -1.0   \n",
       "9559  Super fast ! perfect stealth ! Enfin un vendeu...  20181204064411 -1.0   \n",
       "9560                           Enter your comments here  20181214064411 -1.0   \n",
       "9561                           Enter your comments here  20181208064411 -1.0   \n",
       "9562  awaiting arrival ordered 14 days ago (to east ...  20181125064411 -1.0   \n",
       "9563                           Enter your comments here  20181123064411 -1.0   \n",
       "9564  30 + days no arrival to US do not recommend fo...  20181119064411 -1.0   \n",
       "9565                                         FE top 8DD  20181214064411 -1.0   \n",
       "9566         Nice pills and good stealth. 1DD. THANKS!   20181117064411 -1.0   \n",
       "9567  Delivered very good stealth! Will edit once I\\...  20181125064411 -1.0   \n",
       "9568                                   Sorry,by mistake  20181214064411 -1.0   \n",
       "9569                                        6DD Austria  20181210064411 -1.0   \n",
       "9570                           Enter your comments here  20181214064411 -1.0   \n",
       "9571  I like the relaxed style of these guys so am g...  20181118064411 -1.0   \n",
       "\n",
       "            9    10  11  12   13             14  \\\n",
       "9525  0.001182 -1.0  -1  -1  124  421198.283113   \n",
       "9526  0.001182 -1.0  -1  -1  124  421198.283113   \n",
       "9527  0.001182 -1.0  -1  -1  124  421198.283113   \n",
       "9528  0.001182 -1.0  -1  -1  124  421198.283113   \n",
       "9529  0.001182 -1.0  -1  -1  124  421198.283113   \n",
       "9530  0.001182 -1.0  -1  -1  124  421198.283113   \n",
       "9531  0.001182 -1.0  -1  -1  124  421198.283113   \n",
       "9532  0.001182 -1.0  -1  -1  124  421198.283113   \n",
       "9533  0.001182 -1.0  -1  -1  124  421198.283113   \n",
       "9534  0.001182 -1.0  -1  -1  124  421198.283113   \n",
       "9535  0.001182 -1.0  -1  -1  124  421198.283113   \n",
       "9536  0.001182 -1.0  -1  -1  124  421198.283113   \n",
       "9537  0.001182 -1.0  -1  -1  124  421198.283113   \n",
       "9538  0.001182 -1.0  -1  -1  124  421198.283113   \n",
       "9539  0.001182 -1.0  -1  -1  124  421198.283113   \n",
       "9540  0.001182 -1.0  -1  -1  124  421198.283113   \n",
       "9541  0.001182 -1.0  -1  -1  124  421198.283113   \n",
       "9542  0.001182 -1.0  -1  -1  124  421198.283113   \n",
       "9543  0.001182 -1.0  -1  -1  124  421198.283113   \n",
       "9544  0.001182 -1.0  -1  -1  124  421198.283113   \n",
       "9545  0.001182 -1.0  -1  -1  124  421198.283113   \n",
       "9546  0.001182 -1.0  -1  -1  124  421198.283113   \n",
       "9547  0.001182 -1.0  -1  -1  124  421198.283113   \n",
       "9548  0.001182 -1.0  -1  -1  124  421198.283113   \n",
       "9549  0.001182 -1.0  -1  -1  124  421198.283113   \n",
       "9550  0.001182 -1.0  -1  -1  124  421198.283113   \n",
       "9551  0.001182 -1.0  -1  -1  124  421198.283113   \n",
       "9552  0.001182 -1.0  -1  -1  124  421198.283113   \n",
       "9553  0.001182 -1.0  -1  -1  124  421198.283113   \n",
       "9554  0.001182 -1.0  -1  -1  124  421198.283113   \n",
       "9555  0.001182 -1.0  -1  -1  124  421198.283113   \n",
       "9556  0.001182 -1.0  -1  -1  124  421198.283113   \n",
       "9557  0.001182 -1.0  -1  -1  124  421198.283113   \n",
       "9558  0.001182 -1.0  -1  -1  124  421198.283113   \n",
       "9559  0.001182 -1.0  -1  -1  124  421198.283113   \n",
       "9560  0.001182 -1.0  -1  -1  124  421198.283113   \n",
       "9561  0.001182 -1.0  -1  -1  124  421198.283113   \n",
       "9562  0.001182 -1.0  -1  -1  124  421198.283113   \n",
       "9563  0.001182 -1.0  -1  -1  124  421198.283113   \n",
       "9564  0.001182 -1.0  -1  -1  124  421198.283113   \n",
       "9565  0.001182 -1.0  -1  -1  124  421198.283113   \n",
       "9566  0.001182 -1.0  -1  -1  124  421198.283113   \n",
       "9567  0.001182 -1.0  -1  -1  124  421198.283113   \n",
       "9568  0.001182 -1.0  -1  -1  124  421198.283113   \n",
       "9569  0.001182 -1.0  -1  -1  124  421198.283113   \n",
       "9570  0.001182 -1.0  -1  -1  124  421198.283113   \n",
       "9571  0.001182 -1.0  -1  -1  124  421198.283113   \n",
       "\n",
       "                                       15  \n",
       "9525  TRY OFFER 10x 250MG AMG XTC 12 EURO  \n",
       "9526  TRY OFFER 10x 250MG AMG XTC 12 EURO  \n",
       "9527  TRY OFFER 10x 250MG AMG XTC 12 EURO  \n",
       "9528  TRY OFFER 10x 250MG AMG XTC 12 EURO  \n",
       "9529  TRY OFFER 10x 250MG AMG XTC 12 EURO  \n",
       "9530  TRY OFFER 10x 250MG AMG XTC 12 EURO  \n",
       "9531  TRY OFFER 10x 250MG AMG XTC 12 EURO  \n",
       "9532  TRY OFFER 10x 250MG AMG XTC 12 EURO  \n",
       "9533  TRY OFFER 10x 250MG AMG XTC 12 EURO  \n",
       "9534  TRY OFFER 10x 250MG AMG XTC 12 EURO  \n",
       "9535  TRY OFFER 10x 250MG AMG XTC 12 EURO  \n",
       "9536  TRY OFFER 10x 250MG AMG XTC 12 EURO  \n",
       "9537  TRY OFFER 10x 250MG AMG XTC 12 EURO  \n",
       "9538  TRY OFFER 10x 250MG AMG XTC 12 EURO  \n",
       "9539  TRY OFFER 10x 250MG AMG XTC 12 EURO  \n",
       "9540  TRY OFFER 10x 250MG AMG XTC 12 EURO  \n",
       "9541  TRY OFFER 10x 250MG AMG XTC 12 EURO  \n",
       "9542  TRY OFFER 10x 250MG AMG XTC 12 EURO  \n",
       "9543  TRY OFFER 10x 250MG AMG XTC 12 EURO  \n",
       "9544  TRY OFFER 10x 250MG AMG XTC 12 EURO  \n",
       "9545  TRY OFFER 10x 250MG AMG XTC 12 EURO  \n",
       "9546  TRY OFFER 10x 250MG AMG XTC 12 EURO  \n",
       "9547  TRY OFFER 10x 250MG AMG XTC 12 EURO  \n",
       "9548  TRY OFFER 10x 250MG AMG XTC 12 EURO  \n",
       "9549  TRY OFFER 10x 250MG AMG XTC 12 EURO  \n",
       "9550  TRY OFFER 10x 250MG AMG XTC 12 EURO  \n",
       "9551  TRY OFFER 10x 250MG AMG XTC 12 EURO  \n",
       "9552  TRY OFFER 10x 250MG AMG XTC 12 EURO  \n",
       "9553  TRY OFFER 10x 250MG AMG XTC 12 EURO  \n",
       "9554  TRY OFFER 10x 250MG AMG XTC 12 EURO  \n",
       "9555  TRY OFFER 10x 250MG AMG XTC 12 EURO  \n",
       "9556  TRY OFFER 10x 250MG AMG XTC 12 EURO  \n",
       "9557  TRY OFFER 10x 250MG AMG XTC 12 EURO  \n",
       "9558  TRY OFFER 10x 250MG AMG XTC 12 EURO  \n",
       "9559  TRY OFFER 10x 250MG AMG XTC 12 EURO  \n",
       "9560  TRY OFFER 10x 250MG AMG XTC 12 EURO  \n",
       "9561  TRY OFFER 10x 250MG AMG XTC 12 EURO  \n",
       "9562  TRY OFFER 10x 250MG AMG XTC 12 EURO  \n",
       "9563  TRY OFFER 10x 250MG AMG XTC 12 EURO  \n",
       "9564  TRY OFFER 10x 250MG AMG XTC 12 EURO  \n",
       "9565  TRY OFFER 10x 250MG AMG XTC 12 EURO  \n",
       "9566  TRY OFFER 10x 250MG AMG XTC 12 EURO  \n",
       "9567  TRY OFFER 10x 250MG AMG XTC 12 EURO  \n",
       "9568  TRY OFFER 10x 250MG AMG XTC 12 EURO  \n",
       "9569  TRY OFFER 10x 250MG AMG XTC 12 EURO  \n",
       "9570  TRY OFFER 10x 250MG AMG XTC 12 EURO  \n",
       "9571  TRY OFFER 10x 250MG AMG XTC 12 EURO  "
      ]
     },
     "execution_count": 3,
     "metadata": {
     },
     "output_type": "execute_result"
    }
   ],
   "source": [
    "product_descriptions.head()\n",
    "product_descriptions[product_descriptions.iloc[:,3]=='Hollandfinest']"
   ]
  },
  {
   "cell_type": "code",
   "execution_count": 6,
   "metadata": {
    "collapsed": false
   },
   "outputs": [
   ],
   "source": [
    "product_descriptions.to_csv(r'Uncategorized Listings.csv')"
   ]
  },
  {
   "cell_type": "code",
   "execution_count": 4,
   "metadata": {
    "collapsed": false
   },
   "outputs": [
    {
     "data": {
      "text/html": [
       "<div>\n",
       "<style scoped>\n",
       "    .dataframe tbody tr th:only-of-type {\n",
       "        vertical-align: middle;\n",
       "    }\n",
       "\n",
       "    .dataframe tbody tr th {\n",
       "        vertical-align: top;\n",
       "    }\n",
       "\n",
       "    .dataframe thead th {\n",
       "        text-align: right;\n",
       "    }\n",
       "</style>\n",
       "<table border=\"1\" class=\"dataframe\">\n",
       "  <thead>\n",
       "    <tr style=\"text-align: right;\">\n",
       "      <th></th>\n",
       "      <th>0</th>\n",
       "      <th>2</th>\n",
       "      <th>3</th>\n",
       "      <th>4</th>\n",
       "      <th>5</th>\n",
       "      <th>6</th>\n",
       "      <th>7</th>\n",
       "      <th>8</th>\n",
       "      <th>9</th>\n",
       "      <th>10</th>\n",
       "      <th>11</th>\n",
       "      <th>12</th>\n",
       "      <th>13</th>\n",
       "      <th>14</th>\n",
       "      <th>15</th>\n",
       "    </tr>\n",
       "    <tr>\n",
       "      <th>1</th>\n",
       "      <th></th>\n",
       "      <th></th>\n",
       "      <th></th>\n",
       "      <th></th>\n",
       "      <th></th>\n",
       "      <th></th>\n",
       "      <th></th>\n",
       "      <th></th>\n",
       "      <th></th>\n",
       "      <th></th>\n",
       "      <th></th>\n",
       "      <th></th>\n",
       "      <th></th>\n",
       "      <th></th>\n",
       "      <th></th>\n",
       "    </tr>\n",
       "  </thead>\n",
       "  <tbody>\n",
       "    <tr>\n",
       "      <th>1</th>\n",
       "      <td>92388</td>\n",
       "      <td>92388</td>\n",
       "      <td>92388</td>\n",
       "      <td>92388</td>\n",
       "      <td>92388</td>\n",
       "      <td>92388</td>\n",
       "      <td>92388</td>\n",
       "      <td>92388</td>\n",
       "      <td>92388</td>\n",
       "      <td>92388</td>\n",
       "      <td>92388</td>\n",
       "      <td>92388</td>\n",
       "      <td>92388</td>\n",
       "      <td>92388</td>\n",
       "      <td>92388</td>\n",
       "    </tr>\n",
       "    <tr>\n",
       "      <th>2</th>\n",
       "      <td>8902</td>\n",
       "      <td>8902</td>\n",
       "      <td>8902</td>\n",
       "      <td>8902</td>\n",
       "      <td>8902</td>\n",
       "      <td>8902</td>\n",
       "      <td>8902</td>\n",
       "      <td>8902</td>\n",
       "      <td>8902</td>\n",
       "      <td>8902</td>\n",
       "      <td>8902</td>\n",
       "      <td>8902</td>\n",
       "      <td>8902</td>\n",
       "      <td>8902</td>\n",
       "      <td>8902</td>\n",
       "    </tr>\n",
       "    <tr>\n",
       "      <th>3</th>\n",
       "      <td>9947</td>\n",
       "      <td>9947</td>\n",
       "      <td>9947</td>\n",
       "      <td>9947</td>\n",
       "      <td>9947</td>\n",
       "      <td>9947</td>\n",
       "      <td>9947</td>\n",
       "      <td>9947</td>\n",
       "      <td>9947</td>\n",
       "      <td>9947</td>\n",
       "      <td>9947</td>\n",
       "      <td>9947</td>\n",
       "      <td>9947</td>\n",
       "      <td>9947</td>\n",
       "      <td>9947</td>\n",
       "    </tr>\n",
       "    <tr>\n",
       "      <th>4</th>\n",
       "      <td>718</td>\n",
       "      <td>718</td>\n",
       "      <td>718</td>\n",
       "      <td>718</td>\n",
       "      <td>718</td>\n",
       "      <td>718</td>\n",
       "      <td>718</td>\n",
       "      <td>718</td>\n",
       "      <td>718</td>\n",
       "      <td>718</td>\n",
       "      <td>718</td>\n",
       "      <td>718</td>\n",
       "      <td>718</td>\n",
       "      <td>718</td>\n",
       "      <td>718</td>\n",
       "    </tr>\n",
       "    <tr>\n",
       "      <th>5</th>\n",
       "      <td>6007</td>\n",
       "      <td>6007</td>\n",
       "      <td>6007</td>\n",
       "      <td>6007</td>\n",
       "      <td>6007</td>\n",
       "      <td>6007</td>\n",
       "      <td>6007</td>\n",
       "      <td>6007</td>\n",
       "      <td>6007</td>\n",
       "      <td>6007</td>\n",
       "      <td>6007</td>\n",
       "      <td>6007</td>\n",
       "      <td>6007</td>\n",
       "      <td>6007</td>\n",
       "      <td>6007</td>\n",
       "    </tr>\n",
       "    <tr>\n",
       "      <th>6</th>\n",
       "      <td>1442</td>\n",
       "      <td>1442</td>\n",
       "      <td>1442</td>\n",
       "      <td>1442</td>\n",
       "      <td>1442</td>\n",
       "      <td>1442</td>\n",
       "      <td>1442</td>\n",
       "      <td>1442</td>\n",
       "      <td>1442</td>\n",
       "      <td>1442</td>\n",
       "      <td>1442</td>\n",
       "      <td>1442</td>\n",
       "      <td>1442</td>\n",
       "      <td>1442</td>\n",
       "      <td>1442</td>\n",
       "    </tr>\n",
       "    <tr>\n",
       "      <th>10</th>\n",
       "      <td>530</td>\n",
       "      <td>530</td>\n",
       "      <td>530</td>\n",
       "      <td>530</td>\n",
       "      <td>530</td>\n",
       "      <td>530</td>\n",
       "      <td>530</td>\n",
       "      <td>530</td>\n",
       "      <td>530</td>\n",
       "      <td>530</td>\n",
       "      <td>530</td>\n",
       "      <td>530</td>\n",
       "      <td>530</td>\n",
       "      <td>530</td>\n",
       "      <td>530</td>\n",
       "    </tr>\n",
       "  </tbody>\n",
       "</table>\n",
       "</div>"
      ],
      "text/plain": [
       "       0      2      3      4      5      6      7      8      9      10  \\\n",
       "1                                                                          \n",
       "1   92388  92388  92388  92388  92388  92388  92388  92388  92388  92388   \n",
       "2    8902   8902   8902   8902   8902   8902   8902   8902   8902   8902   \n",
       "3    9947   9947   9947   9947   9947   9947   9947   9947   9947   9947   \n",
       "4     718    718    718    718    718    718    718    718    718    718   \n",
       "5    6007   6007   6007   6007   6007   6007   6007   6007   6007   6007   \n",
       "6    1442   1442   1442   1442   1442   1442   1442   1442   1442   1442   \n",
       "10    530    530    530    530    530    530    530    530    530    530   \n",
       "\n",
       "       11     12     13     14     15  \n",
       "1                                      \n",
       "1   92388  92388  92388  92388  92388  \n",
       "2    8902   8902   8902   8902   8902  \n",
       "3    9947   9947   9947   9947   9947  \n",
       "4     718    718    718    718    718  \n",
       "5    6007   6007   6007   6007   6007  \n",
       "6    1442   1442   1442   1442   1442  \n",
       "10    530    530    530    530    530  "
      ]
     },
     "execution_count": 4,
     "metadata": {
     },
     "output_type": "execute_result"
    }
   ],
   "source": [
    "product_descriptions.groupby(1).count()"
   ]
  },
  {
   "cell_type": "code",
   "execution_count": 4,
   "metadata": {
    "collapsed": false
   },
   "outputs": [
    {
     "data": {
      "text/plain": [
       "119934"
      ]
     },
     "execution_count": 4,
     "metadata": {
     },
     "output_type": "execute_result"
    }
   ],
   "source": [
    "len (product_descriptions)"
   ]
  },
  {
   "cell_type": "code",
   "execution_count": 5,
   "metadata": {
    "collapsed": false
   },
   "outputs": [
   ],
   "source": [
    "# Only get transactions in Market 1\n",
    "product_descriptions = product_descriptions[product_descriptions.iloc[:,1] == 1]"
   ]
  },
  {
   "cell_type": "code",
   "execution_count": 6,
   "metadata": {
    "collapsed": false,
    "scrolled": true
   },
   "outputs": [
    {
     "name": "stderr",
     "output_type": "stream",
     "text": [
      "WARNING: Some output was deleted.\n"
     ]
    }
   ],
   "source": [
    "lne"
   ]
  },
  {
   "cell_type": "code",
   "execution_count": 7,
   "metadata": {
    "collapsed": false
   },
   "outputs": [
    {
     "data": {
      "text/html": [
       "<div>\n",
       "<style scoped>\n",
       "    .dataframe tbody tr th:only-of-type {\n",
       "        vertical-align: middle;\n",
       "    }\n",
       "\n",
       "    .dataframe tbody tr th {\n",
       "        vertical-align: top;\n",
       "    }\n",
       "\n",
       "    .dataframe thead th {\n",
       "        text-align: right;\n",
       "    }\n",
       "</style>\n",
       "<table border=\"1\" class=\"dataframe\">\n",
       "  <thead>\n",
       "    <tr style=\"text-align: right;\">\n",
       "      <th></th>\n",
       "      <th>0</th>\n",
       "      <th>2</th>\n",
       "      <th>3</th>\n",
       "      <th>4</th>\n",
       "      <th>5</th>\n",
       "      <th>6</th>\n",
       "      <th>7</th>\n",
       "      <th>8</th>\n",
       "      <th>9</th>\n",
       "      <th>10</th>\n",
       "      <th>11</th>\n",
       "      <th>12</th>\n",
       "      <th>13</th>\n",
       "      <th>14</th>\n",
       "      <th>15</th>\n",
       "    </tr>\n",
       "    <tr>\n",
       "      <th>1</th>\n",
       "      <th></th>\n",
       "      <th></th>\n",
       "      <th></th>\n",
       "      <th></th>\n",
       "      <th></th>\n",
       "      <th></th>\n",
       "      <th></th>\n",
       "      <th></th>\n",
       "      <th></th>\n",
       "      <th></th>\n",
       "      <th></th>\n",
       "      <th></th>\n",
       "      <th></th>\n",
       "      <th></th>\n",
       "      <th></th>\n",
       "    </tr>\n",
       "  </thead>\n",
       "  <tbody>\n",
       "    <tr>\n",
       "      <th>1</th>\n",
       "      <td>92388</td>\n",
       "      <td>92388</td>\n",
       "      <td>92388</td>\n",
       "      <td>92388</td>\n",
       "      <td>92388</td>\n",
       "      <td>92388</td>\n",
       "      <td>92388</td>\n",
       "      <td>92388</td>\n",
       "      <td>92388</td>\n",
       "      <td>92388</td>\n",
       "      <td>92388</td>\n",
       "      <td>92388</td>\n",
       "      <td>92388</td>\n",
       "      <td>92388</td>\n",
       "      <td>92388</td>\n",
       "    </tr>\n",
       "  </tbody>\n",
       "</table>\n",
       "</div>"
      ],
      "text/plain": [
       "      0      2      3      4      5      6      7      8      9      10  \\\n",
       "1                                                                         \n",
       "1  92388  92388  92388  92388  92388  92388  92388  92388  92388  92388   \n",
       "\n",
       "      11     12     13     14     15  \n",
       "1                                     \n",
       "1  92388  92388  92388  92388  92388  "
      ]
     },
     "execution_count": 7,
     "metadata": {
     },
     "output_type": "execute_result"
    }
   ],
   "source": [
    "product_descriptions.groupby(1).count()"
   ]
  },
  {
   "cell_type": "code",
   "execution_count": 8,
   "metadata": {
    "collapsed": false,
    "scrolled": true
   },
   "outputs": [
    {
     "data": {
      "text/html": [
       "<div>\n",
       "<style scoped>\n",
       "    .dataframe tbody tr th:only-of-type {\n",
       "        vertical-align: middle;\n",
       "    }\n",
       "\n",
       "    .dataframe tbody tr th {\n",
       "        vertical-align: top;\n",
       "    }\n",
       "\n",
       "    .dataframe thead th {\n",
       "        text-align: right;\n",
       "    }\n",
       "</style>\n",
       "<table border=\"1\" class=\"dataframe\">\n",
       "  <thead>\n",
       "    <tr style=\"text-align: right;\">\n",
       "      <th></th>\n",
       "      <th>0</th>\n",
       "      <th>1</th>\n",
       "      <th>2</th>\n",
       "      <th>3</th>\n",
       "      <th>4</th>\n",
       "      <th>5</th>\n",
       "      <th>6</th>\n",
       "      <th>7</th>\n",
       "      <th>8</th>\n",
       "      <th>9</th>\n",
       "      <th>10</th>\n",
       "      <th>11</th>\n",
       "      <th>12</th>\n",
       "      <th>13</th>\n",
       "      <th>14</th>\n",
       "      <th>15</th>\n",
       "    </tr>\n",
       "  </thead>\n",
       "  <tbody>\n",
       "  </tbody>\n",
       "</table>\n",
       "</div>"
      ],
      "text/plain": [
       "Empty DataFrame\n",
       "Columns: [0, 1, 2, 3, 4, 5, 6, 7, 8, 9, 10, 11, 12, 13, 14, 15]\n",
       "Index: []"
      ]
     },
     "execution_count": 8,
     "metadata": {
     },
     "output_type": "execute_result"
    }
   ],
   "source": [
    "# Investigate duplicate dates\n",
    "product_descriptions[product_descriptions.iloc[:,3] == 'dutch-christiana'].sort_values(by = 7).iloc[41:46,:]"
   ]
  },
  {
   "cell_type": "code",
   "execution_count": 9,
   "metadata": {
    "collapsed": false,
    "scrolled": true
   },
   "outputs": [
   ],
   "source": [
    "# Function to convert numeric time to datetime object\n",
    "def parseDate(raw_date, pattern = '%Y%m%d%H%M%S'):\n",
    "    string_date = str(raw_date)\n",
    "    return(datetime.strptime(string_date, pattern))\n",
    "\n",
    "# Parse the dates, and place in new column\n",
    "product_descriptions['dates'] = product_descriptions.iloc[:,7].apply(parseDate)"
   ]
  },
  {
   "cell_type": "markdown",
   "metadata": {
    "collapsed": false
   },
   "source": [
    "# Tokenizing Product Description"
   ]
  },
  {
   "cell_type": "code",
   "execution_count": 10,
   "metadata": {
    "collapsed": false
   },
   "outputs": [
   ],
   "source": [
    "import spacy\n",
    "from spacy.lang.en import English\n",
    "parser = English()"
   ]
  },
  {
   "cell_type": "code",
   "execution_count": 11,
   "metadata": {
    "collapsed": false
   },
   "outputs": [
   ],
   "source": [
    "# Function to tokenize titles\n",
    "def tokenize_1(title):\n",
    "    tokens = parser(title.lower())\n",
    "    tokens = [token.orth_ for token in tokens if not token.orth_.isspace()]\n",
    "    return(tokens)"
   ]
  },
  {
   "cell_type": "code",
   "execution_count": 12,
   "metadata": {
    "collapsed": false
   },
   "outputs": [
    {
     "data": {
      "text/plain": [
       "['25gr*mdma']"
      ]
     },
     "execution_count": 12,
     "metadata": {
     },
     "output_type": "execute_result"
    }
   ],
   "source": [
    "tokenize_1('25gr*MDMA')"
   ]
  },
  {
   "cell_type": "code",
   "execution_count": 13,
   "metadata": {
    "collapsed": false
   },
   "outputs": [
   ],
   "source": [
    "# Apply tokenizer to the titles in the dataframe\n",
    "product_descriptions['tokenized_titles'] = product_descriptions.iloc[:,15].apply(tokenize_1)"
   ]
  },
  {
   "cell_type": "code",
   "execution_count": 14,
   "metadata": {
    "collapsed": false
   },
   "outputs": [
   ],
   "source": [
    "# Alternative tokenizer\n",
    "special_char =['`','\\'','=','-','~','!','@','#','$','^','&','*','(',')','_','+','[',']','{','}',';','\\\\',':','|','<','<','>','?','//']\n",
    "\n",
    "def remove_special_char(string):\n",
    "    for char in special_char:\n",
    "        string = string.replace(char,' ')\n",
    "    return(string)\n",
    "\n",
    "def tokenize(string):\n",
    "    return remove_special_char(string).split()"
   ]
  },
  {
   "cell_type": "markdown",
   "metadata": {
    "collapsed": false
   },
   "source": [
    "# Categorize drugs"
   ]
  },
  {
   "cell_type": "code",
   "execution_count": 15,
   "metadata": {
    "collapsed": false
   },
   "outputs": [
   ],
   "source": [
    "import drugLookup"
   ]
  },
  {
   "cell_type": "markdown",
   "metadata": {
    "collapsed": false
   },
   "source": [
    "Get list of slang phrases that are multiple words"
   ]
  },
  {
   "cell_type": "code",
   "execution_count": 16,
   "metadata": {
    "collapsed": false,
    "scrolled": true
   },
   "outputs": [
   ],
   "source": [
    "# Load drugs dictionary\n",
    "drugs_dict = drugLookup.get_drugs_dict()\n",
    "\n",
    "complete_multi_word_list = []\n",
    "\n",
    "drug_index = 0\n",
    "#For loop that gets all the synonyms of drugs with more than one word\n",
    "for drug in drugs_dict.keys():\n",
    "    slang_words = drugs_dict[drug]\n",
    "    multi_word_list = []\n",
    "    for slang_word in slang_words:\n",
    "        if ' ' in slang_word:\n",
    "            multi_word_list.append(slang_word)\n",
    "    complete_multi_word_list.append(multi_word_list)"
   ]
  },
  {
   "cell_type": "code",
   "execution_count": 17,
   "metadata": {
    "collapsed": false
   },
   "outputs": [
   ],
   "source": [
    "# Create multi_word dictionary\n",
    "drug_cats = list(drugs_dict.keys())\n",
    "multi_drug_dict = dict(zip(drug_cats, complete_multi_word_list))"
   ]
  },
  {
   "cell_type": "code",
   "execution_count": 18,
   "metadata": {
    "collapsed": false
   },
   "outputs": [
   ],
   "source": [
    "# multi_drug_dict"
   ]
  },
  {
   "cell_type": "code",
   "execution_count": 19,
   "metadata": {
    "collapsed": false
   },
   "outputs": [
   ],
   "source": [
    "# Load dictionary of drugs\n",
    "drugs_dict = drugLookup.get_drugs_dict()\n",
    "\n",
    "\n",
    "# Get list of possible drugs for each listing\n",
    "def categorize_listing(title_set):\n",
    "    #     Function takes in set of two: first entry is raw_title, second is tokenized_title\n",
    "    possible_drugs = []\n",
    "    list_title_set = list(title_set)\n",
    "    raw_title = list_title_set[0]\n",
    "    tokenized_title = list_title_set[1]\n",
    "    for drug in drugs_dict.keys():\n",
    "        if any(token in drugs_dict[drug] for token in tokenized_title):  # uses tokenization\n",
    "            possible_drugs.append(drug)\n",
    "            break\n",
    "        if any(multi_word in raw_title.lower() for multi_word in multi_drug_dict[drug]):\n",
    "            possible_drugs.append(drug)\n",
    "            break\n",
    "    return possible_drugs"
   ]
  },
  {
   "cell_type": "code",
   "execution_count": 20,
   "metadata": {
    "collapsed": false,
    "scrolled": true
   },
   "outputs": [
   ],
   "source": [
    "# Categorize each listing\n",
    "product_descriptions['drug_prediction'] = product_descriptions.iloc[:,[15,17]].apply(categorize_listing, axis = 1)"
   ]
  },
  {
   "cell_type": "code",
   "execution_count": 21,
   "metadata": {
    "collapsed": false
   },
   "outputs": [
    {
     "data": {
      "text/plain": [
       "9430               [heroin]\n",
       "9431               [heroin]\n",
       "9432            [not_drugs]\n",
       "9433            [not_drugs]\n",
       "9434      [benzodiazepines]\n",
       "9435      [benzodiazepines]\n",
       "9436      [benzodiazepines]\n",
       "9437      [benzodiazepines]\n",
       "9438      [benzodiazepines]\n",
       "9439      [benzodiazepines]\n",
       "9440      [benzodiazepines]\n",
       "9441      [benzodiazepines]\n",
       "9442      [benzodiazepines]\n",
       "9443      [benzodiazepines]\n",
       "9444      [benzodiazepines]\n",
       "9445      [benzodiazepines]\n",
       "9446      [benzodiazepines]\n",
       "9447      [benzodiazepines]\n",
       "9448      [benzodiazepines]\n",
       "9449      [benzodiazepines]\n",
       "9450      [benzodiazepines]\n",
       "9451      [benzodiazepines]\n",
       "9452      [benzodiazepines]\n",
       "9453            [marijuana]\n",
       "9454            [marijuana]\n",
       "9455            [marijuana]\n",
       "9456            [marijuana]\n",
       "9457              [hashish]\n",
       "9458              [hashish]\n",
       "9459              [hashish]\n",
       "                ...        \n",
       "119854    [methamphetamine]\n",
       "119855    [methamphetamine]\n",
       "119856    [methamphetamine]\n",
       "119857    [methamphetamine]\n",
       "119858    [methamphetamine]\n",
       "119859    [methamphetamine]\n",
       "119860    [methamphetamine]\n",
       "119861    [methamphetamine]\n",
       "119862    [methamphetamine]\n",
       "119863    [methamphetamine]\n",
       "119864    [methamphetamine]\n",
       "119865    [methamphetamine]\n",
       "119866    [methamphetamine]\n",
       "119867    [methamphetamine]\n",
       "119868    [methamphetamine]\n",
       "119869          [marijuana]\n",
       "119870          [marijuana]\n",
       "119871    [methamphetamine]\n",
       "119872    [methamphetamine]\n",
       "119873    [methamphetamine]\n",
       "119874    [methamphetamine]\n",
       "119875    [methamphetamine]\n",
       "119876    [methamphetamine]\n",
       "119877    [methamphetamine]\n",
       "119878    [methamphetamine]\n",
       "119879    [methamphetamine]\n",
       "119880    [methamphetamine]\n",
       "119881    [methamphetamine]\n",
       "119882    [methamphetamine]\n",
       "119883    [methamphetamine]\n",
       "Name: drug_prediction, Length: 92388, dtype: object"
      ]
     },
     "execution_count": 21,
     "metadata": {
     },
     "output_type": "execute_result"
    }
   ],
   "source": [
    "product_descriptions['drug_prediction']"
   ]
  },
  {
   "cell_type": "markdown",
   "metadata": {
    "collapsed": false
   },
   "source": [
    "# Remove bad dates"
   ]
  },
  {
   "cell_type": "code",
   "execution_count": 22,
   "metadata": {
    "collapsed": false
   },
   "outputs": [
    {
     "data": {
      "image/png": "[encoded data removed]",
      "text/plain": [
       "<Figure size 432x288 with 1 Axes>"
      ]
     },
     "execution_count": 22,
     "metadata": {
      "image/png": {
       "height": 279,
       "width": 390
      }
     },
     "output_type": "execute_result"
    },
    {
     "data": {
      "text/plain": [
       "dates\n",
       "1969     2457\n",
       "1970        2\n",
       "2017       25\n",
       "2018    84014\n",
       "2019     5890\n",
       "Name: dates, dtype: int64"
      ]
     },
     "execution_count": 22,
     "metadata": {
     },
     "output_type": "execute_result"
    }
   ],
   "source": [
    "# Look at distribution of dates\n",
    "product_descriptions['dates'].groupby(product_descriptions[\"dates\"].dt.year).count().plot(kind='bar')\n",
    "plt.show()\n",
    "product_descriptions['dates'].groupby(product_descriptions[\"dates\"].dt.year).count()"
   ]
  },
  {
   "cell_type": "code",
   "execution_count": 23,
   "metadata": {
    "collapsed": false
   },
   "outputs": [
    {
     "data": {
      "image/png": "[encoded data removed]",
      "text/plain": [
       "<Figure size 432x288 with 1 Axes>"
      ]
     },
     "execution_count": 23,
     "metadata": {
      "image/png": {
       "height": 260,
       "width": 383
      }
     },
     "output_type": "execute_result"
    },
    {
     "data": {
      "text/plain": [
       "dates\n",
       "1    5890\n",
       "Name: dates, dtype: int64"
      ]
     },
     "execution_count": 23,
     "metadata": {
     },
     "output_type": "execute_result"
    }
   ],
   "source": [
    "# Plot the 2019 dates\n",
    "after_2019 = product_descriptions['dates'] > datetime(2019,1,1)\n",
    "after_2019_df = product_descriptions[after_2019]\n",
    "after_2019_df['dates'].groupby(after_2019_df[\"dates\"].dt.month).count().plot(kind='bar')\n",
    "plt.show()\n",
    "\n",
    "after_2019_df['dates'].groupby(after_2019_df[\"dates\"].dt.month).count()\n",
    "\n",
    "#after_2019"
   ]
  },
  {
   "cell_type": "code",
   "execution_count": 24,
   "metadata": {
    "collapsed": false
   },
   "outputs": [
    {
     "data": {
      "image/png": "[encoded data removed]",
      "text/plain": [
       "<Figure size 432x288 with 1 Axes>"
      ]
     },
     "execution_count": 24,
     "metadata": {
      "image/png": {
       "height": 266,
       "width": 384
      }
     },
     "output_type": "execute_result"
    }
   ],
   "source": [
    "# Plot the 2017 dates\n",
    "before_2018 = product_descriptions['dates'] < datetime(2018,1,1)\n",
    "after_2016 = product_descriptions['dates'] > datetime(2016,12,31)\n",
    "in_2017_df = product_descriptions[after_2016 & before_2018]\n",
    "in_2017_df['dates'].groupby(in_2017_df[\"dates\"].dt.month).count().plot(kind='bar')\n",
    "plt.ylabel('Number of Listings')\n",
    "plt.xlabel('Month')\n",
    "plt.show()"
   ]
  },
  {
   "cell_type": "code",
   "execution_count": 25,
   "metadata": {
    "collapsed": false
   },
   "outputs": [
   ],
   "source": [
    "# Filter out the 1969/1970/2019 dates\n",
    "# good_dates = product_desci\n",
    "before_2019 = product_descriptions['dates'] < datetime(2019,2,1)\n",
    "after_2017 = product_descriptions['dates'] > datetime(2018,4,1)\n",
    "df = product_descriptions[before_2019 & after_2017]"
   ]
  },
  {
   "cell_type": "code",
   "execution_count": 26,
   "metadata": {
    "collapsed": false
   },
   "outputs": [
    {
     "data": {
      "image/png": "[encoded data removed]",
      "text/plain": [
       "<Figure size 432x288 with 1 Axes>"
      ]
     },
     "execution_count": 26,
     "metadata": {
      "image/png": {
       "height": 266,
       "width": 390
      }
     },
     "output_type": "execute_result"
    },
    {
     "name": "stdout",
     "output_type": "stream",
     "text": [
      "dates\n",
      "1      5890\n",
      "4      2103\n",
      "5      4164\n",
      "6      4316\n",
      "7      4786\n",
      "8      8382\n",
      "9      9607\n",
      "10    13225\n",
      "11    16497\n",
      "12    20872\n",
      "Name: dates, dtype: int64\n"
     ]
    },
    {
     "data": {
      "text/plain": [
       "89842"
      ]
     },
     "execution_count": 26,
     "metadata": {
     },
     "output_type": "execute_result"
    }
   ],
   "source": [
    "# Plot 2018 dates\n",
    "df['dates'].groupby(df[\"dates\"].dt.month).count().plot(kind='bar')\n",
    "plt.show()\n",
    "\n",
    "monthly_listings = df['dates'].groupby(df[\"dates\"].dt.month).count()\n",
    "total_listings = sum(df['dates'].groupby(df[\"dates\"].dt.month).count())\n",
    "\n",
    "print(monthly_listings)\n",
    "total_listings\n",
    "#percentage_of_listings = "
   ]
  },
  {
   "cell_type": "code",
   "execution_count": 27,
   "metadata": {
    "collapsed": false
   },
   "outputs": [
    {
     "data": {
      "text/plain": [
       "(89842, 19)"
      ]
     },
     "execution_count": 27,
     "metadata": {
     },
     "output_type": "execute_result"
    }
   ],
   "source": [
    "df.shape"
   ]
  },
  {
   "cell_type": "code",
   "execution_count": 28,
   "metadata": {
    "collapsed": false,
    "scrolled": true
   },
   "outputs": [
    {
     "name": "stderr",
     "output_type": "stream",
     "text": [
      "WARNING: Some output was deleted.\n"
     ]
    }
   ],
   "source": [
    "df"
   ]
  },
  {
   "cell_type": "markdown",
   "metadata": {
    "collapsed": false
   },
   "source": [
    "## Converting Bitcoin to USD"
   ]
  },
  {
   "cell_type": "code",
   "execution_count": 29,
   "metadata": {
    "collapsed": false
   },
   "outputs": [
   ],
   "source": [
    "# Get subset of columns that we care about\n",
    "drug_data = copy.deepcopy(df.iloc[:,[0,2,3,8,9,15,16,18, 5, 6, 4]])\n",
    "drug_data.columns = ['transaction_id','vendor_id','vendor_name','bitcoin','USD',\n",
    "                     'product_description','date', 'drug_prediction', 'rating', 'feedback', 'buyer_name']"
   ]
  },
  {
   "cell_type": "code",
   "execution_count": 30,
   "metadata": {
    "collapsed": false
   },
   "outputs": [
   ],
   "source": [
    "from datetime import datetime\n",
    "#bitcoin to USD file\n",
    "btc_price = pd.read_csv('BTC-USD_20100716-20190604.csv')\n",
    "btc_price = np.array(btc_price)\n",
    "\n",
    "#convert dates to datetime.date\n",
    "btc_date = []\n",
    "for number in btc_price[:,0]:\n",
    "    number_string = str(number)\n",
    "    btc_date.append(datetime.strptime(number_string, '%m/%d/%Y').date())\n",
    "#btc_date\n",
    "\n",
    "pr_mkt_drg_new = np.array(drug_data)\n",
    "\n",
    "pr_mkt_date = []\n",
    "for number in pr_mkt_drg_new[:,6]:\n",
    "    number_string = str(number)\n",
    "    pr_mkt_date.append(datetime.strptime(number_string, '%Y-%m-%d %H:%M:%S').date())\n",
    "#pr_mkt_date"
   ]
  },
  {
   "cell_type": "code",
   "execution_count": 31,
   "metadata": {
    "collapsed": false,
    "scrolled": true
   },
   "outputs": [
    {
     "name": "stderr",
     "output_type": "stream",
     "text": [
      "WARNING: Some output was deleted.\n"
     ]
    }
   ],
   "source": [
    "#Convert bitcoin amount to USD\n",
    "dict_btc = dict(zip(btc_date, btc_price[:,1])) # store the bitcoin price as dict\n",
    "\n",
    "pr_mkt_df = drug_data\n",
    "\n",
    "# match the bitcoin historical price to our date features and shift the bitcoin amount to USD\n",
    "for i in range(len(pr_mkt_df)):\n",
    "    if pr_mkt_df.iloc[i][3] != -1.0:\n",
    "           if pr_mkt_date[i] in set(dict_btc.keys()):\n",
    "                pr_mkt_drg_new[i][4] = round(float(pr_mkt_drg_new[i][3])*(dict_btc[pr_mkt_date[i]]), 2)\n",
    "    else:\n",
    "        pr_mkt_drg_new[i][3] = 0\n",
    "\n",
    "#list of pr_mkt_drg_new when bitcoin = 0 and updated USD\n",
    "# pr_mkt_Price = []\n",
    "# for i in range(len(pr_mkt_df)):\n",
    "#     if pr_mkt_drg_new[i][3] != '-1':\n",
    "#         pr_mkt_Price.append(pr_mkt_drg_new[i][3])\n",
    "#     if pr_mkt_drg_new[i][4] != '-1':\n",
    "#         pr_mkt_Price.append(round(pr_mkt_drg_new[i][4],2))\n",
    "# print(pr_mkt_Price)\n",
    "\n",
    "\n",
    "#updated USD and bitcoin added to drug_data\n",
    "pr_mkt_drg_new[:,4]\n",
    "updated_usd = pr_mkt_drg_new[:,4]\n",
    "updated_bitcoin = pr_mkt_drg_new[:,3]\n",
    "drug_data['USD'] = updated_usd\n",
    "drug_data['bitcoin'] = updated_bitcoin\n",
    "drug_data"
   ]
  },
  {
   "cell_type": "code",
   "execution_count": 32,
   "metadata": {
    "collapsed": false,
    "scrolled": true
   },
   "outputs": [
    {
     "name": "stderr",
     "output_type": "stream",
     "text": [
      "WARNING: Some output was deleted.\n"
     ]
    }
   ],
   "source": [
    "#Rounding all values in USD to two decimals\n",
    "drug_data['USD'] = drug_data['USD'].astype(float)\n",
    "drug_data['USD'] = drug_data['USD'].round(2)\n",
    "drug_data"
   ]
  },
  {
   "cell_type": "markdown",
   "metadata": {
    "collapsed": false
   },
   "source": [
    "Pickle the dataframe (so that it can be used in another file)"
   ]
  },
  {
   "cell_type": "code",
   "execution_count": 33,
   "metadata": {
    "collapsed": false
   },
   "outputs": [
   ],
   "source": [
    "# product_descriptions.head()"
   ]
  },
  {
   "cell_type": "code",
   "execution_count": 34,
   "metadata": {
    "collapsed": false
   },
   "outputs": [
   ],
   "source": [
    "import pickle\n",
    "file = open('drug_data','wb')\n",
    "pickle.dump(drug_data, file)\n",
    "file.close()"
   ]
  },
  {
   "cell_type": "code",
   "execution_count": 35,
   "metadata": {
    "collapsed": false
   },
   "outputs": [
   ],
   "source": [
    "#Export as csv\n",
    "drug_data.to_csv('sorted_listings_v12.csv')"
   ]
  },
  {
   "cell_type": "code",
   "execution_count": 36,
   "metadata": {
    "collapsed": false
   },
   "outputs": [
   ],
   "source": [
    "#drug_data.product_description"
   ]
  },
  {
   "cell_type": "code",
   "execution_count": 37,
   "metadata": {
    "collapsed": false
   },
   "outputs": [
    {
     "data": {
      "text/html": [
       "<div>\n",
       "<style scoped>\n",
       "    .dataframe tbody tr th:only-of-type {\n",
       "        vertical-align: middle;\n",
       "    }\n",
       "\n",
       "    .dataframe tbody tr th {\n",
       "        vertical-align: top;\n",
       "    }\n",
       "\n",
       "    .dataframe thead th {\n",
       "        text-align: right;\n",
       "    }\n",
       "</style>\n",
       "<table border=\"1\" class=\"dataframe\">\n",
       "  <thead>\n",
       "    <tr style=\"text-align: right;\">\n",
       "      <th></th>\n",
       "      <th>transaction_id</th>\n",
       "      <th>vendor_id</th>\n",
       "      <th>vendor_name</th>\n",
       "      <th>bitcoin</th>\n",
       "      <th>USD</th>\n",
       "      <th>product_description</th>\n",
       "      <th>date</th>\n",
       "      <th>drug_prediction</th>\n",
       "      <th>rating</th>\n",
       "      <th>feedback</th>\n",
       "      <th>buyer_name</th>\n",
       "    </tr>\n",
       "  </thead>\n",
       "  <tbody>\n",
       "    <tr>\n",
       "      <th>9430</th>\n",
       "      <td>'10528</td>\n",
       "      <td>590</td>\n",
       "      <td>superclr</td>\n",
       "      <td>0</td>\n",
       "      <td>416.00</td>\n",
       "      <td>5 GRAMS GRADE AAA+ CARTEL TAN POWDER HEROIN</td>\n",
       "      <td>2018-11-02 06:43:01</td>\n",
       "      <td>[heroin]</td>\n",
       "      <td>5.0</td>\n",
       "      <td>Vendor did a great job 5 across the board exce...</td>\n",
       "      <td>#####</td>\n",
       "    </tr>\n",
       "    <tr>\n",
       "      <th>9431</th>\n",
       "      <td>'10529</td>\n",
       "      <td>590</td>\n",
       "      <td>superclr</td>\n",
       "      <td>0</td>\n",
       "      <td>416.00</td>\n",
       "      <td>5 GRAMS GRADE AAA+ CARTEL TAN POWDER HEROIN</td>\n",
       "      <td>2018-11-10 06:43:01</td>\n",
       "      <td>[heroin]</td>\n",
       "      <td>5.0</td>\n",
       "      <td>GREAT</td>\n",
       "      <td>#####</td>\n",
       "    </tr>\n",
       "    <tr>\n",
       "      <th>9432</th>\n",
       "      <td>'10530</td>\n",
       "      <td>1013</td>\n",
       "      <td>REAL_MEGASTORE</td>\n",
       "      <td>0</td>\n",
       "      <td>3.12</td>\n",
       "      <td>?CRAVETV.CA? PREMIUM</td>\n",
       "      <td>2018-12-27 06:43:06</td>\n",
       "      <td>[not_drugs]</td>\n",
       "      <td>5.0</td>\n",
       "      <td>Enter your comments here</td>\n",
       "      <td>#####</td>\n",
       "    </tr>\n",
       "    <tr>\n",
       "      <th>9433</th>\n",
       "      <td>'10531</td>\n",
       "      <td>1013</td>\n",
       "      <td>REAL_MEGASTORE</td>\n",
       "      <td>0</td>\n",
       "      <td>3.12</td>\n",
       "      <td>?CRAVETV.CA? PREMIUM</td>\n",
       "      <td>2018-12-27 06:43:06</td>\n",
       "      <td>[not_drugs]</td>\n",
       "      <td>5.0</td>\n",
       "      <td>Enter your comments here</td>\n",
       "      <td>#####</td>\n",
       "    </tr>\n",
       "    <tr>\n",
       "      <th>9435</th>\n",
       "      <td>'10533</td>\n",
       "      <td>92</td>\n",
       "      <td>OnionKings</td>\n",
       "      <td>0</td>\n",
       "      <td>109.12</td>\n",
       "      <td>Rivotril 2mg från apotek (Roche) [100st]</td>\n",
       "      <td>2018-12-21 06:43:11</td>\n",
       "      <td>[benzodiazepines]</td>\n",
       "      <td>5.0</td>\n",
       "      <td>Toppklass!! Snabb leverans. Allt perfekt!!!</td>\n",
       "      <td>#####</td>\n",
       "    </tr>\n",
       "  </tbody>\n",
       "</table>\n",
       "</div>"
      ],
      "text/plain": [
       "     transaction_id  vendor_id     vendor_name bitcoin     USD  \\\n",
       "9430         '10528        590        superclr       0  416.00   \n",
       "9431         '10529        590        superclr       0  416.00   \n",
       "9432         '10530       1013  REAL_MEGASTORE       0    3.12   \n",
       "9433         '10531       1013  REAL_MEGASTORE       0    3.12   \n",
       "9435         '10533         92      OnionKings       0  109.12   \n",
       "\n",
       "                              product_description                date  \\\n",
       "9430  5 GRAMS GRADE AAA+ CARTEL TAN POWDER HEROIN 2018-11-02 06:43:01   \n",
       "9431  5 GRAMS GRADE AAA+ CARTEL TAN POWDER HEROIN 2018-11-10 06:43:01   \n",
       "9432                         ?CRAVETV.CA? PREMIUM 2018-12-27 06:43:06   \n",
       "9433                         ?CRAVETV.CA? PREMIUM 2018-12-27 06:43:06   \n",
       "9435     Rivotril 2mg från apotek (Roche) [100st] 2018-12-21 06:43:11   \n",
       "\n",
       "        drug_prediction  rating  \\\n",
       "9430           [heroin]     5.0   \n",
       "9431           [heroin]     5.0   \n",
       "9432        [not_drugs]     5.0   \n",
       "9433        [not_drugs]     5.0   \n",
       "9435  [benzodiazepines]     5.0   \n",
       "\n",
       "                                               feedback buyer_name  \n",
       "9430  Vendor did a great job 5 across the board exce...      #####  \n",
       "9431                                              GREAT      #####  \n",
       "9432                           Enter your comments here      #####  \n",
       "9433                           Enter your comments here      #####  \n",
       "9435        Toppklass!! Snabb leverans. Allt perfekt!!!      #####  "
      ]
     },
     "execution_count": 37,
     "metadata": {
     },
     "output_type": "execute_result"
    }
   ],
   "source": [
    "drug_data.head()"
   ]
  },
  {
   "cell_type": "code",
   "execution_count": 38,
   "metadata": {
    "collapsed": false
   },
   "outputs": [
   ],
   "source": [
    "#function to convert list to string\n",
    "def flatten(drug_prediction):\n",
    "    str1 = ''.join(drug_prediction)\n",
    "    return str1\n",
    "\n",
    "#convert predictions from list to strings\n",
    "drug_data['drug_cats'] = drug_data.iloc[:,7].apply(flatten)"
   ]
  },
  {
   "cell_type": "code",
   "execution_count": 39,
   "metadata": {
    "collapsed": false,
    "scrolled": true
   },
   "outputs": [
   ],
   "source": [
    "uncategorized_listings = drug_data[drug_data['drug_cats'] == '']"
   ]
  },
  {
   "cell_type": "code",
   "execution_count": 40,
   "metadata": {
    "collapsed": false
   },
   "outputs": [
   ],
   "source": [
    "#Get all the unique listings that are uncategorized\n",
    "\n",
    "_ , unique_listing = pd.factorize(uncategorized_listings['product_description'])"
   ]
  },
  {
   "cell_type": "code",
   "execution_count": 41,
   "metadata": {
    "collapsed": false
   },
   "outputs": [
    {
     "data": {
      "text/plain": [
       "['(', 'masteron)100mgx10ml']"
      ]
     },
     "execution_count": 41,
     "metadata": {
     },
     "output_type": "execute_result"
    }
   ],
   "source": [
    "# print(unique_listing)\n",
    "tokenize_1('(Masteron)100mgx10ml')"
   ]
  },
  {
   "cell_type": "code",
   "execution_count": 42,
   "metadata": {
    "collapsed": false
   },
   "outputs": [
   ],
   "source": [
    "# for listing in unique_listing:\n",
    "#     print (listing)"
   ]
  },
  {
   "cell_type": "code",
   "execution_count": 43,
   "metadata": {
    "collapsed": false
   },
   "outputs": [
    {
     "data": {
      "text/plain": [
       "216"
      ]
     },
     "execution_count": 43,
     "metadata": {
     },
     "output_type": "execute_result"
    }
   ],
   "source": [
    "len(unique_listing)"
   ]
  },
  {
   "cell_type": "code",
   "execution_count": 44,
   "metadata": {
    "collapsed": false,
    "scrolled": true
   },
   "outputs": [
   ],
   "source": [
    "#version with strings instead of a list\n",
    "import pickle\n",
    "file=open('drug_data' , 'wb')\n",
    "pickle.dump(drug_data, file)\n",
    "file.close()"
   ]
  },
  {
   "cell_type": "code",
   "execution_count": 0,
   "metadata": {
    "collapsed": false
   },
   "outputs": [
   ],
   "source": [
   ]
  }
 ],
 "metadata": {
  "kernelspec": {
   "display_name": "Python 3 (system-wide)",
   "language": "python",
   "metadata": {
    "cocalc": {
     "description": "Python 3 programming language",
     "priority": 100,
     "url": "https://www.python.org/"
    }
   },
   "name": "python3"
  },
  "language_info": {
   "codemirror_mode": {
    "name": "ipython",
    "version": 3
   },
   "file_extension": ".py",
   "mimetype": "text/x-python",
   "name": "python",
   "nbconvert_exporter": "python",
   "pygments_lexer": "ipython3",
   "version": "3.6.8"
  }
 },
 "nbformat": 4,
 "nbformat_minor": 0
}