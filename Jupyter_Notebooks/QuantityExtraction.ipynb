{
 "cells": [
  {
   "cell_type": "code",
   "execution_count": 269,
   "metadata": {
    "collapsed": false
   },
   "outputs": [
   ],
   "source": [
    "import numpy as np\n",
    "import pandas as pd\n",
    "import matplotlib.pyplot as plt\n",
    "from itertools import compress\n",
    "\n",
    "from datetime import datetime\n",
    "from dateutil.parser import parse\n",
    "\n",
    "import math\n",
    "import os\n",
    "import copy\n",
    "import pickle"
   ]
  },
  {
   "cell_type": "markdown",
   "metadata": {
    "collapsed": false
   },
   "source": [
    "Create `conversion` dictionary, containing conversion from every metric to grams"
   ]
  },
  {
   "cell_type": "code",
   "execution_count": 270,
   "metadata": {
    "collapsed": false
   },
   "outputs": [
   ],
   "source": [
    "conversion_dict = dict({'g': 1,\n",
    "                         'kg': 1000,\n",
    "                         'kilo': 1000,\n",
    "                         'lb': 453.592,\n",
    "                         'mcg': 1e-06,\n",
    "                         'mg': 0.001,\n",
    "                         'ounce': 28.35,\n",
    "                         'oz': 28.35,\n",
    "                         'pound': 453.592,\n",
    "                         'ug': 1e-06,\n",
    "                         '¬ug': 1e-06,\n",
    "                         '¬µg': 1e-06,\n",
    "                         'µg': 1e-06,\n",
    "                          'ml': 1,\n",
    "                          0: 0})"
   ]
  },
  {
   "cell_type": "code",
   "execution_count": 271,
   "metadata": {
    "collapsed": false
   },
   "outputs": [
   ],
   "source": [
    "data = pd.read_csv(\"marijuana_unique.csv\")"
   ]
  },
  {
   "cell_type": "code",
   "execution_count": 272,
   "metadata": {
    "collapsed": false
   },
   "outputs": [
   ],
   "source": [
    "data = data.fillna(0)"
   ]
  },
  {
   "cell_type": "code",
   "execution_count": 273,
   "metadata": {
    "collapsed": false,
    "scrolled": true
   },
   "outputs": [
    {
     "data": {
      "text/html": [
       "<div>\n",
       "<style scoped>\n",
       "    .dataframe tbody tr th:only-of-type {\n",
       "        vertical-align: middle;\n",
       "    }\n",
       "\n",
       "    .dataframe tbody tr th {\n",
       "        vertical-align: top;\n",
       "    }\n",
       "\n",
       "    .dataframe thead th {\n",
       "        text-align: right;\n",
       "    }\n",
       "</style>\n",
       "<table border=\"1\" class=\"dataframe\">\n",
       "  <thead>\n",
       "    <tr style=\"text-align: right;\">\n",
       "      <th></th>\n",
       "      <th>vendor_name</th>\n",
       "      <th>bitcoin_amt</th>\n",
       "      <th>USD</th>\n",
       "      <th>date</th>\n",
       "      <th>product_description</th>\n",
       "      <th>Count</th>\n",
       "      <th>can_be_vaped</th>\n",
       "      <th>is_edible</th>\n",
       "      <th>THC purity (%)</th>\n",
       "      <th>Quantity/mass</th>\n",
       "      <th>Unit</th>\n",
       "      <th>Unit mass in grams</th>\n",
       "      <th>Total mass in grams</th>\n",
       "    </tr>\n",
       "  </thead>\n",
       "  <tbody>\n",
       "    <tr>\n",
       "      <th>0</th>\n",
       "      <td>Cannabuds</td>\n",
       "      <td>-1.0</td>\n",
       "      <td>51.50</td>\n",
       "      <td>2018-11-01 0:00:00</td>\n",
       "      <td>4g Shatter! Lemon Tree! New Vendor Special!</td>\n",
       "      <td>0.0</td>\n",
       "      <td>0</td>\n",
       "      <td>0.0</td>\n",
       "      <td>0.0</td>\n",
       "      <td>0.0</td>\n",
       "      <td>0</td>\n",
       "      <td>4.0</td>\n",
       "      <td>0.0</td>\n",
       "    </tr>\n",
       "    <tr>\n",
       "      <th>1</th>\n",
       "      <td>Cannabuds</td>\n",
       "      <td>-1.0</td>\n",
       "      <td>11.67</td>\n",
       "      <td>2018-07-04 0:00:00</td>\n",
       "      <td>1g Rosin! Lemon Tree! (Nug run) New Vendor Spe...</td>\n",
       "      <td>0.0</td>\n",
       "      <td>0</td>\n",
       "      <td>0.0</td>\n",
       "      <td>0.0</td>\n",
       "      <td>0.0</td>\n",
       "      <td>0</td>\n",
       "      <td>1.0</td>\n",
       "      <td>0.0</td>\n",
       "    </tr>\n",
       "    <tr>\n",
       "      <th>2</th>\n",
       "      <td>Cannabuds</td>\n",
       "      <td>-1.0</td>\n",
       "      <td>138.00</td>\n",
       "      <td>2018-12-08 0:00:00</td>\n",
       "      <td>1 oz Master Kush! New Vendor Special</td>\n",
       "      <td>0.0</td>\n",
       "      <td>0</td>\n",
       "      <td>0.0</td>\n",
       "      <td>0.0</td>\n",
       "      <td>1.0</td>\n",
       "      <td>oz</td>\n",
       "      <td>0.0</td>\n",
       "      <td>0.0</td>\n",
       "    </tr>\n",
       "    <tr>\n",
       "      <th>3</th>\n",
       "      <td>Cannabuds</td>\n",
       "      <td>-1.0</td>\n",
       "      <td>108.00</td>\n",
       "      <td>2018-08-07 0:00:00</td>\n",
       "      <td>1 oz Fruity Pebbles OG! New Vendor Special</td>\n",
       "      <td>0.0</td>\n",
       "      <td>0</td>\n",
       "      <td>0.0</td>\n",
       "      <td>0.0</td>\n",
       "      <td>1.0</td>\n",
       "      <td>oz</td>\n",
       "      <td>0.0</td>\n",
       "      <td>0.0</td>\n",
       "    </tr>\n",
       "    <tr>\n",
       "      <th>4</th>\n",
       "      <td>Cannabuds</td>\n",
       "      <td>-1.0</td>\n",
       "      <td>60.00</td>\n",
       "      <td>2018-12-23 0:00:00</td>\n",
       "      <td>5g Shatter! Lemon Tree! New Vendor Special!</td>\n",
       "      <td>0.0</td>\n",
       "      <td>0</td>\n",
       "      <td>0.0</td>\n",
       "      <td>0.0</td>\n",
       "      <td>0.0</td>\n",
       "      <td>0</td>\n",
       "      <td>5.0</td>\n",
       "      <td>0.0</td>\n",
       "    </tr>\n",
       "  </tbody>\n",
       "</table>\n",
       "</div>"
      ],
      "text/plain": [
       "  vendor_name  bitcoin_amt     USD                date  \\\n",
       "0   Cannabuds         -1.0   51.50  2018-11-01 0:00:00   \n",
       "1   Cannabuds         -1.0   11.67  2018-07-04 0:00:00   \n",
       "2   Cannabuds         -1.0  138.00  2018-12-08 0:00:00   \n",
       "3   Cannabuds         -1.0  108.00  2018-08-07 0:00:00   \n",
       "4   Cannabuds         -1.0   60.00  2018-12-23 0:00:00   \n",
       "\n",
       "                                 product_description  Count can_be_vaped  \\\n",
       "0        4g Shatter! Lemon Tree! New Vendor Special!    0.0            0   \n",
       "1  1g Rosin! Lemon Tree! (Nug run) New Vendor Spe...    0.0            0   \n",
       "2               1 oz Master Kush! New Vendor Special    0.0            0   \n",
       "3         1 oz Fruity Pebbles OG! New Vendor Special    0.0            0   \n",
       "4        5g Shatter! Lemon Tree! New Vendor Special!    0.0            0   \n",
       "\n",
       "   is_edible  THC purity (%)  Quantity/mass Unit  Unit mass in grams  \\\n",
       "0        0.0             0.0            0.0    0                 4.0   \n",
       "1        0.0             0.0            0.0    0                 1.0   \n",
       "2        0.0             0.0            1.0   oz                 0.0   \n",
       "3        0.0             0.0            1.0   oz                 0.0   \n",
       "4        0.0             0.0            0.0    0                 5.0   \n",
       "\n",
       "   Total mass in grams  \n",
       "0                  0.0  \n",
       "1                  0.0  \n",
       "2                  0.0  \n",
       "3                  0.0  \n",
       "4                  0.0  "
      ]
     },
     "execution_count": 273,
     "metadata": {
     },
     "output_type": "execute_result"
    }
   ],
   "source": [
    "data.head()"
   ]
  },
  {
   "cell_type": "code",
   "execution_count": 274,
   "metadata": {
    "collapsed": false,
    "scrolled": true
   },
   "outputs": [
   ],
   "source": [
    "#Take out all deleted listings\n",
    "data = data[data.product_description != 0]"
   ]
  },
  {
   "cell_type": "code",
   "execution_count": 275,
   "metadata": {
    "collapsed": false
   },
   "outputs": [
    {
     "name": "stdout",
     "output_type": "stream",
     "text": [
      "Unique units:  Index([        0,      'oz',      'ml',      'lb',     'bar',      'mg',\n",
      "       'capsule',      'kg',     'ltr',       'g',    'seed',       '0',\n",
      "          'pill'],\n",
      "      dtype='object')\n",
      "Unit list:  [0, 'oz', 'ml', 'lb', 'mg', 'kg', 'g']\n"
     ]
    }
   ],
   "source": [
    "#Make a list of all the wanted units\n",
    "_, unique_units = pd.factorize(data['Unit'])\n",
    "\n",
    "print ('Unique units: ', unique_units)\n",
    "\n",
    "units_list = [0, 'oz', 'ml', 'lb', 'mg', 'kg', 'g']\n",
    "\n",
    "print ('Unit list: ', units_list)"
   ]
  },
  {
   "cell_type": "code",
   "execution_count": 276,
   "metadata": {
    "collapsed": false,
    "scrolled": true
   },
   "outputs": [
   ],
   "source": [
    "#Get data that have units in unit list\n",
    "data = data[data.Unit.isin(units_list)]"
   ]
  },
  {
   "cell_type": "code",
   "execution_count": 277,
   "metadata": {
    "collapsed": false
   },
   "outputs": [
   ],
   "source": [
    "#Set new names for columns in dataframe\n",
    "data.columns = ['vendor_name', 'bitcoin_amt', 'USD', 'date', 'product_description',\n",
    "       'Count', 'can_be_vaped', 'is_edible', 'THC_purity', 'Quantity',\n",
    "       'Unit', 'Unit_mass_in_grams', 'Total_mass_in_grams']"
   ]
  },
  {
   "cell_type": "code",
   "execution_count": 278,
   "metadata": {
    "collapsed": false,
    "scrolled": true
   },
   "outputs": [
   ],
   "source": [
    "#convert unit mass column to float\n",
    "data.Unit_mass_in_grams = data.Unit_mass_in_grams.astype(float)"
   ]
  },
  {
   "cell_type": "code",
   "execution_count": 279,
   "metadata": {
    "collapsed": false
   },
   "outputs": [
   ],
   "source": [
    "#define function to get the conversion for each rate of each row\n",
    "def getTotalMassWithUnit(count,quantity,unit):\n",
    "    if count == 0:\n",
    "        totalMass = quantity * conversion_dict[unit]\n",
    "    elif quantity == 0:\n",
    "        totalMass = count * conversion_dict[unit]\n",
    "    else:\n",
    "        totalMass = (count * quantity) * conversion_dict[unit]\n",
    "        \n",
    "    return totalMass"
   ]
  },
  {
   "cell_type": "code",
   "execution_count": 280,
   "metadata": {
    "collapsed": false
   },
   "outputs": [
   ],
   "source": [
    "#define function to get the conversion for each rate of each row\n",
    "def getTotalMassWithGram(count,quantity,gram):\n",
    "    if count == 0 and quantity == 0:\n",
    "        totalMass = gram\n",
    "    elif quantity == 0 and count != 0:\n",
    "        totalMass = count * gram\n",
    "    elif count == 0 and quantity != 0:\n",
    "        totalMass = quantity * gram\n",
    "        \n",
    "    return totalMass"
   ]
  },
  {
   "cell_type": "code",
   "execution_count": 281,
   "metadata": {
    "collapsed": false
   },
   "outputs": [
   ],
   "source": [
    "#for every row that has a Unit in units list and a total mass of 0\n",
    "for index, row in data.iterrows():\n",
    "    if (row['Unit'] in units_list and row['Total_mass_in_grams'] == 0):\n",
    "        data.at[index, 'Total_mass_in_grams'] = getTotalMassWithUnit(row['Count'], row['Quantity'],row['Unit'])"
   ]
  },
  {
   "cell_type": "code",
   "execution_count": 282,
   "metadata": {
    "collapsed": false
   },
   "outputs": [
   ],
   "source": [
    "for index, row in data.iterrows():\n",
    "    if row['Unit_mass_in_grams'] != 0:\n",
    "        data.at[index, 'Total_mass_in_grams'] = getTotalMassWithGram(row['Count'], row['Quantity'],row['Unit_mass_in_grams'])"
   ]
  },
  {
   "cell_type": "code",
   "execution_count": 284,
   "metadata": {
    "collapsed": false,
    "scrolled": true
   },
   "outputs": [
    {
     "data": {
      "text/plain": [
       "277"
      ]
     },
     "execution_count": 284,
     "metadata": {
     },
     "output_type": "execute_result"
    }
   ],
   "source": [
    "# len (data[data['Total_mass_in_grams'] == 0])"
   ]
  },
  {
   "cell_type": "code",
   "execution_count": 263,
   "metadata": {
    "collapsed": false
   },
   "outputs": [
   ],
   "source": [
    "#If values in columns 5,6,7,9,10 == 0 then set the 'Unit mass in grams' column = 'Total mass in grams'\n",
    "\n",
    "#FOR EVERY ROW IN DATA\n",
    "# for index, row in data.iterrows():\n",
    "#     #IF ROWS 5 - 10 ARE ZEROS, SET 'TOTAL' = 'UNIT'\n",
    "#     if row['Count'] == 0 and row['can_be_vaped'] == 0 and row['is_edible'] == 0 and row ['THC_purity'] == 0 and row['Quantity'] == 0 and row['Unit'] == 0:\n",
    "#         data.at[index, 'Total_mass_in_grams'] = data.at[index, 'Unit_mass_in_grams']\n",
    "#     #ELSE IF ROW DOESNT EQUAL ZERO GET MASS OF THAT ROW\n",
    "#     elif row['Unit_mass_in_grams'] != 0:\n",
    "#         data.at[index, 'Total_mass_in_grams'] = getTotalMassWithGram(row['Count'], row['Quantity'],row['Unit_mass_in_grams'])"
   ]
  },
  {
   "cell_type": "code",
   "execution_count": 215,
   "metadata": {
    "collapsed": false,
    "scrolled": true
   },
   "outputs": [
   ],
   "source": [
    "#for the remaining listings in where Total Mass = 0 \n",
    "    #if unit mass != 0, get total mass\n",
    "# for index, row in subset_data.iterrows():\n",
    "#     if (row['Unit_mass_in_grams'] != 0):\n",
    "#         data.at[index, 'Total_mass_in_grams'] = row['Count'] * row['Quantity'] * row ['Unit_mass_in_grams']"
   ]
  },
  {
   "cell_type": "code",
   "execution_count": 285,
   "metadata": {
    "collapsed": false
   },
   "outputs": [
   ],
   "source": [
    "#Export dataframe as csv\n",
    "data.to_csv(r'Total_Marijuana_Mass.csv')"
   ]
  },
  {
   "cell_type": "code",
   "execution_count": 0,
   "metadata": {
    "collapsed": false
   },
   "outputs": [
   ],
   "source": [
   ]
  }
 ],
 "metadata": {
  "kernelspec": {
   "display_name": "Python 3 (system-wide)",
   "language": "python",
   "metadata": {
    "cocalc": {
     "description": "Python 3 programming language",
     "priority": 100,
     "url": "https://www.python.org/"
    }
   },
   "name": "python3"
  },
  "language_info": {
   "codemirror_mode": {
    "name": "ipython",
    "version": 3
   },
   "file_extension": ".py",
   "mimetype": "text/x-python",
   "name": "python",
   "nbconvert_exporter": "python",
   "pygments_lexer": "ipython3",
   "version": "3.6.8"
  }
 },
 "nbformat": 4,
 "nbformat_minor": 0
}