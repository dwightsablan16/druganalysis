{
 "cells": [
  {
   "cell_type": "code",
   "execution_count": 3,
   "metadata": {
    "collapsed": false
   },
   "outputs": [
   ],
   "source": [
    "import numpy as np\n",
    "import pandas as pd\n",
    "import matplotlib.pyplot as plt\n",
    "from itertools import compress\n",
    "\n",
    "import datetime\n",
    "from dateutil.parser import parse\n",
    "\n",
    "import math\n",
    "import os\n",
    "import copy\n",
    "import pickle\n",
    "\n",
    "import drugLookup"
   ]
  },
  {
   "cell_type": "code",
   "execution_count": 4,
   "metadata": {
    "collapsed": false
   },
   "outputs": [
   ],
   "source": [
    "# Read in data (from pickle file)\n",
    "file = open('train_set_filtered','rb')\n",
    "train_set = pickle.load(file)\n",
    "\n",
    "file = open('test_set_filtered','rb')\n",
    "test_set = pickle.load(file)"
   ]
  },
  {
   "cell_type": "code",
   "execution_count": 5,
   "metadata": {
    "collapsed": false
   },
   "outputs": [
   ],
   "source": [
    "d_train = list(train_set['drug_prediction'])\n",
    "v_train = list(train_set['vendor_name'])\n",
    "\n",
    "d_test = list(test_set['drug_prediction'])\n",
    "v_test = list(test_set['vendor_name'])"
   ]
  },
  {
   "cell_type": "code",
   "execution_count": 6,
   "metadata": {
    "collapsed": false
   },
   "outputs": [
   ],
   "source": [
    "# Do time binning: i.e. classify each transaction into given time interval\n",
    "from datetime import datetime, date, time, timedelta\n",
    "\n",
    "start = time(0,0,0,0) # first interval start date\n",
    "interval = 5 # length of interval (minutes)\n",
    "\n",
    "def addTimes(start_time, duration):\n",
    "    # Function to add minutes to datetime.time() object\n",
    "    dt = datetime.combine(date.today(), start_time) # create arbitrary date\n",
    "    return((dt + timedelta(minutes = duration)).time())\n",
    "\n",
    "#  Function to check if time is in a time interval\n",
    "def timeInInterval(start_time, duration, check_time):\n",
    "    end_time = addTimes(start_time, duration)\n",
    "    cond1 = start_time <= check_time\n",
    "    cond2 = check_time < end_time\n",
    "    return(cond1 and cond2)\n",
    "\n",
    "# Function to classify given time into one of given bins\n",
    "def binTime(time1, start_times, duration = interval):\n",
    "    time_bin = [start_time for start_time in start_times if timeInInterval(start_time, duration, time1.time())]\n",
    "    if len(time_bin) == 0:\n",
    "        return(start_times[-1])\n",
    "    else:\n",
    "        return(time_bin[0])\n",
    "    \n",
    "# Create list of time intervals\n",
    "# Get list of interval start dates\n",
    "n_intervals = int(24*60/interval) # compute number of intervals in 24 hour period\n",
    "slide_amount = interval # amount to slide window (if no overlap desired, set equal to interval)\n",
    "\n",
    "# Get all intervals in 24 hour period\n",
    "interval_starts = [addTimes(start_time = start, duration = slide_amount * n) for n in range(n_intervals)]"
   ]
  },
  {
   "cell_type": "code",
   "execution_count": 7,
   "metadata": {
    "collapsed": false
   },
   "outputs": [
   ],
   "source": [
    "# For given vendor, count the number of transactions in each time_bin\n",
    "train_set['time_bin'] = train_set['date'].apply(binTime, start_times = interval_starts)"
   ]
  },
  {
   "cell_type": "markdown",
   "metadata": {
    "collapsed": false
   },
   "source": [
    "## Encoding data to numerical values"
   ]
  },
  {
   "cell_type": "code",
   "execution_count": 8,
   "metadata": {
    "collapsed": false
   },
   "outputs": [
   ],
   "source": [
    "# Convert categorical variables into numerical classes\n",
    "from sklearn.preprocessing import LabelEncoder\n",
    "\n",
    "# Encode drugs\n",
    "drug_le = LabelEncoder()\n",
    "drug_le.fit(train_set['drug_prediction'])\n",
    "train_drugs_encoded = drug_le.transform(train_set['drug_prediction'])\n",
    "\n",
    "# Encode times\n",
    "time_bin_le = LabelEncoder()\n",
    "time_bin_le.fit(train_set['time_bin'])\n",
    "train_times_encoded = time_bin_le.transform(train_set['time_bin'])\n",
    "\n",
    "# Encode vendors\n",
    "vendor_le = LabelEncoder()\n",
    "vendor_le.fit(train_set['vendor_name'])\n",
    "train_vendors_encoded = vendor_le.transform(train_set['vendor_name'])\n",
    "\n",
    "# Create feature matrices and label vectors\n",
    "X_train = pd.DataFrame({'drug':train_drugs_encoded, 'time_bin':train_times_encoded})\n",
    "y_train = train_vendors_encoded"
   ]
  },
  {
   "cell_type": "code",
   "execution_count": 9,
   "metadata": {
    "collapsed": false
   },
   "outputs": [
    {
     "name": "stdout",
     "output_type": "stream",
     "text": [
      "['ketamine', 'ketamine', 'methamphetamine', 'heroin', 'ketamine', 'ketamine', 'cocaine', 'ketamine', 'dmt', 'ketamine']\n",
      "0     8\n",
      "1     8\n",
      "2    11\n",
      "3     7\n",
      "4     8\n",
      "5     8\n",
      "6     3\n",
      "7     8\n",
      "8     4\n",
      "9     8\n",
      "Name: drug, dtype: int64\n",
      "['ketamine' 'ketamine' 'methamphetamine' 'heroin' 'ketamine' 'ketamine'\n",
      " 'cocaine' 'ketamine' 'dmt' 'ketamine']\n",
      "\n",
      "\n",
      "\n",
      "[datetime.time(19, 10), datetime.time(19, 10), datetime.time(22, 15), datetime.time(2, 0), datetime.time(19, 10), datetime.time(19, 10), datetime.time(20, 40), datetime.time(1, 50), datetime.time(1, 55), datetime.time(19, 10)]\n",
      "0     77\n",
      "1     77\n",
      "2    109\n",
      "3      4\n",
      "4     77\n",
      "5     77\n",
      "6     95\n",
      "7      2\n",
      "8      3\n",
      "9     77\n",
      "Name: time_bin, dtype: int64\n",
      "[datetime.time(19, 10) datetime.time(19, 10) datetime.time(22, 15)\n",
      " datetime.time(2, 0) datetime.time(19, 10) datetime.time(19, 10)\n",
      " datetime.time(20, 40) datetime.time(1, 50) datetime.time(1, 55)\n",
      " datetime.time(19, 10)]\n",
      "\n",
      "\n",
      "\n",
      "['hiddenhands', 'hiddenhands', 'drugpharmacist', 'trotters_stash', 'hiddenhands', 'hiddenhands', 'drugkingz', 'ScarlettsK', 'puremedicinehouse', 'hiddenhands']\n",
      "[142 142 133 182 142 142 132  96 167 142]\n",
      "['hiddenhands' 'hiddenhands' 'drugpharmacist' 'trotters_stash'\n",
      " 'hiddenhands' 'hiddenhands' 'drugkingz' 'ScarlettsK' 'puremedicinehouse'\n",
      " 'hiddenhands']\n"
     ]
    }
   ],
   "source": [
    "n = 10\n",
    "print(list(train_set['drug_prediction'])[:n])\n",
    "print(X_train['drug'][:n])\n",
    "print(drug_le.inverse_transform(X_train['drug'][:n]))\n",
    "print('\\n\\n')\n",
    "print(list(train_set['time_bin'])[:n])\n",
    "print(X_train['time_bin'][:n])\n",
    "print(time_bin_le.inverse_transform(X_train['time_bin'][:n]))\n",
    "\n",
    "print('\\n\\n')\n",
    "print(list(train_set['vendor_name'])[:n])\n",
    "print(y_train[:n])\n",
    "print(vendor_le.inverse_transform(y_train[:n]))"
   ]
  },
  {
   "cell_type": "markdown",
   "metadata": {
    "collapsed": false
   },
   "source": [
    "## Model training"
   ]
  },
  {
   "cell_type": "code",
   "execution_count": 31,
   "metadata": {
    "collapsed": false
   },
   "outputs": [
    {
     "data": {
      "text/plain": [
       "array([142, 142, 133, ...,  44,  84,  99])"
      ]
     },
     "execution_count": 31,
     "metadata": {
     },
     "output_type": "execute_result"
    }
   ],
   "source": [
    "# X_train\n",
    "# y_train"
   ]
  },
  {
   "cell_type": "code",
   "execution_count": 56,
   "metadata": {
    "collapsed": false
   },
   "outputs": [
    {
     "data": {
      "text/plain": [
       "MultinomialNB(alpha=1.0, class_prior=None, fit_prior=True)"
      ]
     },
     "execution_count": 56,
     "metadata": {
     },
     "output_type": "execute_result"
    }
   ],
   "source": [
    "from sklearn.naive_bayes import MultinomialNB\n",
    "\n",
    "# Train Naïve-Bayes model\n",
    "nb_model = MultinomialNB()\n",
    "nb_model.fit(X_train, y_train)"
   ]
  },
  {
   "cell_type": "markdown",
   "metadata": {
    "collapsed": false
   },
   "source": [
    "## Evaluating the model"
   ]
  },
  {
   "cell_type": "code",
   "execution_count": 57,
   "metadata": {
    "collapsed": false
   },
   "outputs": [
   ],
   "source": [
    "# Bin time values in the test set\n",
    "test_set['time_bin'] = test_set['date'].apply(binTime, start_times = interval_starts)\n",
    "\n",
    "# Encode drugs and times in test set\n",
    "test_drugs_encoded = drug_le.transform(test_set['drug_prediction'])\n",
    "test_times_encoded = time_bin_le.transform(test_set['time_bin'])\n",
    "\n",
    "# Create feature matrix and vector of corresponding labels\n",
    "X_test = pd.DataFrame({'drug':test_drugs_encoded, 'time_bin':test_times_encoded})\n",
    "y_test = vendor_le.transform(test_set['vendor_name'])"
   ]
  },
  {
   "cell_type": "code",
   "execution_count": 58,
   "metadata": {
    "collapsed": false
   },
   "outputs": [
    {
     "data": {
      "text/plain": [
       "array([ 27, 164, 164, ..., 170, 170,  23])"
      ]
     },
     "execution_count": 58,
     "metadata": {
     },
     "output_type": "execute_result"
    }
   ],
   "source": [
    "# X_test\n",
    "# y_test"
   ]
  },
  {
   "cell_type": "code",
   "execution_count": 47,
   "metadata": {
    "collapsed": false
   },
   "outputs": [
   ],
   "source": [
    "# Function to get list of indices with max value\n",
    "def multi_argmax(v, n):\n",
    "#     v is vector \n",
    "#     n is number of maximum indices to return\n",
    "    max_indices = []\n",
    "    temp = copy.deepcopy(v)\n",
    "    while len(max_indices) < n:\n",
    "        max_idx = np.argmax(temp)\n",
    "        max_indices.append(max_idx)\n",
    "        temp[max_idx] = -1\n",
    "    return(max_indices)"
   ]
  },
  {
   "cell_type": "code",
   "execution_count": 48,
   "metadata": {
    "collapsed": false
   },
   "outputs": [
   ],
   "source": [
    "# Function to get the top class predictions using model.predict_proba\n",
    "def get_top_n(prob_vector, n, encoder = vendor_le):\n",
    "    max_indices = multi_argmax(prob_vector, n)\n",
    "    max_vendors = encoder.inverse_transform(max_indices)\n",
    "    return(max_vendors)"
   ]
  },
  {
   "cell_type": "code",
   "execution_count": 49,
   "metadata": {
    "collapsed": false
   },
   "outputs": [
   ],
   "source": [
    "# Get probability predictions for each transaction in the dataset\n",
    "prob_ar = nb_model.predict_proba(X_test)\n",
    "vendor_preds = np.apply_along_axis(get_top_n, 1, prob_ar, n = 15)"
   ]
  },
  {
   "cell_type": "code",
   "execution_count": 50,
   "metadata": {
    "collapsed": false
   },
   "outputs": [
   ],
   "source": [
    "# Get accuracy\n",
    "# Compute 'top n' accuracy\n",
    "def get_top_n_acc(actuals, preds, n):\n",
    "    q = zip(actuals, preds)\n",
    "    if n == 1:\n",
    "        ar = [samp[0] == samp[1][0] for samp in q]\n",
    "    else:\n",
    "        ar = [samp[0] in samp[1][:n] for samp in q]\n",
    "    acc = np.sum(ar)/len(ar)\n",
    "    return(round(acc,4))"
   ]
  },
  {
   "cell_type": "code",
   "execution_count": 51,
   "metadata": {
    "collapsed": false
   },
   "outputs": [
    {
     "name": "stdout",
     "output_type": "stream",
     "text": [
      "Top 1 accuracy : 0.0224\n",
      "Top 5 accuracy : 0.0821\n",
      "Top 10 accuracy: 0.1754\n"
     ]
    }
   ],
   "source": [
    "print('Top 1 accuracy :',get_top_n_acc(vendor_le.inverse_transform(y_test), vendor_preds, 1))\n",
    "print('Top 5 accuracy :',get_top_n_acc(vendor_le.inverse_transform(y_test), vendor_preds, 5))\n",
    "print('Top 10 accuracy:',get_top_n_acc(vendor_le.inverse_transform(y_test), vendor_preds, 10))"
   ]
  },
  {
   "cell_type": "code",
   "execution_count": 52,
   "metadata": {
    "collapsed": false,
    "scrolled": true
   },
   "outputs": [
   ],
   "source": [
    "vendor_preds2 = nb_model.predict(X_test)\n",
    "df = pd.DataFrame({'actuals': vendor_le.inverse_transform(y_test),\\\n",
    "                   'preds': vendor_le.inverse_transform(vendor_preds2)})"
   ]
  },
  {
   "cell_type": "code",
   "execution_count": 53,
   "metadata": {
    "collapsed": false
   },
   "outputs": [
    {
     "name": "stdout",
     "output_type": "stream",
     "text": [
      "0.034415346393516066\n"
     ]
    }
   ],
   "source": [
    "print (nb_model.score(X_train, y_train))"
   ]
  },
  {
   "cell_type": "code",
   "execution_count": 0,
   "metadata": {
    "collapsed": false
   },
   "outputs": [
   ],
   "source": [
   ]
  }
 ],
 "metadata": {
  "kernelspec": {
   "display_name": "Python 3 (system-wide)",
   "language": "python",
   "metadata": {
    "cocalc": {
     "description": "Python 3 programming language",
     "priority": 100,
     "url": "https://www.python.org/"
    }
   },
   "name": "python3"
  },
  "language_info": {
   "codemirror_mode": {
    "name": "ipython",
    "version": 3
   },
   "file_extension": ".py",
   "mimetype": "text/x-python",
   "name": "python",
   "nbconvert_exporter": "python",
   "pygments_lexer": "ipython3",
   "version": "3.6.8"
  }
 },
 "nbformat": 4,
 "nbformat_minor": 0
}